{
  "cells": [
    {
      "cell_type": "markdown",
      "metadata": {
        "id": "view-in-github",
        "colab_type": "text"
      },
      "source": [
        "<a href=\"https://colab.research.google.com/github/NicoMyshkin/Data-Transformation/blob/main/DataTransformation.ipynb\" target=\"_parent\"><img src=\"https://colab.research.google.com/assets/colab-badge.svg\" alt=\"Open In Colab\"/></a>"
      ]
    },
    {
      "cell_type": "code",
      "source": [
        "from google.colab import drive\n",
        "drive.mount('/content/drive')"
      ],
      "metadata": {
        "colab": {
          "base_uri": "https://localhost:8080/"
        },
        "id": "dhk8OvD0cER2",
        "outputId": "9b9c5257-43ff-4f45-a944-8ced22f0e652"
      },
      "execution_count": 1,
      "outputs": [
        {
          "output_type": "stream",
          "name": "stdout",
          "text": [
            "Mounted at /content/drive\n"
          ]
        }
      ]
    },
    {
      "cell_type": "markdown",
      "metadata": {
        "id": "p2WiliZCb36s"
      },
      "source": [
        "# Data Transformation"
      ]
    },
    {
      "cell_type": "markdown",
      "metadata": {
        "id": "jShhvZNob361"
      },
      "source": [
        "## What is data transformation?\n",
        "\n",
        "Many times in real life, you will be working with imperfect datasets with quality issues. **Data transformation** is the process of modifying a dataset in appropriate ways in order to eliminate these quality issues. Some of these activities include:\n",
        "\n",
        "- Splitting columns\n",
        "- Converting dates to `datetime` objects, which are far more easily manipulable using `pandas` libraries\n",
        "- Encoding categorical variables\n",
        "- Dealing with and replacing null or missing values\n",
        "- Creating unique identifiers\n",
        "\n",
        "The `pandas` library has many functions which can help with this task. In addition, you will also be using some other standard libraries like `String`, `base64`, and `sklearn`."
      ]
    },
    {
      "cell_type": "code",
      "execution_count": 2,
      "metadata": {
        "colab": {
          "base_uri": "https://localhost:8080/",
          "height": 35
        },
        "id": "mR71qQQWb363",
        "outputId": "e680cc5f-f08e-44ba-80be-5c6d1e630908"
      },
      "outputs": [
        {
          "output_type": "execute_result",
          "data": {
            "application/vnd.google.colaboratory.intrinsic+json": {
              "type": "string"
            },
            "text/plain": [
              "'1.0.1'"
            ]
          },
          "metadata": {},
          "execution_count": 2
        }
      ],
      "source": [
        "import sklearn\n",
        "sklearn.__version__"
      ]
    },
    {
      "cell_type": "code",
      "execution_count": 3,
      "metadata": {
        "colab": {
          "base_uri": "https://localhost:8080/",
          "height": 531
        },
        "id": "sNiBRTHWb369",
        "outputId": "f9a9fc0b-4151-4457-b78f-2d6eaf7bf912"
      },
      "outputs": [
        {
          "output_type": "execute_result",
          "data": {
            "text/html": [
              "\n",
              "  <div id=\"df-b737b6cb-87d9-41c4-b03c-6b90c1d6b636\">\n",
              "    <div class=\"colab-df-container\">\n",
              "      <div>\n",
              "<style scoped>\n",
              "    .dataframe tbody tr th:only-of-type {\n",
              "        vertical-align: middle;\n",
              "    }\n",
              "\n",
              "    .dataframe tbody tr th {\n",
              "        vertical-align: top;\n",
              "    }\n",
              "\n",
              "    .dataframe thead th {\n",
              "        text-align: right;\n",
              "    }\n",
              "</style>\n",
              "<table border=\"1\" class=\"dataframe\">\n",
              "  <thead>\n",
              "    <tr style=\"text-align: right;\">\n",
              "      <th></th>\n",
              "      <th>ID</th>\n",
              "      <th>FechaMuestra</th>\n",
              "      <th>ZonaGeografica</th>\n",
              "      <th>TipoDocumento</th>\n",
              "      <th>Documento</th>\n",
              "      <th>Evento</th>\n",
              "      <th>Nombres</th>\n",
              "      <th>Apellidos</th>\n",
              "      <th>Sexo</th>\n",
              "      <th>Condicion_Final</th>\n",
              "      <th>EAPB</th>\n",
              "      <th>Pais_Residencia</th>\n",
              "      <th>Departamento_Residencia</th>\n",
              "      <th>Municipio_Residencia</th>\n",
              "      <th>Trabajador_Salud</th>\n",
              "      <th>Contacto_Caso_Confirmado</th>\n",
              "      <th>EstadoCaso</th>\n",
              "      <th>GenerarResultado</th>\n",
              "      <th>FiltroUsuario</th>\n",
              "      <th>Tipo_Prueba</th>\n",
              "      <th>Fecha_Resultado</th>\n",
              "    </tr>\n",
              "  </thead>\n",
              "  <tbody>\n",
              "    <tr>\n",
              "      <th>0</th>\n",
              "      <td>1</td>\n",
              "      <td>3/26/20</td>\n",
              "      <td>BOGOTA DC-BOGOTA DC</td>\n",
              "      <td>Cédula de ciudadania</td>\n",
              "      <td>1234567891</td>\n",
              "      <td>INFLUENZA HUMANA POR VIRUS NUEVO              ...</td>\n",
              "      <td>DIANA MARIA</td>\n",
              "      <td>MEJIA FONSECA</td>\n",
              "      <td>Femenino</td>\n",
              "      <td></td>\n",
              "      <td>ALIANSALUD</td>\n",
              "      <td>COLOMBIA</td>\n",
              "      <td>BOGOTA DC</td>\n",
              "      <td>BOGOTA DC</td>\n",
              "      <td>NO</td>\n",
              "      <td>NO</td>\n",
              "      <td>RESULTADO_GENERADO                            ...</td>\n",
              "      <td>1</td>\n",
              "      <td>29628</td>\n",
              "      <td>RT-PCR</td>\n",
              "      <td>3/26/20</td>\n",
              "    </tr>\n",
              "    <tr>\n",
              "      <th>1</th>\n",
              "      <td>2</td>\n",
              "      <td>3/29/20</td>\n",
              "      <td>BOGOTA DC-BOGOTA DC</td>\n",
              "      <td>Cédula de ciudadania</td>\n",
              "      <td>1234567892</td>\n",
              "      <td>INFLUENZA HUMANA POR VIRUS NUEVO              ...</td>\n",
              "      <td>JUAN SEBASTIAN</td>\n",
              "      <td>MEJIA FONSECA</td>\n",
              "      <td>Masculino</td>\n",
              "      <td></td>\n",
              "      <td>SURA EPS</td>\n",
              "      <td>COLOMBIA</td>\n",
              "      <td>BOGOTA DC</td>\n",
              "      <td>BOGOTA DC</td>\n",
              "      <td>NO</td>\n",
              "      <td>NO</td>\n",
              "      <td>RESULTADO_GENERADO                            ...</td>\n",
              "      <td>1</td>\n",
              "      <td>29628</td>\n",
              "      <td>RT-PCR</td>\n",
              "      <td>3/29/20</td>\n",
              "    </tr>\n",
              "    <tr>\n",
              "      <th>2</th>\n",
              "      <td>3</td>\n",
              "      <td>4/3/20</td>\n",
              "      <td>BOGOTA DC-BOGOTA DC</td>\n",
              "      <td>Cédula de ciudadania</td>\n",
              "      <td>1234567893</td>\n",
              "      <td>INFLUENZA HUMANA POR VIRUS NUEVO              ...</td>\n",
              "      <td>MARIA BETZAIDA</td>\n",
              "      <td>MEJIA FONSECA</td>\n",
              "      <td>Femenino</td>\n",
              "      <td></td>\n",
              "      <td>CAPITAL SALUD EPS-S</td>\n",
              "      <td>COLOMBIA</td>\n",
              "      <td>BOGOTA DC</td>\n",
              "      <td>BOGOTA DC</td>\n",
              "      <td>NO</td>\n",
              "      <td>NO</td>\n",
              "      <td>RESULTADO_GENERADO                            ...</td>\n",
              "      <td>1</td>\n",
              "      <td>29628</td>\n",
              "      <td>RT-PCR</td>\n",
              "      <td>4/3/20</td>\n",
              "    </tr>\n",
              "    <tr>\n",
              "      <th>3</th>\n",
              "      <td>4</td>\n",
              "      <td>3/31/20</td>\n",
              "      <td>BOGOTA DC-BOGOTA DC</td>\n",
              "      <td>Cédula de ciudadania</td>\n",
              "      <td>1234567894</td>\n",
              "      <td>INFLUENZA HUMANA POR VIRUS NUEVO              ...</td>\n",
              "      <td>JUAN PABLO</td>\n",
              "      <td>MEJIA FONSECA</td>\n",
              "      <td>Masculino</td>\n",
              "      <td></td>\n",
              "      <td>ALIANSALUD</td>\n",
              "      <td>COLOMBIA</td>\n",
              "      <td>BOGOTA DC</td>\n",
              "      <td>BOGOTA DC</td>\n",
              "      <td>NO</td>\n",
              "      <td>NO</td>\n",
              "      <td>RESULTADO_GENERADO                            ...</td>\n",
              "      <td>1</td>\n",
              "      <td>29628</td>\n",
              "      <td>RT-PCR</td>\n",
              "      <td>3/31/20</td>\n",
              "    </tr>\n",
              "    <tr>\n",
              "      <th>4</th>\n",
              "      <td>5</td>\n",
              "      <td>3/17/20</td>\n",
              "      <td>BOGOTA DC-BOGOTA DC</td>\n",
              "      <td>Cédula de ciudadania</td>\n",
              "      <td>1234567895</td>\n",
              "      <td>INFLUENZA HUMANA POR VIRUS NUEVO              ...</td>\n",
              "      <td>LUIS EDUARDO JUNIOR</td>\n",
              "      <td>MEJIA FONSECA</td>\n",
              "      <td>Femenino</td>\n",
              "      <td></td>\n",
              "      <td>COMPENSAR EPS</td>\n",
              "      <td>COLOMBIA</td>\n",
              "      <td>BOGOTA DC</td>\n",
              "      <td>BOGOTA DC</td>\n",
              "      <td>NO</td>\n",
              "      <td>NO</td>\n",
              "      <td>RESULTADO_GENERADO                            ...</td>\n",
              "      <td>1</td>\n",
              "      <td>29628</td>\n",
              "      <td>RT-PCR</td>\n",
              "      <td>3/17/20</td>\n",
              "    </tr>\n",
              "  </tbody>\n",
              "</table>\n",
              "</div>\n",
              "      <button class=\"colab-df-convert\" onclick=\"convertToInteractive('df-b737b6cb-87d9-41c4-b03c-6b90c1d6b636')\"\n",
              "              title=\"Convert this dataframe to an interactive table.\"\n",
              "              style=\"display:none;\">\n",
              "        \n",
              "  <svg xmlns=\"http://www.w3.org/2000/svg\" height=\"24px\"viewBox=\"0 0 24 24\"\n",
              "       width=\"24px\">\n",
              "    <path d=\"M0 0h24v24H0V0z\" fill=\"none\"/>\n",
              "    <path d=\"M18.56 5.44l.94 2.06.94-2.06 2.06-.94-2.06-.94-.94-2.06-.94 2.06-2.06.94zm-11 1L8.5 8.5l.94-2.06 2.06-.94-2.06-.94L8.5 2.5l-.94 2.06-2.06.94zm10 10l.94 2.06.94-2.06 2.06-.94-2.06-.94-.94-2.06-.94 2.06-2.06.94z\"/><path d=\"M17.41 7.96l-1.37-1.37c-.4-.4-.92-.59-1.43-.59-.52 0-1.04.2-1.43.59L10.3 9.45l-7.72 7.72c-.78.78-.78 2.05 0 2.83L4 21.41c.39.39.9.59 1.41.59.51 0 1.02-.2 1.41-.59l7.78-7.78 2.81-2.81c.8-.78.8-2.07 0-2.86zM5.41 20L4 18.59l7.72-7.72 1.47 1.35L5.41 20z\"/>\n",
              "  </svg>\n",
              "      </button>\n",
              "      \n",
              "  <style>\n",
              "    .colab-df-container {\n",
              "      display:flex;\n",
              "      flex-wrap:wrap;\n",
              "      gap: 12px;\n",
              "    }\n",
              "\n",
              "    .colab-df-convert {\n",
              "      background-color: #E8F0FE;\n",
              "      border: none;\n",
              "      border-radius: 50%;\n",
              "      cursor: pointer;\n",
              "      display: none;\n",
              "      fill: #1967D2;\n",
              "      height: 32px;\n",
              "      padding: 0 0 0 0;\n",
              "      width: 32px;\n",
              "    }\n",
              "\n",
              "    .colab-df-convert:hover {\n",
              "      background-color: #E2EBFA;\n",
              "      box-shadow: 0px 1px 2px rgba(60, 64, 67, 0.3), 0px 1px 3px 1px rgba(60, 64, 67, 0.15);\n",
              "      fill: #174EA6;\n",
              "    }\n",
              "\n",
              "    [theme=dark] .colab-df-convert {\n",
              "      background-color: #3B4455;\n",
              "      fill: #D2E3FC;\n",
              "    }\n",
              "\n",
              "    [theme=dark] .colab-df-convert:hover {\n",
              "      background-color: #434B5C;\n",
              "      box-shadow: 0px 1px 3px 1px rgba(0, 0, 0, 0.15);\n",
              "      filter: drop-shadow(0px 1px 2px rgba(0, 0, 0, 0.3));\n",
              "      fill: #FFFFFF;\n",
              "    }\n",
              "  </style>\n",
              "\n",
              "      <script>\n",
              "        const buttonEl =\n",
              "          document.querySelector('#df-b737b6cb-87d9-41c4-b03c-6b90c1d6b636 button.colab-df-convert');\n",
              "        buttonEl.style.display =\n",
              "          google.colab.kernel.accessAllowed ? 'block' : 'none';\n",
              "\n",
              "        async function convertToInteractive(key) {\n",
              "          const element = document.querySelector('#df-b737b6cb-87d9-41c4-b03c-6b90c1d6b636');\n",
              "          const dataTable =\n",
              "            await google.colab.kernel.invokeFunction('convertToInteractive',\n",
              "                                                     [key], {});\n",
              "          if (!dataTable) return;\n",
              "\n",
              "          const docLinkHtml = 'Like what you see? Visit the ' +\n",
              "            '<a target=\"_blank\" href=https://colab.research.google.com/notebooks/data_table.ipynb>data table notebook</a>'\n",
              "            + ' to learn more about interactive tables.';\n",
              "          element.innerHTML = '';\n",
              "          dataTable['output_type'] = 'display_data';\n",
              "          await google.colab.output.renderOutput(dataTable, element);\n",
              "          const docLink = document.createElement('div');\n",
              "          docLink.innerHTML = docLinkHtml;\n",
              "          element.appendChild(docLink);\n",
              "        }\n",
              "      </script>\n",
              "    </div>\n",
              "  </div>\n",
              "  "
            ],
            "text/plain": [
              "   ID FechaMuestra       ZonaGeografica         TipoDocumento   Documento  \\\n",
              "0   1      3/26/20  BOGOTA DC-BOGOTA DC  Cédula de ciudadania  1234567891   \n",
              "1   2      3/29/20  BOGOTA DC-BOGOTA DC  Cédula de ciudadania  1234567892   \n",
              "2   3       4/3/20  BOGOTA DC-BOGOTA DC  Cédula de ciudadania  1234567893   \n",
              "3   4      3/31/20  BOGOTA DC-BOGOTA DC  Cédula de ciudadania  1234567894   \n",
              "4   5      3/17/20  BOGOTA DC-BOGOTA DC  Cédula de ciudadania  1234567895   \n",
              "\n",
              "                                              Evento              Nombres  \\\n",
              "0  INFLUENZA HUMANA POR VIRUS NUEVO              ...          DIANA MARIA   \n",
              "1  INFLUENZA HUMANA POR VIRUS NUEVO              ...       JUAN SEBASTIAN   \n",
              "2  INFLUENZA HUMANA POR VIRUS NUEVO              ...       MARIA BETZAIDA   \n",
              "3  INFLUENZA HUMANA POR VIRUS NUEVO              ...           JUAN PABLO   \n",
              "4  INFLUENZA HUMANA POR VIRUS NUEVO              ...  LUIS EDUARDO JUNIOR   \n",
              "\n",
              "       Apellidos       Sexo       Condicion_Final                 EAPB  \\\n",
              "0  MEJIA FONSECA   Femenino                                 ALIANSALUD   \n",
              "1  MEJIA FONSECA  Masculino                                   SURA EPS   \n",
              "2  MEJIA FONSECA   Femenino                        CAPITAL SALUD EPS-S   \n",
              "3  MEJIA FONSECA  Masculino                                 ALIANSALUD   \n",
              "4  MEJIA FONSECA   Femenino                              COMPENSAR EPS   \n",
              "\n",
              "  Pais_Residencia Departamento_Residencia Municipio_Residencia  \\\n",
              "0        COLOMBIA               BOGOTA DC            BOGOTA DC   \n",
              "1        COLOMBIA               BOGOTA DC            BOGOTA DC   \n",
              "2        COLOMBIA               BOGOTA DC            BOGOTA DC   \n",
              "3        COLOMBIA               BOGOTA DC            BOGOTA DC   \n",
              "4        COLOMBIA               BOGOTA DC            BOGOTA DC   \n",
              "\n",
              "  Trabajador_Salud Contacto_Caso_Confirmado  \\\n",
              "0               NO                       NO   \n",
              "1               NO                       NO   \n",
              "2               NO                       NO   \n",
              "3               NO                       NO   \n",
              "4               NO                       NO   \n",
              "\n",
              "                                          EstadoCaso  GenerarResultado  \\\n",
              "0  RESULTADO_GENERADO                            ...                 1   \n",
              "1  RESULTADO_GENERADO                            ...                 1   \n",
              "2  RESULTADO_GENERADO                            ...                 1   \n",
              "3  RESULTADO_GENERADO                            ...                 1   \n",
              "4  RESULTADO_GENERADO                            ...                 1   \n",
              "\n",
              "   FiltroUsuario Tipo_Prueba Fecha_Resultado  \n",
              "0          29628      RT-PCR         3/26/20  \n",
              "1          29628      RT-PCR         3/29/20  \n",
              "2          29628      RT-PCR          4/3/20  \n",
              "3          29628      RT-PCR         3/31/20  \n",
              "4          29628      RT-PCR         3/17/20  "
            ]
          },
          "metadata": {},
          "execution_count": 3
        }
      ],
      "source": [
        "import pandas as pd\n",
        "import base64\n",
        "from sklearn.experimental import enable_iterative_imputer\n",
        "from sklearn.impute import IterativeImputer\n",
        "\n",
        "pd.set_option('max_columns', None)\n",
        "data = pd.read_csv('drive/MyDrive/DS4A/W3_bootcamp_data_transformation/data.csv')\n",
        "data.head()"
      ]
    },
    {
      "cell_type": "markdown",
      "metadata": {
        "id": "fleYGS89b36_"
      },
      "source": [
        "## Splitting columns\n",
        "\n",
        "You can see that the column **ZonaGeografica** includes two pieces of information separated by a hyphen. If you want to work with those pieces of information separately, you will have to split this column:"
      ]
    },
    {
      "cell_type": "code",
      "execution_count": 4,
      "metadata": {
        "colab": {
          "base_uri": "https://localhost:8080/"
        },
        "id": "P4Qn947Db37C",
        "outputId": "67cccdae-00c1-4794-fbe5-4240ffb126cc"
      },
      "outputs": [
        {
          "output_type": "execute_result",
          "data": {
            "text/plain": [
              "array(['BOGOTA DC-BOGOTA DC',\n",
              "       '* PROCEDENCIA DESCONOCIDA-* PROCEDENCIA DESCONOCIDA'],\n",
              "      dtype=object)"
            ]
          },
          "metadata": {},
          "execution_count": 4
        }
      ],
      "source": [
        "# See the unique values\n",
        "data.ZonaGeografica.unique()"
      ]
    },
    {
      "cell_type": "code",
      "execution_count": 5,
      "metadata": {
        "id": "ckoNXGiWb37I"
      },
      "outputs": [],
      "source": [
        "# You use pandas to split columns\n",
        "data[['Departamento','Ciudad']] =  data.ZonaGeografica.str.split('-',expand=True,)"
      ]
    },
    {
      "cell_type": "code",
      "execution_count": 6,
      "metadata": {
        "colab": {
          "base_uri": "https://localhost:8080/",
          "height": 175
        },
        "id": "U1-shrIFb37L",
        "outputId": "8423f4b0-94cd-4553-e1a0-d09bc34b6062"
      },
      "outputs": [
        {
          "output_type": "execute_result",
          "data": {
            "text/html": [
              "\n",
              "  <div id=\"df-61063f7c-e865-4380-b8f1-cc5bb384e987\">\n",
              "    <div class=\"colab-df-container\">\n",
              "      <div>\n",
              "<style scoped>\n",
              "    .dataframe tbody tr th:only-of-type {\n",
              "        vertical-align: middle;\n",
              "    }\n",
              "\n",
              "    .dataframe tbody tr th {\n",
              "        vertical-align: top;\n",
              "    }\n",
              "\n",
              "    .dataframe thead th {\n",
              "        text-align: right;\n",
              "    }\n",
              "</style>\n",
              "<table border=\"1\" class=\"dataframe\">\n",
              "  <thead>\n",
              "    <tr style=\"text-align: right;\">\n",
              "      <th></th>\n",
              "      <th>ZonaGeografica</th>\n",
              "      <th>Departamento</th>\n",
              "      <th>Ciudad</th>\n",
              "    </tr>\n",
              "  </thead>\n",
              "  <tbody>\n",
              "    <tr>\n",
              "      <th>0</th>\n",
              "      <td>BOGOTA DC-BOGOTA DC</td>\n",
              "      <td>BOGOTA DC</td>\n",
              "      <td>BOGOTA DC</td>\n",
              "    </tr>\n",
              "    <tr>\n",
              "      <th>1</th>\n",
              "      <td>BOGOTA DC-BOGOTA DC</td>\n",
              "      <td>BOGOTA DC</td>\n",
              "      <td>BOGOTA DC</td>\n",
              "    </tr>\n",
              "    <tr>\n",
              "      <th>23032</th>\n",
              "      <td>BOGOTA DC-BOGOTA DC</td>\n",
              "      <td>BOGOTA DC</td>\n",
              "      <td>BOGOTA DC</td>\n",
              "    </tr>\n",
              "    <tr>\n",
              "      <th>23033</th>\n",
              "      <td>BOGOTA DC-BOGOTA DC</td>\n",
              "      <td>BOGOTA DC</td>\n",
              "      <td>BOGOTA DC</td>\n",
              "    </tr>\n",
              "  </tbody>\n",
              "</table>\n",
              "</div>\n",
              "      <button class=\"colab-df-convert\" onclick=\"convertToInteractive('df-61063f7c-e865-4380-b8f1-cc5bb384e987')\"\n",
              "              title=\"Convert this dataframe to an interactive table.\"\n",
              "              style=\"display:none;\">\n",
              "        \n",
              "  <svg xmlns=\"http://www.w3.org/2000/svg\" height=\"24px\"viewBox=\"0 0 24 24\"\n",
              "       width=\"24px\">\n",
              "    <path d=\"M0 0h24v24H0V0z\" fill=\"none\"/>\n",
              "    <path d=\"M18.56 5.44l.94 2.06.94-2.06 2.06-.94-2.06-.94-.94-2.06-.94 2.06-2.06.94zm-11 1L8.5 8.5l.94-2.06 2.06-.94-2.06-.94L8.5 2.5l-.94 2.06-2.06.94zm10 10l.94 2.06.94-2.06 2.06-.94-2.06-.94-.94-2.06-.94 2.06-2.06.94z\"/><path d=\"M17.41 7.96l-1.37-1.37c-.4-.4-.92-.59-1.43-.59-.52 0-1.04.2-1.43.59L10.3 9.45l-7.72 7.72c-.78.78-.78 2.05 0 2.83L4 21.41c.39.39.9.59 1.41.59.51 0 1.02-.2 1.41-.59l7.78-7.78 2.81-2.81c.8-.78.8-2.07 0-2.86zM5.41 20L4 18.59l7.72-7.72 1.47 1.35L5.41 20z\"/>\n",
              "  </svg>\n",
              "      </button>\n",
              "      \n",
              "  <style>\n",
              "    .colab-df-container {\n",
              "      display:flex;\n",
              "      flex-wrap:wrap;\n",
              "      gap: 12px;\n",
              "    }\n",
              "\n",
              "    .colab-df-convert {\n",
              "      background-color: #E8F0FE;\n",
              "      border: none;\n",
              "      border-radius: 50%;\n",
              "      cursor: pointer;\n",
              "      display: none;\n",
              "      fill: #1967D2;\n",
              "      height: 32px;\n",
              "      padding: 0 0 0 0;\n",
              "      width: 32px;\n",
              "    }\n",
              "\n",
              "    .colab-df-convert:hover {\n",
              "      background-color: #E2EBFA;\n",
              "      box-shadow: 0px 1px 2px rgba(60, 64, 67, 0.3), 0px 1px 3px 1px rgba(60, 64, 67, 0.15);\n",
              "      fill: #174EA6;\n",
              "    }\n",
              "\n",
              "    [theme=dark] .colab-df-convert {\n",
              "      background-color: #3B4455;\n",
              "      fill: #D2E3FC;\n",
              "    }\n",
              "\n",
              "    [theme=dark] .colab-df-convert:hover {\n",
              "      background-color: #434B5C;\n",
              "      box-shadow: 0px 1px 3px 1px rgba(0, 0, 0, 0.15);\n",
              "      filter: drop-shadow(0px 1px 2px rgba(0, 0, 0, 0.3));\n",
              "      fill: #FFFFFF;\n",
              "    }\n",
              "  </style>\n",
              "\n",
              "      <script>\n",
              "        const buttonEl =\n",
              "          document.querySelector('#df-61063f7c-e865-4380-b8f1-cc5bb384e987 button.colab-df-convert');\n",
              "        buttonEl.style.display =\n",
              "          google.colab.kernel.accessAllowed ? 'block' : 'none';\n",
              "\n",
              "        async function convertToInteractive(key) {\n",
              "          const element = document.querySelector('#df-61063f7c-e865-4380-b8f1-cc5bb384e987');\n",
              "          const dataTable =\n",
              "            await google.colab.kernel.invokeFunction('convertToInteractive',\n",
              "                                                     [key], {});\n",
              "          if (!dataTable) return;\n",
              "\n",
              "          const docLinkHtml = 'Like what you see? Visit the ' +\n",
              "            '<a target=\"_blank\" href=https://colab.research.google.com/notebooks/data_table.ipynb>data table notebook</a>'\n",
              "            + ' to learn more about interactive tables.';\n",
              "          element.innerHTML = '';\n",
              "          dataTable['output_type'] = 'display_data';\n",
              "          await google.colab.output.renderOutput(dataTable, element);\n",
              "          const docLink = document.createElement('div');\n",
              "          docLink.innerHTML = docLinkHtml;\n",
              "          element.appendChild(docLink);\n",
              "        }\n",
              "      </script>\n",
              "    </div>\n",
              "  </div>\n",
              "  "
            ],
            "text/plain": [
              "            ZonaGeografica Departamento     Ciudad\n",
              "0      BOGOTA DC-BOGOTA DC    BOGOTA DC  BOGOTA DC\n",
              "1      BOGOTA DC-BOGOTA DC    BOGOTA DC  BOGOTA DC\n",
              "23032  BOGOTA DC-BOGOTA DC    BOGOTA DC  BOGOTA DC\n",
              "23033  BOGOTA DC-BOGOTA DC    BOGOTA DC  BOGOTA DC"
            ]
          },
          "metadata": {},
          "execution_count": 6
        }
      ],
      "source": [
        "data[['ZonaGeografica','Departamento','Ciudad']].head(2).append(data[['ZonaGeografica','Departamento','Ciudad']].tail(2))"
      ]
    },
    {
      "cell_type": "markdown",
      "metadata": {
        "id": "hUvSnD4Db37O"
      },
      "source": [
        "As another example, often times you will need to separate names into first and last names:"
      ]
    },
    {
      "cell_type": "code",
      "execution_count": 7,
      "metadata": {
        "colab": {
          "base_uri": "https://localhost:8080/",
          "height": 363
        },
        "id": "a9eQ65Z2b37Q",
        "outputId": "01e07a59-7a8b-41c2-c3af-2310d60d9cbe"
      },
      "outputs": [
        {
          "output_type": "execute_result",
          "data": {
            "text/html": [
              "\n",
              "  <div id=\"df-f13c8b37-bd8c-41f8-a2b6-3029e3853a81\">\n",
              "    <div class=\"colab-df-container\">\n",
              "      <div>\n",
              "<style scoped>\n",
              "    .dataframe tbody tr th:only-of-type {\n",
              "        vertical-align: middle;\n",
              "    }\n",
              "\n",
              "    .dataframe tbody tr th {\n",
              "        vertical-align: top;\n",
              "    }\n",
              "\n",
              "    .dataframe thead th {\n",
              "        text-align: right;\n",
              "    }\n",
              "</style>\n",
              "<table border=\"1\" class=\"dataframe\">\n",
              "  <thead>\n",
              "    <tr style=\"text-align: right;\">\n",
              "      <th></th>\n",
              "      <th>Nombres</th>\n",
              "    </tr>\n",
              "  </thead>\n",
              "  <tbody>\n",
              "    <tr>\n",
              "      <th>0</th>\n",
              "      <td>DIANA MARIA</td>\n",
              "    </tr>\n",
              "    <tr>\n",
              "      <th>1</th>\n",
              "      <td>JUAN SEBASTIAN</td>\n",
              "    </tr>\n",
              "    <tr>\n",
              "      <th>2</th>\n",
              "      <td>MARIA BETZAIDA</td>\n",
              "    </tr>\n",
              "    <tr>\n",
              "      <th>3</th>\n",
              "      <td>JUAN PABLO</td>\n",
              "    </tr>\n",
              "    <tr>\n",
              "      <th>4</th>\n",
              "      <td>LUIS EDUARDO JUNIOR</td>\n",
              "    </tr>\n",
              "    <tr>\n",
              "      <th>5</th>\n",
              "      <td>ESTEFANI</td>\n",
              "    </tr>\n",
              "    <tr>\n",
              "      <th>6</th>\n",
              "      <td>LUZ  ELIZABETH</td>\n",
              "    </tr>\n",
              "    <tr>\n",
              "      <th>7</th>\n",
              "      <td>WILLIAM</td>\n",
              "    </tr>\n",
              "    <tr>\n",
              "      <th>8</th>\n",
              "      <td>JENIFER LORENA</td>\n",
              "    </tr>\n",
              "    <tr>\n",
              "      <th>9</th>\n",
              "      <td>JAIME ANDRES</td>\n",
              "    </tr>\n",
              "  </tbody>\n",
              "</table>\n",
              "</div>\n",
              "      <button class=\"colab-df-convert\" onclick=\"convertToInteractive('df-f13c8b37-bd8c-41f8-a2b6-3029e3853a81')\"\n",
              "              title=\"Convert this dataframe to an interactive table.\"\n",
              "              style=\"display:none;\">\n",
              "        \n",
              "  <svg xmlns=\"http://www.w3.org/2000/svg\" height=\"24px\"viewBox=\"0 0 24 24\"\n",
              "       width=\"24px\">\n",
              "    <path d=\"M0 0h24v24H0V0z\" fill=\"none\"/>\n",
              "    <path d=\"M18.56 5.44l.94 2.06.94-2.06 2.06-.94-2.06-.94-.94-2.06-.94 2.06-2.06.94zm-11 1L8.5 8.5l.94-2.06 2.06-.94-2.06-.94L8.5 2.5l-.94 2.06-2.06.94zm10 10l.94 2.06.94-2.06 2.06-.94-2.06-.94-.94-2.06-.94 2.06-2.06.94z\"/><path d=\"M17.41 7.96l-1.37-1.37c-.4-.4-.92-.59-1.43-.59-.52 0-1.04.2-1.43.59L10.3 9.45l-7.72 7.72c-.78.78-.78 2.05 0 2.83L4 21.41c.39.39.9.59 1.41.59.51 0 1.02-.2 1.41-.59l7.78-7.78 2.81-2.81c.8-.78.8-2.07 0-2.86zM5.41 20L4 18.59l7.72-7.72 1.47 1.35L5.41 20z\"/>\n",
              "  </svg>\n",
              "      </button>\n",
              "      \n",
              "  <style>\n",
              "    .colab-df-container {\n",
              "      display:flex;\n",
              "      flex-wrap:wrap;\n",
              "      gap: 12px;\n",
              "    }\n",
              "\n",
              "    .colab-df-convert {\n",
              "      background-color: #E8F0FE;\n",
              "      border: none;\n",
              "      border-radius: 50%;\n",
              "      cursor: pointer;\n",
              "      display: none;\n",
              "      fill: #1967D2;\n",
              "      height: 32px;\n",
              "      padding: 0 0 0 0;\n",
              "      width: 32px;\n",
              "    }\n",
              "\n",
              "    .colab-df-convert:hover {\n",
              "      background-color: #E2EBFA;\n",
              "      box-shadow: 0px 1px 2px rgba(60, 64, 67, 0.3), 0px 1px 3px 1px rgba(60, 64, 67, 0.15);\n",
              "      fill: #174EA6;\n",
              "    }\n",
              "\n",
              "    [theme=dark] .colab-df-convert {\n",
              "      background-color: #3B4455;\n",
              "      fill: #D2E3FC;\n",
              "    }\n",
              "\n",
              "    [theme=dark] .colab-df-convert:hover {\n",
              "      background-color: #434B5C;\n",
              "      box-shadow: 0px 1px 3px 1px rgba(0, 0, 0, 0.15);\n",
              "      filter: drop-shadow(0px 1px 2px rgba(0, 0, 0, 0.3));\n",
              "      fill: #FFFFFF;\n",
              "    }\n",
              "  </style>\n",
              "\n",
              "      <script>\n",
              "        const buttonEl =\n",
              "          document.querySelector('#df-f13c8b37-bd8c-41f8-a2b6-3029e3853a81 button.colab-df-convert');\n",
              "        buttonEl.style.display =\n",
              "          google.colab.kernel.accessAllowed ? 'block' : 'none';\n",
              "\n",
              "        async function convertToInteractive(key) {\n",
              "          const element = document.querySelector('#df-f13c8b37-bd8c-41f8-a2b6-3029e3853a81');\n",
              "          const dataTable =\n",
              "            await google.colab.kernel.invokeFunction('convertToInteractive',\n",
              "                                                     [key], {});\n",
              "          if (!dataTable) return;\n",
              "\n",
              "          const docLinkHtml = 'Like what you see? Visit the ' +\n",
              "            '<a target=\"_blank\" href=https://colab.research.google.com/notebooks/data_table.ipynb>data table notebook</a>'\n",
              "            + ' to learn more about interactive tables.';\n",
              "          element.innerHTML = '';\n",
              "          dataTable['output_type'] = 'display_data';\n",
              "          await google.colab.output.renderOutput(dataTable, element);\n",
              "          const docLink = document.createElement('div');\n",
              "          docLink.innerHTML = docLinkHtml;\n",
              "          element.appendChild(docLink);\n",
              "        }\n",
              "      </script>\n",
              "    </div>\n",
              "  </div>\n",
              "  "
            ],
            "text/plain": [
              "               Nombres\n",
              "0          DIANA MARIA\n",
              "1       JUAN SEBASTIAN\n",
              "2       MARIA BETZAIDA\n",
              "3           JUAN PABLO\n",
              "4  LUIS EDUARDO JUNIOR\n",
              "5            ESTEFANI \n",
              "6      LUZ  ELIZABETH \n",
              "7             WILLIAM \n",
              "8       JENIFER LORENA\n",
              "9         JAIME ANDRES"
            ]
          },
          "metadata": {},
          "execution_count": 7
        }
      ],
      "source": [
        "data[['Nombres']].head(10)"
      ]
    },
    {
      "cell_type": "code",
      "execution_count": 8,
      "metadata": {
        "id": "hRM4R1hmb37R"
      },
      "outputs": [],
      "source": [
        "# Some names could have more that two names, for that reason you can use an additional parameter n where you define the number of splits.\n",
        "data[['PrimerNombre','SegundoNombre']] =  data.Nombres.str.split(n=1,expand=True,)"
      ]
    },
    {
      "cell_type": "code",
      "execution_count": 9,
      "metadata": {
        "colab": {
          "base_uri": "https://localhost:8080/",
          "height": 363
        },
        "id": "jvhbZnXhb37S",
        "outputId": "25cdb899-a0af-47f0-e3ad-b66f7a71e608"
      },
      "outputs": [
        {
          "output_type": "execute_result",
          "data": {
            "text/html": [
              "\n",
              "  <div id=\"df-eb82641a-17a4-44e5-8af1-362bb6fb65c7\">\n",
              "    <div class=\"colab-df-container\">\n",
              "      <div>\n",
              "<style scoped>\n",
              "    .dataframe tbody tr th:only-of-type {\n",
              "        vertical-align: middle;\n",
              "    }\n",
              "\n",
              "    .dataframe tbody tr th {\n",
              "        vertical-align: top;\n",
              "    }\n",
              "\n",
              "    .dataframe thead th {\n",
              "        text-align: right;\n",
              "    }\n",
              "</style>\n",
              "<table border=\"1\" class=\"dataframe\">\n",
              "  <thead>\n",
              "    <tr style=\"text-align: right;\">\n",
              "      <th></th>\n",
              "      <th>Nombres</th>\n",
              "      <th>PrimerNombre</th>\n",
              "      <th>SegundoNombre</th>\n",
              "    </tr>\n",
              "  </thead>\n",
              "  <tbody>\n",
              "    <tr>\n",
              "      <th>0</th>\n",
              "      <td>DIANA MARIA</td>\n",
              "      <td>DIANA</td>\n",
              "      <td>MARIA</td>\n",
              "    </tr>\n",
              "    <tr>\n",
              "      <th>1</th>\n",
              "      <td>JUAN SEBASTIAN</td>\n",
              "      <td>JUAN</td>\n",
              "      <td>SEBASTIAN</td>\n",
              "    </tr>\n",
              "    <tr>\n",
              "      <th>2</th>\n",
              "      <td>MARIA BETZAIDA</td>\n",
              "      <td>MARIA</td>\n",
              "      <td>BETZAIDA</td>\n",
              "    </tr>\n",
              "    <tr>\n",
              "      <th>3</th>\n",
              "      <td>JUAN PABLO</td>\n",
              "      <td>JUAN</td>\n",
              "      <td>PABLO</td>\n",
              "    </tr>\n",
              "    <tr>\n",
              "      <th>4</th>\n",
              "      <td>LUIS EDUARDO JUNIOR</td>\n",
              "      <td>LUIS</td>\n",
              "      <td>EDUARDO JUNIOR</td>\n",
              "    </tr>\n",
              "    <tr>\n",
              "      <th>23029</th>\n",
              "      <td>LIZETH</td>\n",
              "      <td>LIZETH</td>\n",
              "      <td>None</td>\n",
              "    </tr>\n",
              "    <tr>\n",
              "      <th>23030</th>\n",
              "      <td>JOSE DESIDERIO</td>\n",
              "      <td>JOSE</td>\n",
              "      <td>DESIDERIO</td>\n",
              "    </tr>\n",
              "    <tr>\n",
              "      <th>23031</th>\n",
              "      <td>MARIANA</td>\n",
              "      <td>MARIANA</td>\n",
              "      <td>None</td>\n",
              "    </tr>\n",
              "    <tr>\n",
              "      <th>23032</th>\n",
              "      <td>ROGER ALEXANDER</td>\n",
              "      <td>ROGER</td>\n",
              "      <td>ALEXANDER</td>\n",
              "    </tr>\n",
              "    <tr>\n",
              "      <th>23033</th>\n",
              "      <td>MARIA ISABEL</td>\n",
              "      <td>MARIA</td>\n",
              "      <td>ISABEL</td>\n",
              "    </tr>\n",
              "  </tbody>\n",
              "</table>\n",
              "</div>\n",
              "      <button class=\"colab-df-convert\" onclick=\"convertToInteractive('df-eb82641a-17a4-44e5-8af1-362bb6fb65c7')\"\n",
              "              title=\"Convert this dataframe to an interactive table.\"\n",
              "              style=\"display:none;\">\n",
              "        \n",
              "  <svg xmlns=\"http://www.w3.org/2000/svg\" height=\"24px\"viewBox=\"0 0 24 24\"\n",
              "       width=\"24px\">\n",
              "    <path d=\"M0 0h24v24H0V0z\" fill=\"none\"/>\n",
              "    <path d=\"M18.56 5.44l.94 2.06.94-2.06 2.06-.94-2.06-.94-.94-2.06-.94 2.06-2.06.94zm-11 1L8.5 8.5l.94-2.06 2.06-.94-2.06-.94L8.5 2.5l-.94 2.06-2.06.94zm10 10l.94 2.06.94-2.06 2.06-.94-2.06-.94-.94-2.06-.94 2.06-2.06.94z\"/><path d=\"M17.41 7.96l-1.37-1.37c-.4-.4-.92-.59-1.43-.59-.52 0-1.04.2-1.43.59L10.3 9.45l-7.72 7.72c-.78.78-.78 2.05 0 2.83L4 21.41c.39.39.9.59 1.41.59.51 0 1.02-.2 1.41-.59l7.78-7.78 2.81-2.81c.8-.78.8-2.07 0-2.86zM5.41 20L4 18.59l7.72-7.72 1.47 1.35L5.41 20z\"/>\n",
              "  </svg>\n",
              "      </button>\n",
              "      \n",
              "  <style>\n",
              "    .colab-df-container {\n",
              "      display:flex;\n",
              "      flex-wrap:wrap;\n",
              "      gap: 12px;\n",
              "    }\n",
              "\n",
              "    .colab-df-convert {\n",
              "      background-color: #E8F0FE;\n",
              "      border: none;\n",
              "      border-radius: 50%;\n",
              "      cursor: pointer;\n",
              "      display: none;\n",
              "      fill: #1967D2;\n",
              "      height: 32px;\n",
              "      padding: 0 0 0 0;\n",
              "      width: 32px;\n",
              "    }\n",
              "\n",
              "    .colab-df-convert:hover {\n",
              "      background-color: #E2EBFA;\n",
              "      box-shadow: 0px 1px 2px rgba(60, 64, 67, 0.3), 0px 1px 3px 1px rgba(60, 64, 67, 0.15);\n",
              "      fill: #174EA6;\n",
              "    }\n",
              "\n",
              "    [theme=dark] .colab-df-convert {\n",
              "      background-color: #3B4455;\n",
              "      fill: #D2E3FC;\n",
              "    }\n",
              "\n",
              "    [theme=dark] .colab-df-convert:hover {\n",
              "      background-color: #434B5C;\n",
              "      box-shadow: 0px 1px 3px 1px rgba(0, 0, 0, 0.15);\n",
              "      filter: drop-shadow(0px 1px 2px rgba(0, 0, 0, 0.3));\n",
              "      fill: #FFFFFF;\n",
              "    }\n",
              "  </style>\n",
              "\n",
              "      <script>\n",
              "        const buttonEl =\n",
              "          document.querySelector('#df-eb82641a-17a4-44e5-8af1-362bb6fb65c7 button.colab-df-convert');\n",
              "        buttonEl.style.display =\n",
              "          google.colab.kernel.accessAllowed ? 'block' : 'none';\n",
              "\n",
              "        async function convertToInteractive(key) {\n",
              "          const element = document.querySelector('#df-eb82641a-17a4-44e5-8af1-362bb6fb65c7');\n",
              "          const dataTable =\n",
              "            await google.colab.kernel.invokeFunction('convertToInteractive',\n",
              "                                                     [key], {});\n",
              "          if (!dataTable) return;\n",
              "\n",
              "          const docLinkHtml = 'Like what you see? Visit the ' +\n",
              "            '<a target=\"_blank\" href=https://colab.research.google.com/notebooks/data_table.ipynb>data table notebook</a>'\n",
              "            + ' to learn more about interactive tables.';\n",
              "          element.innerHTML = '';\n",
              "          dataTable['output_type'] = 'display_data';\n",
              "          await google.colab.output.renderOutput(dataTable, element);\n",
              "          const docLink = document.createElement('div');\n",
              "          docLink.innerHTML = docLinkHtml;\n",
              "          element.appendChild(docLink);\n",
              "        }\n",
              "      </script>\n",
              "    </div>\n",
              "  </div>\n",
              "  "
            ],
            "text/plain": [
              "                   Nombres PrimerNombre   SegundoNombre\n",
              "0              DIANA MARIA        DIANA           MARIA\n",
              "1           JUAN SEBASTIAN         JUAN       SEBASTIAN\n",
              "2           MARIA BETZAIDA        MARIA        BETZAIDA\n",
              "3               JUAN PABLO         JUAN           PABLO\n",
              "4      LUIS EDUARDO JUNIOR         LUIS  EDUARDO JUNIOR\n",
              "23029              LIZETH        LIZETH            None\n",
              "23030       JOSE DESIDERIO         JOSE       DESIDERIO\n",
              "23031             MARIANA       MARIANA            None\n",
              "23032      ROGER ALEXANDER        ROGER       ALEXANDER\n",
              "23033         MARIA ISABEL        MARIA          ISABEL"
            ]
          },
          "metadata": {},
          "execution_count": 9
        }
      ],
      "source": [
        "data[['Nombres','PrimerNombre','SegundoNombre']].head().append(data[['Nombres','PrimerNombre','SegundoNombre']].tail())"
      ]
    },
    {
      "cell_type": "markdown",
      "metadata": {
        "id": "XCT4LXB9b37T"
      },
      "source": [
        "### Exercise 1:\n",
        "\n",
        "Split the `Apellidos` column into `PrimerApellido` and `SegundoApellido`."
      ]
    },
    {
      "cell_type": "code",
      "execution_count": 10,
      "metadata": {
        "id": "ABAf8P8ub37U"
      },
      "outputs": [],
      "source": [
        "# Your code\n",
        "data[['PrimerApellido','SegundoApellido']] =  data.Apellidos.str.split(n=1,expand=True,)"
      ]
    },
    {
      "cell_type": "code",
      "source": [
        "data[['Apellidos','PrimerApellido','SegundoApellido']].head().append(data[['Apellidos','PrimerApellido','SegundoApellido']].tail())"
      ],
      "metadata": {
        "colab": {
          "base_uri": "https://localhost:8080/",
          "height": 363
        },
        "id": "PMNsre1Yc48G",
        "outputId": "4d21260f-5f4b-49f3-ca72-b5325ef4834f"
      },
      "execution_count": 11,
      "outputs": [
        {
          "output_type": "execute_result",
          "data": {
            "text/html": [
              "\n",
              "  <div id=\"df-db0b36e4-1c29-44a9-b34a-1cb0753d1ca4\">\n",
              "    <div class=\"colab-df-container\">\n",
              "      <div>\n",
              "<style scoped>\n",
              "    .dataframe tbody tr th:only-of-type {\n",
              "        vertical-align: middle;\n",
              "    }\n",
              "\n",
              "    .dataframe tbody tr th {\n",
              "        vertical-align: top;\n",
              "    }\n",
              "\n",
              "    .dataframe thead th {\n",
              "        text-align: right;\n",
              "    }\n",
              "</style>\n",
              "<table border=\"1\" class=\"dataframe\">\n",
              "  <thead>\n",
              "    <tr style=\"text-align: right;\">\n",
              "      <th></th>\n",
              "      <th>Apellidos</th>\n",
              "      <th>PrimerApellido</th>\n",
              "      <th>SegundoApellido</th>\n",
              "    </tr>\n",
              "  </thead>\n",
              "  <tbody>\n",
              "    <tr>\n",
              "      <th>0</th>\n",
              "      <td>MEJIA FONSECA</td>\n",
              "      <td>MEJIA</td>\n",
              "      <td>FONSECA</td>\n",
              "    </tr>\n",
              "    <tr>\n",
              "      <th>1</th>\n",
              "      <td>MEJIA FONSECA</td>\n",
              "      <td>MEJIA</td>\n",
              "      <td>FONSECA</td>\n",
              "    </tr>\n",
              "    <tr>\n",
              "      <th>2</th>\n",
              "      <td>MEJIA FONSECA</td>\n",
              "      <td>MEJIA</td>\n",
              "      <td>FONSECA</td>\n",
              "    </tr>\n",
              "    <tr>\n",
              "      <th>3</th>\n",
              "      <td>MEJIA FONSECA</td>\n",
              "      <td>MEJIA</td>\n",
              "      <td>FONSECA</td>\n",
              "    </tr>\n",
              "    <tr>\n",
              "      <th>4</th>\n",
              "      <td>MEJIA FONSECA</td>\n",
              "      <td>MEJIA</td>\n",
              "      <td>FONSECA</td>\n",
              "    </tr>\n",
              "    <tr>\n",
              "      <th>23029</th>\n",
              "      <td>MEJIA FONSECA</td>\n",
              "      <td>MEJIA</td>\n",
              "      <td>FONSECA</td>\n",
              "    </tr>\n",
              "    <tr>\n",
              "      <th>23030</th>\n",
              "      <td>MEJIA FONSECA</td>\n",
              "      <td>MEJIA</td>\n",
              "      <td>FONSECA</td>\n",
              "    </tr>\n",
              "    <tr>\n",
              "      <th>23031</th>\n",
              "      <td>MEJIA FONSECA</td>\n",
              "      <td>MEJIA</td>\n",
              "      <td>FONSECA</td>\n",
              "    </tr>\n",
              "    <tr>\n",
              "      <th>23032</th>\n",
              "      <td>MEJIA FONSECA</td>\n",
              "      <td>MEJIA</td>\n",
              "      <td>FONSECA</td>\n",
              "    </tr>\n",
              "    <tr>\n",
              "      <th>23033</th>\n",
              "      <td>MEJIA FONSECA</td>\n",
              "      <td>MEJIA</td>\n",
              "      <td>FONSECA</td>\n",
              "    </tr>\n",
              "  </tbody>\n",
              "</table>\n",
              "</div>\n",
              "      <button class=\"colab-df-convert\" onclick=\"convertToInteractive('df-db0b36e4-1c29-44a9-b34a-1cb0753d1ca4')\"\n",
              "              title=\"Convert this dataframe to an interactive table.\"\n",
              "              style=\"display:none;\">\n",
              "        \n",
              "  <svg xmlns=\"http://www.w3.org/2000/svg\" height=\"24px\"viewBox=\"0 0 24 24\"\n",
              "       width=\"24px\">\n",
              "    <path d=\"M0 0h24v24H0V0z\" fill=\"none\"/>\n",
              "    <path d=\"M18.56 5.44l.94 2.06.94-2.06 2.06-.94-2.06-.94-.94-2.06-.94 2.06-2.06.94zm-11 1L8.5 8.5l.94-2.06 2.06-.94-2.06-.94L8.5 2.5l-.94 2.06-2.06.94zm10 10l.94 2.06.94-2.06 2.06-.94-2.06-.94-.94-2.06-.94 2.06-2.06.94z\"/><path d=\"M17.41 7.96l-1.37-1.37c-.4-.4-.92-.59-1.43-.59-.52 0-1.04.2-1.43.59L10.3 9.45l-7.72 7.72c-.78.78-.78 2.05 0 2.83L4 21.41c.39.39.9.59 1.41.59.51 0 1.02-.2 1.41-.59l7.78-7.78 2.81-2.81c.8-.78.8-2.07 0-2.86zM5.41 20L4 18.59l7.72-7.72 1.47 1.35L5.41 20z\"/>\n",
              "  </svg>\n",
              "      </button>\n",
              "      \n",
              "  <style>\n",
              "    .colab-df-container {\n",
              "      display:flex;\n",
              "      flex-wrap:wrap;\n",
              "      gap: 12px;\n",
              "    }\n",
              "\n",
              "    .colab-df-convert {\n",
              "      background-color: #E8F0FE;\n",
              "      border: none;\n",
              "      border-radius: 50%;\n",
              "      cursor: pointer;\n",
              "      display: none;\n",
              "      fill: #1967D2;\n",
              "      height: 32px;\n",
              "      padding: 0 0 0 0;\n",
              "      width: 32px;\n",
              "    }\n",
              "\n",
              "    .colab-df-convert:hover {\n",
              "      background-color: #E2EBFA;\n",
              "      box-shadow: 0px 1px 2px rgba(60, 64, 67, 0.3), 0px 1px 3px 1px rgba(60, 64, 67, 0.15);\n",
              "      fill: #174EA6;\n",
              "    }\n",
              "\n",
              "    [theme=dark] .colab-df-convert {\n",
              "      background-color: #3B4455;\n",
              "      fill: #D2E3FC;\n",
              "    }\n",
              "\n",
              "    [theme=dark] .colab-df-convert:hover {\n",
              "      background-color: #434B5C;\n",
              "      box-shadow: 0px 1px 3px 1px rgba(0, 0, 0, 0.15);\n",
              "      filter: drop-shadow(0px 1px 2px rgba(0, 0, 0, 0.3));\n",
              "      fill: #FFFFFF;\n",
              "    }\n",
              "  </style>\n",
              "\n",
              "      <script>\n",
              "        const buttonEl =\n",
              "          document.querySelector('#df-db0b36e4-1c29-44a9-b34a-1cb0753d1ca4 button.colab-df-convert');\n",
              "        buttonEl.style.display =\n",
              "          google.colab.kernel.accessAllowed ? 'block' : 'none';\n",
              "\n",
              "        async function convertToInteractive(key) {\n",
              "          const element = document.querySelector('#df-db0b36e4-1c29-44a9-b34a-1cb0753d1ca4');\n",
              "          const dataTable =\n",
              "            await google.colab.kernel.invokeFunction('convertToInteractive',\n",
              "                                                     [key], {});\n",
              "          if (!dataTable) return;\n",
              "\n",
              "          const docLinkHtml = 'Like what you see? Visit the ' +\n",
              "            '<a target=\"_blank\" href=https://colab.research.google.com/notebooks/data_table.ipynb>data table notebook</a>'\n",
              "            + ' to learn more about interactive tables.';\n",
              "          element.innerHTML = '';\n",
              "          dataTable['output_type'] = 'display_data';\n",
              "          await google.colab.output.renderOutput(dataTable, element);\n",
              "          const docLink = document.createElement('div');\n",
              "          docLink.innerHTML = docLinkHtml;\n",
              "          element.appendChild(docLink);\n",
              "        }\n",
              "      </script>\n",
              "    </div>\n",
              "  </div>\n",
              "  "
            ],
            "text/plain": [
              "           Apellidos PrimerApellido SegundoApellido\n",
              "0      MEJIA FONSECA          MEJIA         FONSECA\n",
              "1      MEJIA FONSECA          MEJIA         FONSECA\n",
              "2      MEJIA FONSECA          MEJIA         FONSECA\n",
              "3      MEJIA FONSECA          MEJIA         FONSECA\n",
              "4      MEJIA FONSECA          MEJIA         FONSECA\n",
              "23029  MEJIA FONSECA          MEJIA         FONSECA\n",
              "23030  MEJIA FONSECA          MEJIA         FONSECA\n",
              "23031  MEJIA FONSECA          MEJIA         FONSECA\n",
              "23032  MEJIA FONSECA          MEJIA         FONSECA\n",
              "23033  MEJIA FONSECA          MEJIA         FONSECA"
            ]
          },
          "metadata": {},
          "execution_count": 11
        }
      ]
    },
    {
      "cell_type": "markdown",
      "metadata": {
        "id": "_054f6yWb37U"
      },
      "source": [
        "## Working with categorical variables and dates"
      ]
    },
    {
      "cell_type": "markdown",
      "metadata": {
        "id": "AUZu7wvUb37V"
      },
      "source": [
        "Let's check the columns we have:"
      ]
    },
    {
      "cell_type": "code",
      "execution_count": 12,
      "metadata": {
        "colab": {
          "base_uri": "https://localhost:8080/"
        },
        "id": "ReiZDWZvb37V",
        "outputId": "41ec918f-9e8c-4e97-9c1c-9fc39b2cfe59"
      },
      "outputs": [
        {
          "output_type": "stream",
          "name": "stdout",
          "text": [
            "<class 'pandas.core.frame.DataFrame'>\n",
            "RangeIndex: 23034 entries, 0 to 23033\n",
            "Data columns (total 27 columns):\n",
            " #   Column                    Non-Null Count  Dtype \n",
            "---  ------                    --------------  ----- \n",
            " 0   ID                        23034 non-null  int64 \n",
            " 1   FechaMuestra              23034 non-null  object\n",
            " 2   ZonaGeografica            23034 non-null  object\n",
            " 3   TipoDocumento             23034 non-null  object\n",
            " 4   Documento                 23034 non-null  int64 \n",
            " 5   Evento                    23034 non-null  object\n",
            " 6   Nombres                   23034 non-null  object\n",
            " 7   Apellidos                 23034 non-null  object\n",
            " 8   Sexo                      22860 non-null  object\n",
            " 9   Condicion_Final           23034 non-null  object\n",
            " 10  EAPB                      19706 non-null  object\n",
            " 11  Pais_Residencia           8799 non-null   object\n",
            " 12  Departamento_Residencia   8504 non-null   object\n",
            " 13  Municipio_Residencia      8529 non-null   object\n",
            " 14  Trabajador_Salud          23034 non-null  object\n",
            " 15  Contacto_Caso_Confirmado  23034 non-null  object\n",
            " 16  EstadoCaso                23034 non-null  object\n",
            " 17  GenerarResultado          23034 non-null  int64 \n",
            " 18  FiltroUsuario             23034 non-null  int64 \n",
            " 19  Tipo_Prueba               23034 non-null  object\n",
            " 20  Fecha_Resultado           23034 non-null  object\n",
            " 21  Departamento              23034 non-null  object\n",
            " 22  Ciudad                    23034 non-null  object\n",
            " 23  PrimerNombre              23034 non-null  object\n",
            " 24  SegundoNombre             17540 non-null  object\n",
            " 25  PrimerApellido            23034 non-null  object\n",
            " 26  SegundoApellido           23034 non-null  object\n",
            "dtypes: int64(4), object(23)\n",
            "memory usage: 4.7+ MB\n"
          ]
        }
      ],
      "source": [
        "data.info()"
      ]
    },
    {
      "cell_type": "markdown",
      "metadata": {
        "id": "aJhVHvROb37W"
      },
      "source": [
        "### `datetime` conversion\n",
        "\n",
        "You can see that `FechaMuestra` is structured as a date, but it cannot be manipulated as if it were a date! Thus, let's go ahead and convert it to a `datetime` object so that we can use various Python functions on it:"
      ]
    },
    {
      "cell_type": "code",
      "execution_count": 13,
      "metadata": {
        "colab": {
          "base_uri": "https://localhost:8080/"
        },
        "id": "J8Aub9m4b37X",
        "outputId": "d8eb0faf-de95-4a26-a291-498aafda3257"
      },
      "outputs": [
        {
          "output_type": "execute_result",
          "data": {
            "text/plain": [
              "array(['3/26/20', '3/29/20', '4/3/20', '3/31/20', '3/17/20', '3/30/20',\n",
              "       '3/19/20', '3/23/20', '4/1/20', '4/7/20', '3/18/20', '4/6/20',\n",
              "       '3/13/20', '3/22/20', '3/14/20', '4/5/20', '3/21/20', '4/8/20',\n",
              "       '3/16/20', '4/2/20', '3/28/20', '3/20/20', '3/25/20', '4/4/20',\n",
              "       '3/27/20', '3/24/20', '4/9/20', '6/19/20', '6/17/20', '6/20/20',\n",
              "       '6/15/20', '6/18/20', '6/11/20', '6/13/20', '6/16/20', '6/12/20',\n",
              "       '6/10/20', '6/14/20', '5/29/20', '6/8/20', '6/3/20', '6/9/20',\n",
              "       '6/7/20', '6/6/20', '6/5/20', '6/2/20', '6/4/20', '4/20/20',\n",
              "       '4/25/20', '4/26/20', '4/21/20', '4/27/20', '4/28/20', '5/14/20',\n",
              "       '5/28/20', '4/18/20', '4/17/20', '4/22/20', '4/24/20', '4/16/20',\n",
              "       '4/23/20', '3/12/20', '6/1/20', '5/26/20', '5/25/20', '5/30/20',\n",
              "       '5/31/20', '5/24/20', '5/27/20', '5/21/20', '5/15/20', '5/22/20',\n",
              "       '5/10/20', '5/12/20', '5/13/20', '5/16/20', '5/17/20', '5/20/20',\n",
              "       '5/23/20', '4/10/20', '4/11/20', '4/15/20', '5/11/20', '5/9/20',\n",
              "       '5/1/20', '5/8/20', '5/2/20', '5/4/20', '5/5/20', '5/6/20',\n",
              "       '5/3/20', '5/7/20', '4/30/20', '5/18/20', '5/19/20', '4/19/20',\n",
              "       '4/13/20', '4/29/20', '4/14/20', '4/12/20', '3/15/20', '3/2/20',\n",
              "       '2/14/20'], dtype=object)"
            ]
          },
          "metadata": {},
          "execution_count": 13
        }
      ],
      "source": [
        "data.FechaMuestra.unique()"
      ]
    },
    {
      "cell_type": "code",
      "execution_count": 14,
      "metadata": {
        "id": "zrbXYEPjb37Y"
      },
      "outputs": [],
      "source": [
        "data.FechaMuestra = pd.to_datetime(data.FechaMuestra)"
      ]
    },
    {
      "cell_type": "code",
      "execution_count": 15,
      "metadata": {
        "colab": {
          "base_uri": "https://localhost:8080/"
        },
        "id": "DLoWySjkb37a",
        "outputId": "15926817-ba89-4ad4-96de-2e1f4c3eea2d"
      },
      "outputs": [
        {
          "output_type": "execute_result",
          "data": {
            "text/plain": [
              "0   2020-03-26\n",
              "1   2020-03-29\n",
              "2   2020-04-03\n",
              "3   2020-03-31\n",
              "4   2020-03-17\n",
              "5   2020-04-03\n",
              "6   2020-03-30\n",
              "7   2020-03-19\n",
              "8   2020-03-23\n",
              "9   2020-04-01\n",
              "Name: FechaMuestra, dtype: datetime64[ns]"
            ]
          },
          "metadata": {},
          "execution_count": 15
        }
      ],
      "source": [
        "data.FechaMuestra.head(10)"
      ]
    },
    {
      "cell_type": "code",
      "execution_count": 16,
      "metadata": {
        "colab": {
          "base_uri": "https://localhost:8080/",
          "height": 280
        },
        "id": "Q-M5EdG1b37a",
        "outputId": "1a64b055-b8b1-4d00-b39b-e4783130c8a3"
      },
      "outputs": [
        {
          "output_type": "execute_result",
          "data": {
            "text/html": [
              "\n",
              "  <div id=\"df-d8fd5e95-2e2e-46c7-9849-de8e71a2e2d7\">\n",
              "    <div class=\"colab-df-container\">\n",
              "      <div>\n",
              "<style scoped>\n",
              "    .dataframe tbody tr th:only-of-type {\n",
              "        vertical-align: middle;\n",
              "    }\n",
              "\n",
              "    .dataframe tbody tr th {\n",
              "        vertical-align: top;\n",
              "    }\n",
              "\n",
              "    .dataframe thead th {\n",
              "        text-align: right;\n",
              "    }\n",
              "</style>\n",
              "<table border=\"1\" class=\"dataframe\">\n",
              "  <thead>\n",
              "    <tr style=\"text-align: right;\">\n",
              "      <th></th>\n",
              "      <th>ID</th>\n",
              "      <th>FechaMuestra</th>\n",
              "      <th>ZonaGeografica</th>\n",
              "      <th>TipoDocumento</th>\n",
              "      <th>Documento</th>\n",
              "      <th>Evento</th>\n",
              "      <th>Nombres</th>\n",
              "      <th>Apellidos</th>\n",
              "      <th>Sexo</th>\n",
              "      <th>Condicion_Final</th>\n",
              "      <th>EAPB</th>\n",
              "      <th>Pais_Residencia</th>\n",
              "      <th>Departamento_Residencia</th>\n",
              "      <th>Municipio_Residencia</th>\n",
              "      <th>Trabajador_Salud</th>\n",
              "      <th>Contacto_Caso_Confirmado</th>\n",
              "      <th>EstadoCaso</th>\n",
              "      <th>GenerarResultado</th>\n",
              "      <th>FiltroUsuario</th>\n",
              "      <th>Tipo_Prueba</th>\n",
              "      <th>Fecha_Resultado</th>\n",
              "      <th>Departamento</th>\n",
              "      <th>Ciudad</th>\n",
              "      <th>PrimerNombre</th>\n",
              "      <th>SegundoNombre</th>\n",
              "      <th>PrimerApellido</th>\n",
              "      <th>SegundoApellido</th>\n",
              "      <th>WeekDay</th>\n",
              "    </tr>\n",
              "  </thead>\n",
              "  <tbody>\n",
              "    <tr>\n",
              "      <th>0</th>\n",
              "      <td>1</td>\n",
              "      <td>2020-03-26</td>\n",
              "      <td>BOGOTA DC-BOGOTA DC</td>\n",
              "      <td>Cédula de ciudadania</td>\n",
              "      <td>1234567891</td>\n",
              "      <td>INFLUENZA HUMANA POR VIRUS NUEVO              ...</td>\n",
              "      <td>DIANA MARIA</td>\n",
              "      <td>MEJIA FONSECA</td>\n",
              "      <td>Femenino</td>\n",
              "      <td></td>\n",
              "      <td>ALIANSALUD</td>\n",
              "      <td>COLOMBIA</td>\n",
              "      <td>BOGOTA DC</td>\n",
              "      <td>BOGOTA DC</td>\n",
              "      <td>NO</td>\n",
              "      <td>NO</td>\n",
              "      <td>RESULTADO_GENERADO                            ...</td>\n",
              "      <td>1</td>\n",
              "      <td>29628</td>\n",
              "      <td>RT-PCR</td>\n",
              "      <td>3/26/20</td>\n",
              "      <td>BOGOTA DC</td>\n",
              "      <td>BOGOTA DC</td>\n",
              "      <td>DIANA</td>\n",
              "      <td>MARIA</td>\n",
              "      <td>MEJIA</td>\n",
              "      <td>FONSECA</td>\n",
              "      <td>Thursday</td>\n",
              "    </tr>\n",
              "    <tr>\n",
              "      <th>1</th>\n",
              "      <td>2</td>\n",
              "      <td>2020-03-29</td>\n",
              "      <td>BOGOTA DC-BOGOTA DC</td>\n",
              "      <td>Cédula de ciudadania</td>\n",
              "      <td>1234567892</td>\n",
              "      <td>INFLUENZA HUMANA POR VIRUS NUEVO              ...</td>\n",
              "      <td>JUAN SEBASTIAN</td>\n",
              "      <td>MEJIA FONSECA</td>\n",
              "      <td>Masculino</td>\n",
              "      <td></td>\n",
              "      <td>SURA EPS</td>\n",
              "      <td>COLOMBIA</td>\n",
              "      <td>BOGOTA DC</td>\n",
              "      <td>BOGOTA DC</td>\n",
              "      <td>NO</td>\n",
              "      <td>NO</td>\n",
              "      <td>RESULTADO_GENERADO                            ...</td>\n",
              "      <td>1</td>\n",
              "      <td>29628</td>\n",
              "      <td>RT-PCR</td>\n",
              "      <td>3/29/20</td>\n",
              "      <td>BOGOTA DC</td>\n",
              "      <td>BOGOTA DC</td>\n",
              "      <td>JUAN</td>\n",
              "      <td>SEBASTIAN</td>\n",
              "      <td>MEJIA</td>\n",
              "      <td>FONSECA</td>\n",
              "      <td>Sunday</td>\n",
              "    </tr>\n",
              "  </tbody>\n",
              "</table>\n",
              "</div>\n",
              "      <button class=\"colab-df-convert\" onclick=\"convertToInteractive('df-d8fd5e95-2e2e-46c7-9849-de8e71a2e2d7')\"\n",
              "              title=\"Convert this dataframe to an interactive table.\"\n",
              "              style=\"display:none;\">\n",
              "        \n",
              "  <svg xmlns=\"http://www.w3.org/2000/svg\" height=\"24px\"viewBox=\"0 0 24 24\"\n",
              "       width=\"24px\">\n",
              "    <path d=\"M0 0h24v24H0V0z\" fill=\"none\"/>\n",
              "    <path d=\"M18.56 5.44l.94 2.06.94-2.06 2.06-.94-2.06-.94-.94-2.06-.94 2.06-2.06.94zm-11 1L8.5 8.5l.94-2.06 2.06-.94-2.06-.94L8.5 2.5l-.94 2.06-2.06.94zm10 10l.94 2.06.94-2.06 2.06-.94-2.06-.94-.94-2.06-.94 2.06-2.06.94z\"/><path d=\"M17.41 7.96l-1.37-1.37c-.4-.4-.92-.59-1.43-.59-.52 0-1.04.2-1.43.59L10.3 9.45l-7.72 7.72c-.78.78-.78 2.05 0 2.83L4 21.41c.39.39.9.59 1.41.59.51 0 1.02-.2 1.41-.59l7.78-7.78 2.81-2.81c.8-.78.8-2.07 0-2.86zM5.41 20L4 18.59l7.72-7.72 1.47 1.35L5.41 20z\"/>\n",
              "  </svg>\n",
              "      </button>\n",
              "      \n",
              "  <style>\n",
              "    .colab-df-container {\n",
              "      display:flex;\n",
              "      flex-wrap:wrap;\n",
              "      gap: 12px;\n",
              "    }\n",
              "\n",
              "    .colab-df-convert {\n",
              "      background-color: #E8F0FE;\n",
              "      border: none;\n",
              "      border-radius: 50%;\n",
              "      cursor: pointer;\n",
              "      display: none;\n",
              "      fill: #1967D2;\n",
              "      height: 32px;\n",
              "      padding: 0 0 0 0;\n",
              "      width: 32px;\n",
              "    }\n",
              "\n",
              "    .colab-df-convert:hover {\n",
              "      background-color: #E2EBFA;\n",
              "      box-shadow: 0px 1px 2px rgba(60, 64, 67, 0.3), 0px 1px 3px 1px rgba(60, 64, 67, 0.15);\n",
              "      fill: #174EA6;\n",
              "    }\n",
              "\n",
              "    [theme=dark] .colab-df-convert {\n",
              "      background-color: #3B4455;\n",
              "      fill: #D2E3FC;\n",
              "    }\n",
              "\n",
              "    [theme=dark] .colab-df-convert:hover {\n",
              "      background-color: #434B5C;\n",
              "      box-shadow: 0px 1px 3px 1px rgba(0, 0, 0, 0.15);\n",
              "      filter: drop-shadow(0px 1px 2px rgba(0, 0, 0, 0.3));\n",
              "      fill: #FFFFFF;\n",
              "    }\n",
              "  </style>\n",
              "\n",
              "      <script>\n",
              "        const buttonEl =\n",
              "          document.querySelector('#df-d8fd5e95-2e2e-46c7-9849-de8e71a2e2d7 button.colab-df-convert');\n",
              "        buttonEl.style.display =\n",
              "          google.colab.kernel.accessAllowed ? 'block' : 'none';\n",
              "\n",
              "        async function convertToInteractive(key) {\n",
              "          const element = document.querySelector('#df-d8fd5e95-2e2e-46c7-9849-de8e71a2e2d7');\n",
              "          const dataTable =\n",
              "            await google.colab.kernel.invokeFunction('convertToInteractive',\n",
              "                                                     [key], {});\n",
              "          if (!dataTable) return;\n",
              "\n",
              "          const docLinkHtml = 'Like what you see? Visit the ' +\n",
              "            '<a target=\"_blank\" href=https://colab.research.google.com/notebooks/data_table.ipynb>data table notebook</a>'\n",
              "            + ' to learn more about interactive tables.';\n",
              "          element.innerHTML = '';\n",
              "          dataTable['output_type'] = 'display_data';\n",
              "          await google.colab.output.renderOutput(dataTable, element);\n",
              "          const docLink = document.createElement('div');\n",
              "          docLink.innerHTML = docLinkHtml;\n",
              "          element.appendChild(docLink);\n",
              "        }\n",
              "      </script>\n",
              "    </div>\n",
              "  </div>\n",
              "  "
            ],
            "text/plain": [
              "   ID FechaMuestra       ZonaGeografica         TipoDocumento   Documento  \\\n",
              "0   1   2020-03-26  BOGOTA DC-BOGOTA DC  Cédula de ciudadania  1234567891   \n",
              "1   2   2020-03-29  BOGOTA DC-BOGOTA DC  Cédula de ciudadania  1234567892   \n",
              "\n",
              "                                              Evento         Nombres  \\\n",
              "0  INFLUENZA HUMANA POR VIRUS NUEVO              ...     DIANA MARIA   \n",
              "1  INFLUENZA HUMANA POR VIRUS NUEVO              ...  JUAN SEBASTIAN   \n",
              "\n",
              "       Apellidos       Sexo       Condicion_Final        EAPB Pais_Residencia  \\\n",
              "0  MEJIA FONSECA   Femenino                        ALIANSALUD        COLOMBIA   \n",
              "1  MEJIA FONSECA  Masculino                          SURA EPS        COLOMBIA   \n",
              "\n",
              "  Departamento_Residencia Municipio_Residencia Trabajador_Salud  \\\n",
              "0               BOGOTA DC            BOGOTA DC               NO   \n",
              "1               BOGOTA DC            BOGOTA DC               NO   \n",
              "\n",
              "  Contacto_Caso_Confirmado                                         EstadoCaso  \\\n",
              "0                       NO  RESULTADO_GENERADO                            ...   \n",
              "1                       NO  RESULTADO_GENERADO                            ...   \n",
              "\n",
              "   GenerarResultado  FiltroUsuario Tipo_Prueba Fecha_Resultado Departamento  \\\n",
              "0                 1          29628      RT-PCR         3/26/20    BOGOTA DC   \n",
              "1                 1          29628      RT-PCR         3/29/20    BOGOTA DC   \n",
              "\n",
              "      Ciudad PrimerNombre SegundoNombre PrimerApellido SegundoApellido  \\\n",
              "0  BOGOTA DC        DIANA         MARIA          MEJIA         FONSECA   \n",
              "1  BOGOTA DC         JUAN     SEBASTIAN          MEJIA         FONSECA   \n",
              "\n",
              "    WeekDay  \n",
              "0  Thursday  \n",
              "1    Sunday  "
            ]
          },
          "metadata": {},
          "execution_count": 16
        }
      ],
      "source": [
        "# You can create additional information with the date as WeekDay\n",
        "# holidays\n",
        "\n",
        "data['WeekDay'] = data.FechaMuestra.dt.day_name()\n",
        "data.head(2)"
      ]
    },
    {
      "cell_type": "code",
      "execution_count": 17,
      "metadata": {
        "colab": {
          "base_uri": "https://localhost:8080/"
        },
        "id": "hifWtxYlb37b",
        "outputId": "b1a8227d-2473-4d1e-fc02-cc76dab6238e"
      },
      "outputs": [
        {
          "output_type": "execute_result",
          "data": {
            "text/plain": [
              "array(['Thursday', 'Sunday', 'Friday', 'Tuesday', 'Monday', 'Wednesday',\n",
              "       'Saturday'], dtype=object)"
            ]
          },
          "metadata": {},
          "execution_count": 17
        }
      ],
      "source": [
        "data.WeekDay.unique()"
      ]
    },
    {
      "cell_type": "code",
      "execution_count": 18,
      "metadata": {
        "id": "dZ-qEYFHb37b"
      },
      "outputs": [],
      "source": [
        "# You can convert the column as categorical and do it ordered.\n",
        "cat_dtype = pd.api.types.CategoricalDtype(categories=['Monday','Tuesday','Wednesday','Thursday', 'Friday', 'Saturday', 'Sunday'], ordered=True)\n",
        "data.WeekDay = data.WeekDay.astype(cat_dtype) # int str "
      ]
    },
    {
      "cell_type": "code",
      "execution_count": 19,
      "metadata": {
        "colab": {
          "base_uri": "https://localhost:8080/"
        },
        "id": "EczCYFEDb37c",
        "outputId": "2ab6625c-ede2-4e76-f676-d6eb0dd0a25c"
      },
      "outputs": [
        {
          "output_type": "execute_result",
          "data": {
            "text/plain": [
              "['Thursday', 'Sunday', 'Friday', 'Tuesday', 'Monday', 'Wednesday', 'Saturday']\n",
              "Categories (7, object): ['Monday' < 'Tuesday' < 'Wednesday' < 'Thursday' < 'Friday' < 'Saturday' <\n",
              "                         'Sunday']"
            ]
          },
          "metadata": {},
          "execution_count": 19
        }
      ],
      "source": [
        "data.WeekDay.unique()"
      ]
    },
    {
      "cell_type": "markdown",
      "metadata": {
        "id": "8j5s824gb37d"
      },
      "source": [
        "### Replacing null values\n",
        "\n",
        "Now, we can do a `describe()` on the categorical variables to see more information about them:"
      ]
    },
    {
      "cell_type": "code",
      "execution_count": 20,
      "metadata": {
        "colab": {
          "base_uri": "https://localhost:8080/",
          "height": 291
        },
        "id": "im_DCZbDb37d",
        "outputId": "57527eda-ebc4-42df-8607-b3040ff779d4"
      },
      "outputs": [
        {
          "output_type": "execute_result",
          "data": {
            "text/html": [
              "\n",
              "  <div id=\"df-fc09812a-32f1-4cff-9759-0c457dcecc31\">\n",
              "    <div class=\"colab-df-container\">\n",
              "      <div>\n",
              "<style scoped>\n",
              "    .dataframe tbody tr th:only-of-type {\n",
              "        vertical-align: middle;\n",
              "    }\n",
              "\n",
              "    .dataframe tbody tr th {\n",
              "        vertical-align: top;\n",
              "    }\n",
              "\n",
              "    .dataframe thead th {\n",
              "        text-align: right;\n",
              "    }\n",
              "</style>\n",
              "<table border=\"1\" class=\"dataframe\">\n",
              "  <thead>\n",
              "    <tr style=\"text-align: right;\">\n",
              "      <th></th>\n",
              "      <th>ZonaGeografica</th>\n",
              "      <th>TipoDocumento</th>\n",
              "      <th>Evento</th>\n",
              "      <th>Nombres</th>\n",
              "      <th>Apellidos</th>\n",
              "      <th>Sexo</th>\n",
              "      <th>Condicion_Final</th>\n",
              "      <th>EAPB</th>\n",
              "      <th>Pais_Residencia</th>\n",
              "      <th>Departamento_Residencia</th>\n",
              "      <th>Municipio_Residencia</th>\n",
              "      <th>Trabajador_Salud</th>\n",
              "      <th>Contacto_Caso_Confirmado</th>\n",
              "      <th>EstadoCaso</th>\n",
              "      <th>Tipo_Prueba</th>\n",
              "      <th>Fecha_Resultado</th>\n",
              "      <th>Departamento</th>\n",
              "      <th>Ciudad</th>\n",
              "      <th>PrimerNombre</th>\n",
              "      <th>SegundoNombre</th>\n",
              "      <th>PrimerApellido</th>\n",
              "      <th>SegundoApellido</th>\n",
              "    </tr>\n",
              "  </thead>\n",
              "  <tbody>\n",
              "    <tr>\n",
              "      <th>count</th>\n",
              "      <td>23034</td>\n",
              "      <td>23034</td>\n",
              "      <td>23034</td>\n",
              "      <td>23034</td>\n",
              "      <td>23034</td>\n",
              "      <td>22860</td>\n",
              "      <td>23034</td>\n",
              "      <td>19706</td>\n",
              "      <td>8799</td>\n",
              "      <td>8504</td>\n",
              "      <td>8529</td>\n",
              "      <td>23034</td>\n",
              "      <td>23034</td>\n",
              "      <td>23034</td>\n",
              "      <td>23034</td>\n",
              "      <td>23034</td>\n",
              "      <td>23034</td>\n",
              "      <td>23034</td>\n",
              "      <td>23034</td>\n",
              "      <td>17540</td>\n",
              "      <td>23034</td>\n",
              "      <td>23034</td>\n",
              "    </tr>\n",
              "    <tr>\n",
              "      <th>unique</th>\n",
              "      <td>2</td>\n",
              "      <td>9</td>\n",
              "      <td>5</td>\n",
              "      <td>12928</td>\n",
              "      <td>1</td>\n",
              "      <td>4</td>\n",
              "      <td>3</td>\n",
              "      <td>114</td>\n",
              "      <td>4</td>\n",
              "      <td>8</td>\n",
              "      <td>101</td>\n",
              "      <td>2</td>\n",
              "      <td>2</td>\n",
              "      <td>1</td>\n",
              "      <td>1</td>\n",
              "      <td>102</td>\n",
              "      <td>2</td>\n",
              "      <td>2</td>\n",
              "      <td>3384</td>\n",
              "      <td>2952</td>\n",
              "      <td>1</td>\n",
              "      <td>1</td>\n",
              "    </tr>\n",
              "    <tr>\n",
              "      <th>top</th>\n",
              "      <td>BOGOTA DC-BOGOTA DC</td>\n",
              "      <td>Cédula de ciudadania</td>\n",
              "      <td>INFLUENZA HUMANA POR VIRUS NUEVO              ...</td>\n",
              "      <td>JUAN CARLOS</td>\n",
              "      <td>MEJIA FONSECA</td>\n",
              "      <td>Femenino</td>\n",
              "      <td></td>\n",
              "      <td>COMPENSAR EPS</td>\n",
              "      <td>COLOMBIA</td>\n",
              "      <td>BOGOTA DC</td>\n",
              "      <td>BOGOTA DC</td>\n",
              "      <td>NO</td>\n",
              "      <td>NO</td>\n",
              "      <td>RESULTADO_GENERADO                            ...</td>\n",
              "      <td>RT-PCR</td>\n",
              "      <td>5/21/20</td>\n",
              "      <td>BOGOTA DC</td>\n",
              "      <td>BOGOTA DC</td>\n",
              "      <td>MARIA</td>\n",
              "      <td>ANDRES</td>\n",
              "      <td>MEJIA</td>\n",
              "      <td>FONSECA</td>\n",
              "    </tr>\n",
              "    <tr>\n",
              "      <th>freq</th>\n",
              "      <td>22326</td>\n",
              "      <td>20278</td>\n",
              "      <td>22063</td>\n",
              "      <td>74</td>\n",
              "      <td>23034</td>\n",
              "      <td>11756</td>\n",
              "      <td>16923</td>\n",
              "      <td>3829</td>\n",
              "      <td>8796</td>\n",
              "      <td>8479</td>\n",
              "      <td>8145</td>\n",
              "      <td>22501</td>\n",
              "      <td>20969</td>\n",
              "      <td>23034</td>\n",
              "      <td>23034</td>\n",
              "      <td>790</td>\n",
              "      <td>22326</td>\n",
              "      <td>22326</td>\n",
              "      <td>1166</td>\n",
              "      <td>361</td>\n",
              "      <td>23034</td>\n",
              "      <td>23034</td>\n",
              "    </tr>\n",
              "  </tbody>\n",
              "</table>\n",
              "</div>\n",
              "      <button class=\"colab-df-convert\" onclick=\"convertToInteractive('df-fc09812a-32f1-4cff-9759-0c457dcecc31')\"\n",
              "              title=\"Convert this dataframe to an interactive table.\"\n",
              "              style=\"display:none;\">\n",
              "        \n",
              "  <svg xmlns=\"http://www.w3.org/2000/svg\" height=\"24px\"viewBox=\"0 0 24 24\"\n",
              "       width=\"24px\">\n",
              "    <path d=\"M0 0h24v24H0V0z\" fill=\"none\"/>\n",
              "    <path d=\"M18.56 5.44l.94 2.06.94-2.06 2.06-.94-2.06-.94-.94-2.06-.94 2.06-2.06.94zm-11 1L8.5 8.5l.94-2.06 2.06-.94-2.06-.94L8.5 2.5l-.94 2.06-2.06.94zm10 10l.94 2.06.94-2.06 2.06-.94-2.06-.94-.94-2.06-.94 2.06-2.06.94z\"/><path d=\"M17.41 7.96l-1.37-1.37c-.4-.4-.92-.59-1.43-.59-.52 0-1.04.2-1.43.59L10.3 9.45l-7.72 7.72c-.78.78-.78 2.05 0 2.83L4 21.41c.39.39.9.59 1.41.59.51 0 1.02-.2 1.41-.59l7.78-7.78 2.81-2.81c.8-.78.8-2.07 0-2.86zM5.41 20L4 18.59l7.72-7.72 1.47 1.35L5.41 20z\"/>\n",
              "  </svg>\n",
              "      </button>\n",
              "      \n",
              "  <style>\n",
              "    .colab-df-container {\n",
              "      display:flex;\n",
              "      flex-wrap:wrap;\n",
              "      gap: 12px;\n",
              "    }\n",
              "\n",
              "    .colab-df-convert {\n",
              "      background-color: #E8F0FE;\n",
              "      border: none;\n",
              "      border-radius: 50%;\n",
              "      cursor: pointer;\n",
              "      display: none;\n",
              "      fill: #1967D2;\n",
              "      height: 32px;\n",
              "      padding: 0 0 0 0;\n",
              "      width: 32px;\n",
              "    }\n",
              "\n",
              "    .colab-df-convert:hover {\n",
              "      background-color: #E2EBFA;\n",
              "      box-shadow: 0px 1px 2px rgba(60, 64, 67, 0.3), 0px 1px 3px 1px rgba(60, 64, 67, 0.15);\n",
              "      fill: #174EA6;\n",
              "    }\n",
              "\n",
              "    [theme=dark] .colab-df-convert {\n",
              "      background-color: #3B4455;\n",
              "      fill: #D2E3FC;\n",
              "    }\n",
              "\n",
              "    [theme=dark] .colab-df-convert:hover {\n",
              "      background-color: #434B5C;\n",
              "      box-shadow: 0px 1px 3px 1px rgba(0, 0, 0, 0.15);\n",
              "      filter: drop-shadow(0px 1px 2px rgba(0, 0, 0, 0.3));\n",
              "      fill: #FFFFFF;\n",
              "    }\n",
              "  </style>\n",
              "\n",
              "      <script>\n",
              "        const buttonEl =\n",
              "          document.querySelector('#df-fc09812a-32f1-4cff-9759-0c457dcecc31 button.colab-df-convert');\n",
              "        buttonEl.style.display =\n",
              "          google.colab.kernel.accessAllowed ? 'block' : 'none';\n",
              "\n",
              "        async function convertToInteractive(key) {\n",
              "          const element = document.querySelector('#df-fc09812a-32f1-4cff-9759-0c457dcecc31');\n",
              "          const dataTable =\n",
              "            await google.colab.kernel.invokeFunction('convertToInteractive',\n",
              "                                                     [key], {});\n",
              "          if (!dataTable) return;\n",
              "\n",
              "          const docLinkHtml = 'Like what you see? Visit the ' +\n",
              "            '<a target=\"_blank\" href=https://colab.research.google.com/notebooks/data_table.ipynb>data table notebook</a>'\n",
              "            + ' to learn more about interactive tables.';\n",
              "          element.innerHTML = '';\n",
              "          dataTable['output_type'] = 'display_data';\n",
              "          await google.colab.output.renderOutput(dataTable, element);\n",
              "          const docLink = document.createElement('div');\n",
              "          docLink.innerHTML = docLinkHtml;\n",
              "          element.appendChild(docLink);\n",
              "        }\n",
              "      </script>\n",
              "    </div>\n",
              "  </div>\n",
              "  "
            ],
            "text/plain": [
              "             ZonaGeografica         TipoDocumento  \\\n",
              "count                 23034                 23034   \n",
              "unique                    2                     9   \n",
              "top     BOGOTA DC-BOGOTA DC  Cédula de ciudadania   \n",
              "freq                  22326                 20278   \n",
              "\n",
              "                                                   Evento      Nombres  \\\n",
              "count                                               23034        23034   \n",
              "unique                                                  5        12928   \n",
              "top     INFLUENZA HUMANA POR VIRUS NUEVO              ...  JUAN CARLOS   \n",
              "freq                                                22063           74   \n",
              "\n",
              "            Apellidos      Sexo       Condicion_Final           EAPB  \\\n",
              "count           23034     22860                 23034          19706   \n",
              "unique              1         4                     3            114   \n",
              "top     MEJIA FONSECA  Femenino                        COMPENSAR EPS   \n",
              "freq            23034     11756                 16923           3829   \n",
              "\n",
              "       Pais_Residencia Departamento_Residencia Municipio_Residencia  \\\n",
              "count             8799                    8504                 8529   \n",
              "unique               4                       8                  101   \n",
              "top           COLOMBIA               BOGOTA DC            BOGOTA DC   \n",
              "freq              8796                    8479                 8145   \n",
              "\n",
              "       Trabajador_Salud Contacto_Caso_Confirmado  \\\n",
              "count             23034                    23034   \n",
              "unique                2                        2   \n",
              "top                  NO                       NO   \n",
              "freq              22501                    20969   \n",
              "\n",
              "                                               EstadoCaso Tipo_Prueba  \\\n",
              "count                                               23034       23034   \n",
              "unique                                                  1           1   \n",
              "top     RESULTADO_GENERADO                            ...      RT-PCR   \n",
              "freq                                                23034       23034   \n",
              "\n",
              "       Fecha_Resultado Departamento     Ciudad PrimerNombre SegundoNombre  \\\n",
              "count            23034        23034      23034        23034         17540   \n",
              "unique             102            2          2         3384          2952   \n",
              "top            5/21/20    BOGOTA DC  BOGOTA DC        MARIA        ANDRES   \n",
              "freq               790        22326      22326         1166           361   \n",
              "\n",
              "       PrimerApellido SegundoApellido  \n",
              "count           23034           23034  \n",
              "unique              1               1  \n",
              "top             MEJIA         FONSECA  \n",
              "freq            23034           23034  "
            ]
          },
          "metadata": {},
          "execution_count": 20
        }
      ],
      "source": [
        "data.describe(include ='O')"
      ]
    },
    {
      "cell_type": "markdown",
      "metadata": {
        "id": "tlyABVbSb37e"
      },
      "source": [
        "For example, `Sexo` has four categories:"
      ]
    },
    {
      "cell_type": "code",
      "execution_count": 21,
      "metadata": {
        "colab": {
          "base_uri": "https://localhost:8080/"
        },
        "id": "P2gmPguXb37f",
        "outputId": "e9962746-d9c4-44f8-80a9-8f8490626197"
      },
      "outputs": [
        {
          "output_type": "execute_result",
          "data": {
            "text/plain": [
              "array(['Femenino', 'Masculino', 'Mujer', 'Hombre', nan], dtype=object)"
            ]
          },
          "metadata": {},
          "execution_count": 21
        }
      ],
      "source": [
        "data.Sexo.unique()"
      ]
    },
    {
      "cell_type": "markdown",
      "metadata": {
        "id": "Wr82Jf3Vb37f"
      },
      "source": [
        "You can see that there are problems with this column; namely, you need to unify the values and replace the null ones:"
      ]
    },
    {
      "cell_type": "code",
      "execution_count": 22,
      "metadata": {
        "id": "JkdwVA7Eb37f"
      },
      "outputs": [],
      "source": [
        "sexo = {'Mujer':'Femenino','Hombre':'Masculino','Femenino':'Femenino','Masculino':'Masculino'}"
      ]
    },
    {
      "cell_type": "code",
      "execution_count": 23,
      "metadata": {
        "id": "0_rEuA5Pb37f"
      },
      "outputs": [],
      "source": [
        "data.Sexo = data.Sexo.map(sexo)"
      ]
    },
    {
      "cell_type": "code",
      "execution_count": 24,
      "metadata": {
        "colab": {
          "base_uri": "https://localhost:8080/"
        },
        "id": "2UWL063sb37f",
        "outputId": "d16e73a5-3284-4fa5-fe43-f7acbfac3b66"
      },
      "outputs": [
        {
          "output_type": "execute_result",
          "data": {
            "text/plain": [
              "array(['Femenino', 'Masculino', nan], dtype=object)"
            ]
          },
          "metadata": {},
          "execution_count": 24
        }
      ],
      "source": [
        "data.Sexo.unique()"
      ]
    },
    {
      "cell_type": "code",
      "execution_count": 25,
      "metadata": {
        "id": "CUE0JU5-b37h"
      },
      "outputs": [],
      "source": [
        "data.Sexo.fillna('Sin Información', inplace = True)"
      ]
    },
    {
      "cell_type": "code",
      "execution_count": 26,
      "metadata": {
        "colab": {
          "base_uri": "https://localhost:8080/"
        },
        "id": "jnnvKQMOb37h",
        "outputId": "7e14fe5e-220a-4283-d49c-060ea6bf8680"
      },
      "outputs": [
        {
          "output_type": "execute_result",
          "data": {
            "text/plain": [
              "array(['Femenino', 'Masculino', 'Sin Información'], dtype=object)"
            ]
          },
          "metadata": {},
          "execution_count": 26
        }
      ],
      "source": [
        "data.Sexo.unique()"
      ]
    },
    {
      "cell_type": "markdown",
      "metadata": {
        "id": "UAWWxuWLb37i"
      },
      "source": [
        "### Encoding labels\n",
        "\n",
        "Sometimes, it is helpful to encode categorical variable values as numbers instead of text:"
      ]
    },
    {
      "cell_type": "code",
      "execution_count": 27,
      "metadata": {
        "colab": {
          "base_uri": "https://localhost:8080/"
        },
        "id": "GNyh0Yvlb37j",
        "outputId": "a8b81315-5aca-45d6-b004-63baea727558"
      },
      "outputs": [
        {
          "output_type": "stream",
          "name": "stdout",
          "text": [
            "<class 'pandas.core.frame.DataFrame'>\n",
            "RangeIndex: 23034 entries, 0 to 23033\n",
            "Data columns (total 28 columns):\n",
            " #   Column                    Non-Null Count  Dtype         \n",
            "---  ------                    --------------  -----         \n",
            " 0   ID                        23034 non-null  int64         \n",
            " 1   FechaMuestra              23034 non-null  datetime64[ns]\n",
            " 2   ZonaGeografica            23034 non-null  object        \n",
            " 3   TipoDocumento             23034 non-null  object        \n",
            " 4   Documento                 23034 non-null  int64         \n",
            " 5   Evento                    23034 non-null  object        \n",
            " 6   Nombres                   23034 non-null  object        \n",
            " 7   Apellidos                 23034 non-null  object        \n",
            " 8   Sexo                      23034 non-null  object        \n",
            " 9   Condicion_Final           23034 non-null  object        \n",
            " 10  EAPB                      19706 non-null  object        \n",
            " 11  Pais_Residencia           8799 non-null   object        \n",
            " 12  Departamento_Residencia   8504 non-null   object        \n",
            " 13  Municipio_Residencia      8529 non-null   object        \n",
            " 14  Trabajador_Salud          23034 non-null  object        \n",
            " 15  Contacto_Caso_Confirmado  23034 non-null  object        \n",
            " 16  EstadoCaso                23034 non-null  object        \n",
            " 17  GenerarResultado          23034 non-null  int64         \n",
            " 18  FiltroUsuario             23034 non-null  int64         \n",
            " 19  Tipo_Prueba               23034 non-null  object        \n",
            " 20  Fecha_Resultado           23034 non-null  object        \n",
            " 21  Departamento              23034 non-null  object        \n",
            " 22  Ciudad                    23034 non-null  object        \n",
            " 23  PrimerNombre              23034 non-null  object        \n",
            " 24  SegundoNombre             17540 non-null  object        \n",
            " 25  PrimerApellido            23034 non-null  object        \n",
            " 26  SegundoApellido           23034 non-null  object        \n",
            " 27  WeekDay                   23034 non-null  category      \n",
            "dtypes: category(1), datetime64[ns](1), int64(4), object(22)\n",
            "memory usage: 4.8+ MB\n"
          ]
        }
      ],
      "source": [
        "data.info()"
      ]
    },
    {
      "cell_type": "code",
      "execution_count": 28,
      "metadata": {
        "id": "9wq4ZlC9b37k"
      },
      "outputs": [],
      "source": [
        "data.Sexo = data.Sexo.astype('category')"
      ]
    },
    {
      "cell_type": "code",
      "execution_count": 29,
      "metadata": {
        "colab": {
          "base_uri": "https://localhost:8080/"
        },
        "id": "VZBWpmrnb37l",
        "outputId": "dbaf85d0-dbcc-4ba7-8b8c-b0c8c18179b2"
      },
      "outputs": [
        {
          "output_type": "execute_result",
          "data": {
            "text/plain": [
              "['Femenino', 'Masculino', 'Sin Información']\n",
              "Categories (3, object): ['Femenino', 'Masculino', 'Sin Información']"
            ]
          },
          "metadata": {},
          "execution_count": 29
        }
      ],
      "source": [
        "data.Sexo.unique()"
      ]
    },
    {
      "cell_type": "code",
      "execution_count": 30,
      "metadata": {
        "colab": {
          "base_uri": "https://localhost:8080/",
          "height": 280
        },
        "id": "8JYD7Xmyb37m",
        "outputId": "fd65cc62-c85f-48e2-d7e9-0c428b10454e"
      },
      "outputs": [
        {
          "output_type": "execute_result",
          "data": {
            "text/html": [
              "\n",
              "  <div id=\"df-e3221cf3-f388-4dd9-84dc-acca2a1b913d\">\n",
              "    <div class=\"colab-df-container\">\n",
              "      <div>\n",
              "<style scoped>\n",
              "    .dataframe tbody tr th:only-of-type {\n",
              "        vertical-align: middle;\n",
              "    }\n",
              "\n",
              "    .dataframe tbody tr th {\n",
              "        vertical-align: top;\n",
              "    }\n",
              "\n",
              "    .dataframe thead th {\n",
              "        text-align: right;\n",
              "    }\n",
              "</style>\n",
              "<table border=\"1\" class=\"dataframe\">\n",
              "  <thead>\n",
              "    <tr style=\"text-align: right;\">\n",
              "      <th></th>\n",
              "      <th>ID</th>\n",
              "      <th>FechaMuestra</th>\n",
              "      <th>ZonaGeografica</th>\n",
              "      <th>TipoDocumento</th>\n",
              "      <th>Documento</th>\n",
              "      <th>Evento</th>\n",
              "      <th>Nombres</th>\n",
              "      <th>Apellidos</th>\n",
              "      <th>Sexo</th>\n",
              "      <th>Condicion_Final</th>\n",
              "      <th>EAPB</th>\n",
              "      <th>Pais_Residencia</th>\n",
              "      <th>Departamento_Residencia</th>\n",
              "      <th>Municipio_Residencia</th>\n",
              "      <th>Trabajador_Salud</th>\n",
              "      <th>Contacto_Caso_Confirmado</th>\n",
              "      <th>EstadoCaso</th>\n",
              "      <th>GenerarResultado</th>\n",
              "      <th>FiltroUsuario</th>\n",
              "      <th>Tipo_Prueba</th>\n",
              "      <th>Fecha_Resultado</th>\n",
              "      <th>Departamento</th>\n",
              "      <th>Ciudad</th>\n",
              "      <th>PrimerNombre</th>\n",
              "      <th>SegundoNombre</th>\n",
              "      <th>PrimerApellido</th>\n",
              "      <th>SegundoApellido</th>\n",
              "      <th>WeekDay</th>\n",
              "    </tr>\n",
              "  </thead>\n",
              "  <tbody>\n",
              "    <tr>\n",
              "      <th>0</th>\n",
              "      <td>1</td>\n",
              "      <td>2020-03-26</td>\n",
              "      <td>BOGOTA DC-BOGOTA DC</td>\n",
              "      <td>Cédula de ciudadania</td>\n",
              "      <td>1234567891</td>\n",
              "      <td>INFLUENZA HUMANA POR VIRUS NUEVO              ...</td>\n",
              "      <td>DIANA MARIA</td>\n",
              "      <td>MEJIA FONSECA</td>\n",
              "      <td>Femenino</td>\n",
              "      <td></td>\n",
              "      <td>ALIANSALUD</td>\n",
              "      <td>COLOMBIA</td>\n",
              "      <td>BOGOTA DC</td>\n",
              "      <td>BOGOTA DC</td>\n",
              "      <td>NO</td>\n",
              "      <td>NO</td>\n",
              "      <td>RESULTADO_GENERADO                            ...</td>\n",
              "      <td>1</td>\n",
              "      <td>29628</td>\n",
              "      <td>RT-PCR</td>\n",
              "      <td>3/26/20</td>\n",
              "      <td>BOGOTA DC</td>\n",
              "      <td>BOGOTA DC</td>\n",
              "      <td>DIANA</td>\n",
              "      <td>MARIA</td>\n",
              "      <td>MEJIA</td>\n",
              "      <td>FONSECA</td>\n",
              "      <td>Thursday</td>\n",
              "    </tr>\n",
              "    <tr>\n",
              "      <th>1</th>\n",
              "      <td>2</td>\n",
              "      <td>2020-03-29</td>\n",
              "      <td>BOGOTA DC-BOGOTA DC</td>\n",
              "      <td>Cédula de ciudadania</td>\n",
              "      <td>1234567892</td>\n",
              "      <td>INFLUENZA HUMANA POR VIRUS NUEVO              ...</td>\n",
              "      <td>JUAN SEBASTIAN</td>\n",
              "      <td>MEJIA FONSECA</td>\n",
              "      <td>Masculino</td>\n",
              "      <td></td>\n",
              "      <td>SURA EPS</td>\n",
              "      <td>COLOMBIA</td>\n",
              "      <td>BOGOTA DC</td>\n",
              "      <td>BOGOTA DC</td>\n",
              "      <td>NO</td>\n",
              "      <td>NO</td>\n",
              "      <td>RESULTADO_GENERADO                            ...</td>\n",
              "      <td>1</td>\n",
              "      <td>29628</td>\n",
              "      <td>RT-PCR</td>\n",
              "      <td>3/29/20</td>\n",
              "      <td>BOGOTA DC</td>\n",
              "      <td>BOGOTA DC</td>\n",
              "      <td>JUAN</td>\n",
              "      <td>SEBASTIAN</td>\n",
              "      <td>MEJIA</td>\n",
              "      <td>FONSECA</td>\n",
              "      <td>Sunday</td>\n",
              "    </tr>\n",
              "  </tbody>\n",
              "</table>\n",
              "</div>\n",
              "      <button class=\"colab-df-convert\" onclick=\"convertToInteractive('df-e3221cf3-f388-4dd9-84dc-acca2a1b913d')\"\n",
              "              title=\"Convert this dataframe to an interactive table.\"\n",
              "              style=\"display:none;\">\n",
              "        \n",
              "  <svg xmlns=\"http://www.w3.org/2000/svg\" height=\"24px\"viewBox=\"0 0 24 24\"\n",
              "       width=\"24px\">\n",
              "    <path d=\"M0 0h24v24H0V0z\" fill=\"none\"/>\n",
              "    <path d=\"M18.56 5.44l.94 2.06.94-2.06 2.06-.94-2.06-.94-.94-2.06-.94 2.06-2.06.94zm-11 1L8.5 8.5l.94-2.06 2.06-.94-2.06-.94L8.5 2.5l-.94 2.06-2.06.94zm10 10l.94 2.06.94-2.06 2.06-.94-2.06-.94-.94-2.06-.94 2.06-2.06.94z\"/><path d=\"M17.41 7.96l-1.37-1.37c-.4-.4-.92-.59-1.43-.59-.52 0-1.04.2-1.43.59L10.3 9.45l-7.72 7.72c-.78.78-.78 2.05 0 2.83L4 21.41c.39.39.9.59 1.41.59.51 0 1.02-.2 1.41-.59l7.78-7.78 2.81-2.81c.8-.78.8-2.07 0-2.86zM5.41 20L4 18.59l7.72-7.72 1.47 1.35L5.41 20z\"/>\n",
              "  </svg>\n",
              "      </button>\n",
              "      \n",
              "  <style>\n",
              "    .colab-df-container {\n",
              "      display:flex;\n",
              "      flex-wrap:wrap;\n",
              "      gap: 12px;\n",
              "    }\n",
              "\n",
              "    .colab-df-convert {\n",
              "      background-color: #E8F0FE;\n",
              "      border: none;\n",
              "      border-radius: 50%;\n",
              "      cursor: pointer;\n",
              "      display: none;\n",
              "      fill: #1967D2;\n",
              "      height: 32px;\n",
              "      padding: 0 0 0 0;\n",
              "      width: 32px;\n",
              "    }\n",
              "\n",
              "    .colab-df-convert:hover {\n",
              "      background-color: #E2EBFA;\n",
              "      box-shadow: 0px 1px 2px rgba(60, 64, 67, 0.3), 0px 1px 3px 1px rgba(60, 64, 67, 0.15);\n",
              "      fill: #174EA6;\n",
              "    }\n",
              "\n",
              "    [theme=dark] .colab-df-convert {\n",
              "      background-color: #3B4455;\n",
              "      fill: #D2E3FC;\n",
              "    }\n",
              "\n",
              "    [theme=dark] .colab-df-convert:hover {\n",
              "      background-color: #434B5C;\n",
              "      box-shadow: 0px 1px 3px 1px rgba(0, 0, 0, 0.15);\n",
              "      filter: drop-shadow(0px 1px 2px rgba(0, 0, 0, 0.3));\n",
              "      fill: #FFFFFF;\n",
              "    }\n",
              "  </style>\n",
              "\n",
              "      <script>\n",
              "        const buttonEl =\n",
              "          document.querySelector('#df-e3221cf3-f388-4dd9-84dc-acca2a1b913d button.colab-df-convert');\n",
              "        buttonEl.style.display =\n",
              "          google.colab.kernel.accessAllowed ? 'block' : 'none';\n",
              "\n",
              "        async function convertToInteractive(key) {\n",
              "          const element = document.querySelector('#df-e3221cf3-f388-4dd9-84dc-acca2a1b913d');\n",
              "          const dataTable =\n",
              "            await google.colab.kernel.invokeFunction('convertToInteractive',\n",
              "                                                     [key], {});\n",
              "          if (!dataTable) return;\n",
              "\n",
              "          const docLinkHtml = 'Like what you see? Visit the ' +\n",
              "            '<a target=\"_blank\" href=https://colab.research.google.com/notebooks/data_table.ipynb>data table notebook</a>'\n",
              "            + ' to learn more about interactive tables.';\n",
              "          element.innerHTML = '';\n",
              "          dataTable['output_type'] = 'display_data';\n",
              "          await google.colab.output.renderOutput(dataTable, element);\n",
              "          const docLink = document.createElement('div');\n",
              "          docLink.innerHTML = docLinkHtml;\n",
              "          element.appendChild(docLink);\n",
              "        }\n",
              "      </script>\n",
              "    </div>\n",
              "  </div>\n",
              "  "
            ],
            "text/plain": [
              "   ID FechaMuestra       ZonaGeografica         TipoDocumento   Documento  \\\n",
              "0   1   2020-03-26  BOGOTA DC-BOGOTA DC  Cédula de ciudadania  1234567891   \n",
              "1   2   2020-03-29  BOGOTA DC-BOGOTA DC  Cédula de ciudadania  1234567892   \n",
              "\n",
              "                                              Evento         Nombres  \\\n",
              "0  INFLUENZA HUMANA POR VIRUS NUEVO              ...     DIANA MARIA   \n",
              "1  INFLUENZA HUMANA POR VIRUS NUEVO              ...  JUAN SEBASTIAN   \n",
              "\n",
              "       Apellidos       Sexo       Condicion_Final        EAPB Pais_Residencia  \\\n",
              "0  MEJIA FONSECA   Femenino                        ALIANSALUD        COLOMBIA   \n",
              "1  MEJIA FONSECA  Masculino                          SURA EPS        COLOMBIA   \n",
              "\n",
              "  Departamento_Residencia Municipio_Residencia Trabajador_Salud  \\\n",
              "0               BOGOTA DC            BOGOTA DC               NO   \n",
              "1               BOGOTA DC            BOGOTA DC               NO   \n",
              "\n",
              "  Contacto_Caso_Confirmado                                         EstadoCaso  \\\n",
              "0                       NO  RESULTADO_GENERADO                            ...   \n",
              "1                       NO  RESULTADO_GENERADO                            ...   \n",
              "\n",
              "   GenerarResultado  FiltroUsuario Tipo_Prueba Fecha_Resultado Departamento  \\\n",
              "0                 1          29628      RT-PCR         3/26/20    BOGOTA DC   \n",
              "1                 1          29628      RT-PCR         3/29/20    BOGOTA DC   \n",
              "\n",
              "      Ciudad PrimerNombre SegundoNombre PrimerApellido SegundoApellido  \\\n",
              "0  BOGOTA DC        DIANA         MARIA          MEJIA         FONSECA   \n",
              "1  BOGOTA DC         JUAN     SEBASTIAN          MEJIA         FONSECA   \n",
              "\n",
              "    WeekDay  \n",
              "0  Thursday  \n",
              "1    Sunday  "
            ]
          },
          "metadata": {},
          "execution_count": 30
        }
      ],
      "source": [
        "data.head(2)"
      ]
    },
    {
      "cell_type": "markdown",
      "metadata": {
        "id": "5vmG9anwb37n"
      },
      "source": [
        "Then you can assign the encoded variable to a new column:"
      ]
    },
    {
      "cell_type": "code",
      "execution_count": 31,
      "metadata": {
        "colab": {
          "base_uri": "https://localhost:8080/"
        },
        "id": "7T1pPz-tb37n",
        "outputId": "23ecd490-239f-474c-eb14-1e9fd5bfafe0"
      },
      "outputs": [
        {
          "output_type": "execute_result",
          "data": {
            "text/plain": [
              "0        0\n",
              "1        1\n",
              "2        0\n",
              "3        1\n",
              "4        0\n",
              "        ..\n",
              "23029    0\n",
              "23030    1\n",
              "23031    0\n",
              "23032    1\n",
              "23033    0\n",
              "Length: 23034, dtype: int8"
            ]
          },
          "metadata": {},
          "execution_count": 31
        }
      ],
      "source": [
        "data.Sexo.cat.codes"
      ]
    },
    {
      "cell_type": "code",
      "execution_count": 32,
      "metadata": {
        "id": "8t3zHrlub37o"
      },
      "outputs": [],
      "source": [
        "# you \n",
        "data['SexoCat'] = data.Sexo.cat.codes"
      ]
    },
    {
      "cell_type": "code",
      "execution_count": 33,
      "metadata": {
        "colab": {
          "base_uri": "https://localhost:8080/",
          "height": 280
        },
        "id": "ADXtRP19b37o",
        "outputId": "f679c740-d799-4d6c-aee3-ae14be5faff2"
      },
      "outputs": [
        {
          "output_type": "execute_result",
          "data": {
            "text/html": [
              "\n",
              "  <div id=\"df-55dc58ab-e42d-414b-8493-c14b1e1261c5\">\n",
              "    <div class=\"colab-df-container\">\n",
              "      <div>\n",
              "<style scoped>\n",
              "    .dataframe tbody tr th:only-of-type {\n",
              "        vertical-align: middle;\n",
              "    }\n",
              "\n",
              "    .dataframe tbody tr th {\n",
              "        vertical-align: top;\n",
              "    }\n",
              "\n",
              "    .dataframe thead th {\n",
              "        text-align: right;\n",
              "    }\n",
              "</style>\n",
              "<table border=\"1\" class=\"dataframe\">\n",
              "  <thead>\n",
              "    <tr style=\"text-align: right;\">\n",
              "      <th></th>\n",
              "      <th>ID</th>\n",
              "      <th>FechaMuestra</th>\n",
              "      <th>ZonaGeografica</th>\n",
              "      <th>TipoDocumento</th>\n",
              "      <th>Documento</th>\n",
              "      <th>Evento</th>\n",
              "      <th>Nombres</th>\n",
              "      <th>Apellidos</th>\n",
              "      <th>Sexo</th>\n",
              "      <th>Condicion_Final</th>\n",
              "      <th>EAPB</th>\n",
              "      <th>Pais_Residencia</th>\n",
              "      <th>Departamento_Residencia</th>\n",
              "      <th>Municipio_Residencia</th>\n",
              "      <th>Trabajador_Salud</th>\n",
              "      <th>Contacto_Caso_Confirmado</th>\n",
              "      <th>EstadoCaso</th>\n",
              "      <th>GenerarResultado</th>\n",
              "      <th>FiltroUsuario</th>\n",
              "      <th>Tipo_Prueba</th>\n",
              "      <th>Fecha_Resultado</th>\n",
              "      <th>Departamento</th>\n",
              "      <th>Ciudad</th>\n",
              "      <th>PrimerNombre</th>\n",
              "      <th>SegundoNombre</th>\n",
              "      <th>PrimerApellido</th>\n",
              "      <th>SegundoApellido</th>\n",
              "      <th>WeekDay</th>\n",
              "      <th>SexoCat</th>\n",
              "    </tr>\n",
              "  </thead>\n",
              "  <tbody>\n",
              "    <tr>\n",
              "      <th>0</th>\n",
              "      <td>1</td>\n",
              "      <td>2020-03-26</td>\n",
              "      <td>BOGOTA DC-BOGOTA DC</td>\n",
              "      <td>Cédula de ciudadania</td>\n",
              "      <td>1234567891</td>\n",
              "      <td>INFLUENZA HUMANA POR VIRUS NUEVO              ...</td>\n",
              "      <td>DIANA MARIA</td>\n",
              "      <td>MEJIA FONSECA</td>\n",
              "      <td>Femenino</td>\n",
              "      <td></td>\n",
              "      <td>ALIANSALUD</td>\n",
              "      <td>COLOMBIA</td>\n",
              "      <td>BOGOTA DC</td>\n",
              "      <td>BOGOTA DC</td>\n",
              "      <td>NO</td>\n",
              "      <td>NO</td>\n",
              "      <td>RESULTADO_GENERADO                            ...</td>\n",
              "      <td>1</td>\n",
              "      <td>29628</td>\n",
              "      <td>RT-PCR</td>\n",
              "      <td>3/26/20</td>\n",
              "      <td>BOGOTA DC</td>\n",
              "      <td>BOGOTA DC</td>\n",
              "      <td>DIANA</td>\n",
              "      <td>MARIA</td>\n",
              "      <td>MEJIA</td>\n",
              "      <td>FONSECA</td>\n",
              "      <td>Thursday</td>\n",
              "      <td>0</td>\n",
              "    </tr>\n",
              "    <tr>\n",
              "      <th>1</th>\n",
              "      <td>2</td>\n",
              "      <td>2020-03-29</td>\n",
              "      <td>BOGOTA DC-BOGOTA DC</td>\n",
              "      <td>Cédula de ciudadania</td>\n",
              "      <td>1234567892</td>\n",
              "      <td>INFLUENZA HUMANA POR VIRUS NUEVO              ...</td>\n",
              "      <td>JUAN SEBASTIAN</td>\n",
              "      <td>MEJIA FONSECA</td>\n",
              "      <td>Masculino</td>\n",
              "      <td></td>\n",
              "      <td>SURA EPS</td>\n",
              "      <td>COLOMBIA</td>\n",
              "      <td>BOGOTA DC</td>\n",
              "      <td>BOGOTA DC</td>\n",
              "      <td>NO</td>\n",
              "      <td>NO</td>\n",
              "      <td>RESULTADO_GENERADO                            ...</td>\n",
              "      <td>1</td>\n",
              "      <td>29628</td>\n",
              "      <td>RT-PCR</td>\n",
              "      <td>3/29/20</td>\n",
              "      <td>BOGOTA DC</td>\n",
              "      <td>BOGOTA DC</td>\n",
              "      <td>JUAN</td>\n",
              "      <td>SEBASTIAN</td>\n",
              "      <td>MEJIA</td>\n",
              "      <td>FONSECA</td>\n",
              "      <td>Sunday</td>\n",
              "      <td>1</td>\n",
              "    </tr>\n",
              "  </tbody>\n",
              "</table>\n",
              "</div>\n",
              "      <button class=\"colab-df-convert\" onclick=\"convertToInteractive('df-55dc58ab-e42d-414b-8493-c14b1e1261c5')\"\n",
              "              title=\"Convert this dataframe to an interactive table.\"\n",
              "              style=\"display:none;\">\n",
              "        \n",
              "  <svg xmlns=\"http://www.w3.org/2000/svg\" height=\"24px\"viewBox=\"0 0 24 24\"\n",
              "       width=\"24px\">\n",
              "    <path d=\"M0 0h24v24H0V0z\" fill=\"none\"/>\n",
              "    <path d=\"M18.56 5.44l.94 2.06.94-2.06 2.06-.94-2.06-.94-.94-2.06-.94 2.06-2.06.94zm-11 1L8.5 8.5l.94-2.06 2.06-.94-2.06-.94L8.5 2.5l-.94 2.06-2.06.94zm10 10l.94 2.06.94-2.06 2.06-.94-2.06-.94-.94-2.06-.94 2.06-2.06.94z\"/><path d=\"M17.41 7.96l-1.37-1.37c-.4-.4-.92-.59-1.43-.59-.52 0-1.04.2-1.43.59L10.3 9.45l-7.72 7.72c-.78.78-.78 2.05 0 2.83L4 21.41c.39.39.9.59 1.41.59.51 0 1.02-.2 1.41-.59l7.78-7.78 2.81-2.81c.8-.78.8-2.07 0-2.86zM5.41 20L4 18.59l7.72-7.72 1.47 1.35L5.41 20z\"/>\n",
              "  </svg>\n",
              "      </button>\n",
              "      \n",
              "  <style>\n",
              "    .colab-df-container {\n",
              "      display:flex;\n",
              "      flex-wrap:wrap;\n",
              "      gap: 12px;\n",
              "    }\n",
              "\n",
              "    .colab-df-convert {\n",
              "      background-color: #E8F0FE;\n",
              "      border: none;\n",
              "      border-radius: 50%;\n",
              "      cursor: pointer;\n",
              "      display: none;\n",
              "      fill: #1967D2;\n",
              "      height: 32px;\n",
              "      padding: 0 0 0 0;\n",
              "      width: 32px;\n",
              "    }\n",
              "\n",
              "    .colab-df-convert:hover {\n",
              "      background-color: #E2EBFA;\n",
              "      box-shadow: 0px 1px 2px rgba(60, 64, 67, 0.3), 0px 1px 3px 1px rgba(60, 64, 67, 0.15);\n",
              "      fill: #174EA6;\n",
              "    }\n",
              "\n",
              "    [theme=dark] .colab-df-convert {\n",
              "      background-color: #3B4455;\n",
              "      fill: #D2E3FC;\n",
              "    }\n",
              "\n",
              "    [theme=dark] .colab-df-convert:hover {\n",
              "      background-color: #434B5C;\n",
              "      box-shadow: 0px 1px 3px 1px rgba(0, 0, 0, 0.15);\n",
              "      filter: drop-shadow(0px 1px 2px rgba(0, 0, 0, 0.3));\n",
              "      fill: #FFFFFF;\n",
              "    }\n",
              "  </style>\n",
              "\n",
              "      <script>\n",
              "        const buttonEl =\n",
              "          document.querySelector('#df-55dc58ab-e42d-414b-8493-c14b1e1261c5 button.colab-df-convert');\n",
              "        buttonEl.style.display =\n",
              "          google.colab.kernel.accessAllowed ? 'block' : 'none';\n",
              "\n",
              "        async function convertToInteractive(key) {\n",
              "          const element = document.querySelector('#df-55dc58ab-e42d-414b-8493-c14b1e1261c5');\n",
              "          const dataTable =\n",
              "            await google.colab.kernel.invokeFunction('convertToInteractive',\n",
              "                                                     [key], {});\n",
              "          if (!dataTable) return;\n",
              "\n",
              "          const docLinkHtml = 'Like what you see? Visit the ' +\n",
              "            '<a target=\"_blank\" href=https://colab.research.google.com/notebooks/data_table.ipynb>data table notebook</a>'\n",
              "            + ' to learn more about interactive tables.';\n",
              "          element.innerHTML = '';\n",
              "          dataTable['output_type'] = 'display_data';\n",
              "          await google.colab.output.renderOutput(dataTable, element);\n",
              "          const docLink = document.createElement('div');\n",
              "          docLink.innerHTML = docLinkHtml;\n",
              "          element.appendChild(docLink);\n",
              "        }\n",
              "      </script>\n",
              "    </div>\n",
              "  </div>\n",
              "  "
            ],
            "text/plain": [
              "   ID FechaMuestra       ZonaGeografica         TipoDocumento   Documento  \\\n",
              "0   1   2020-03-26  BOGOTA DC-BOGOTA DC  Cédula de ciudadania  1234567891   \n",
              "1   2   2020-03-29  BOGOTA DC-BOGOTA DC  Cédula de ciudadania  1234567892   \n",
              "\n",
              "                                              Evento         Nombres  \\\n",
              "0  INFLUENZA HUMANA POR VIRUS NUEVO              ...     DIANA MARIA   \n",
              "1  INFLUENZA HUMANA POR VIRUS NUEVO              ...  JUAN SEBASTIAN   \n",
              "\n",
              "       Apellidos       Sexo       Condicion_Final        EAPB Pais_Residencia  \\\n",
              "0  MEJIA FONSECA   Femenino                        ALIANSALUD        COLOMBIA   \n",
              "1  MEJIA FONSECA  Masculino                          SURA EPS        COLOMBIA   \n",
              "\n",
              "  Departamento_Residencia Municipio_Residencia Trabajador_Salud  \\\n",
              "0               BOGOTA DC            BOGOTA DC               NO   \n",
              "1               BOGOTA DC            BOGOTA DC               NO   \n",
              "\n",
              "  Contacto_Caso_Confirmado                                         EstadoCaso  \\\n",
              "0                       NO  RESULTADO_GENERADO                            ...   \n",
              "1                       NO  RESULTADO_GENERADO                            ...   \n",
              "\n",
              "   GenerarResultado  FiltroUsuario Tipo_Prueba Fecha_Resultado Departamento  \\\n",
              "0                 1          29628      RT-PCR         3/26/20    BOGOTA DC   \n",
              "1                 1          29628      RT-PCR         3/29/20    BOGOTA DC   \n",
              "\n",
              "      Ciudad PrimerNombre SegundoNombre PrimerApellido SegundoApellido  \\\n",
              "0  BOGOTA DC        DIANA         MARIA          MEJIA         FONSECA   \n",
              "1  BOGOTA DC         JUAN     SEBASTIAN          MEJIA         FONSECA   \n",
              "\n",
              "    WeekDay  SexoCat  \n",
              "0  Thursday        0  \n",
              "1    Sunday        1  "
            ]
          },
          "metadata": {},
          "execution_count": 33
        }
      ],
      "source": [
        "data.head(2)"
      ]
    },
    {
      "cell_type": "code",
      "execution_count": 34,
      "metadata": {
        "scrolled": true,
        "colab": {
          "base_uri": "https://localhost:8080/",
          "height": 363
        },
        "id": "cCJQrAzXb37o",
        "outputId": "b06a5c62-360b-4de5-9304-e338e7638647"
      },
      "outputs": [
        {
          "output_type": "execute_result",
          "data": {
            "text/html": [
              "\n",
              "  <div id=\"df-c0ae3c62-d795-483f-a4bc-2d4c6dea2c7e\">\n",
              "    <div class=\"colab-df-container\">\n",
              "      <div>\n",
              "<style scoped>\n",
              "    .dataframe tbody tr th:only-of-type {\n",
              "        vertical-align: middle;\n",
              "    }\n",
              "\n",
              "    .dataframe tbody tr th {\n",
              "        vertical-align: top;\n",
              "    }\n",
              "\n",
              "    .dataframe thead th {\n",
              "        text-align: right;\n",
              "    }\n",
              "</style>\n",
              "<table border=\"1\" class=\"dataframe\">\n",
              "  <thead>\n",
              "    <tr style=\"text-align: right;\">\n",
              "      <th></th>\n",
              "      <th>Sexo</th>\n",
              "      <th>CodeSexo</th>\n",
              "    </tr>\n",
              "  </thead>\n",
              "  <tbody>\n",
              "    <tr>\n",
              "      <th>0</th>\n",
              "      <td>Femenino</td>\n",
              "      <td>0</td>\n",
              "    </tr>\n",
              "    <tr>\n",
              "      <th>1</th>\n",
              "      <td>Masculino</td>\n",
              "      <td>1</td>\n",
              "    </tr>\n",
              "    <tr>\n",
              "      <th>2</th>\n",
              "      <td>Femenino</td>\n",
              "      <td>0</td>\n",
              "    </tr>\n",
              "    <tr>\n",
              "      <th>3</th>\n",
              "      <td>Masculino</td>\n",
              "      <td>1</td>\n",
              "    </tr>\n",
              "    <tr>\n",
              "      <th>4</th>\n",
              "      <td>Femenino</td>\n",
              "      <td>0</td>\n",
              "    </tr>\n",
              "    <tr>\n",
              "      <th>5</th>\n",
              "      <td>Femenino</td>\n",
              "      <td>0</td>\n",
              "    </tr>\n",
              "    <tr>\n",
              "      <th>6</th>\n",
              "      <td>Femenino</td>\n",
              "      <td>0</td>\n",
              "    </tr>\n",
              "    <tr>\n",
              "      <th>7</th>\n",
              "      <td>Masculino</td>\n",
              "      <td>1</td>\n",
              "    </tr>\n",
              "    <tr>\n",
              "      <th>8</th>\n",
              "      <td>Femenino</td>\n",
              "      <td>0</td>\n",
              "    </tr>\n",
              "    <tr>\n",
              "      <th>9</th>\n",
              "      <td>Masculino</td>\n",
              "      <td>1</td>\n",
              "    </tr>\n",
              "  </tbody>\n",
              "</table>\n",
              "</div>\n",
              "      <button class=\"colab-df-convert\" onclick=\"convertToInteractive('df-c0ae3c62-d795-483f-a4bc-2d4c6dea2c7e')\"\n",
              "              title=\"Convert this dataframe to an interactive table.\"\n",
              "              style=\"display:none;\">\n",
              "        \n",
              "  <svg xmlns=\"http://www.w3.org/2000/svg\" height=\"24px\"viewBox=\"0 0 24 24\"\n",
              "       width=\"24px\">\n",
              "    <path d=\"M0 0h24v24H0V0z\" fill=\"none\"/>\n",
              "    <path d=\"M18.56 5.44l.94 2.06.94-2.06 2.06-.94-2.06-.94-.94-2.06-.94 2.06-2.06.94zm-11 1L8.5 8.5l.94-2.06 2.06-.94-2.06-.94L8.5 2.5l-.94 2.06-2.06.94zm10 10l.94 2.06.94-2.06 2.06-.94-2.06-.94-.94-2.06-.94 2.06-2.06.94z\"/><path d=\"M17.41 7.96l-1.37-1.37c-.4-.4-.92-.59-1.43-.59-.52 0-1.04.2-1.43.59L10.3 9.45l-7.72 7.72c-.78.78-.78 2.05 0 2.83L4 21.41c.39.39.9.59 1.41.59.51 0 1.02-.2 1.41-.59l7.78-7.78 2.81-2.81c.8-.78.8-2.07 0-2.86zM5.41 20L4 18.59l7.72-7.72 1.47 1.35L5.41 20z\"/>\n",
              "  </svg>\n",
              "      </button>\n",
              "      \n",
              "  <style>\n",
              "    .colab-df-container {\n",
              "      display:flex;\n",
              "      flex-wrap:wrap;\n",
              "      gap: 12px;\n",
              "    }\n",
              "\n",
              "    .colab-df-convert {\n",
              "      background-color: #E8F0FE;\n",
              "      border: none;\n",
              "      border-radius: 50%;\n",
              "      cursor: pointer;\n",
              "      display: none;\n",
              "      fill: #1967D2;\n",
              "      height: 32px;\n",
              "      padding: 0 0 0 0;\n",
              "      width: 32px;\n",
              "    }\n",
              "\n",
              "    .colab-df-convert:hover {\n",
              "      background-color: #E2EBFA;\n",
              "      box-shadow: 0px 1px 2px rgba(60, 64, 67, 0.3), 0px 1px 3px 1px rgba(60, 64, 67, 0.15);\n",
              "      fill: #174EA6;\n",
              "    }\n",
              "\n",
              "    [theme=dark] .colab-df-convert {\n",
              "      background-color: #3B4455;\n",
              "      fill: #D2E3FC;\n",
              "    }\n",
              "\n",
              "    [theme=dark] .colab-df-convert:hover {\n",
              "      background-color: #434B5C;\n",
              "      box-shadow: 0px 1px 3px 1px rgba(0, 0, 0, 0.15);\n",
              "      filter: drop-shadow(0px 1px 2px rgba(0, 0, 0, 0.3));\n",
              "      fill: #FFFFFF;\n",
              "    }\n",
              "  </style>\n",
              "\n",
              "      <script>\n",
              "        const buttonEl =\n",
              "          document.querySelector('#df-c0ae3c62-d795-483f-a4bc-2d4c6dea2c7e button.colab-df-convert');\n",
              "        buttonEl.style.display =\n",
              "          google.colab.kernel.accessAllowed ? 'block' : 'none';\n",
              "\n",
              "        async function convertToInteractive(key) {\n",
              "          const element = document.querySelector('#df-c0ae3c62-d795-483f-a4bc-2d4c6dea2c7e');\n",
              "          const dataTable =\n",
              "            await google.colab.kernel.invokeFunction('convertToInteractive',\n",
              "                                                     [key], {});\n",
              "          if (!dataTable) return;\n",
              "\n",
              "          const docLinkHtml = 'Like what you see? Visit the ' +\n",
              "            '<a target=\"_blank\" href=https://colab.research.google.com/notebooks/data_table.ipynb>data table notebook</a>'\n",
              "            + ' to learn more about interactive tables.';\n",
              "          element.innerHTML = '';\n",
              "          dataTable['output_type'] = 'display_data';\n",
              "          await google.colab.output.renderOutput(dataTable, element);\n",
              "          const docLink = document.createElement('div');\n",
              "          docLink.innerHTML = docLinkHtml;\n",
              "          element.appendChild(docLink);\n",
              "        }\n",
              "      </script>\n",
              "    </div>\n",
              "  </div>\n",
              "  "
            ],
            "text/plain": [
              "        Sexo  CodeSexo\n",
              "0   Femenino         0\n",
              "1  Masculino         1\n",
              "2   Femenino         0\n",
              "3  Masculino         1\n",
              "4   Femenino         0\n",
              "5   Femenino         0\n",
              "6   Femenino         0\n",
              "7  Masculino         1\n",
              "8   Femenino         0\n",
              "9  Masculino         1"
            ]
          },
          "metadata": {},
          "execution_count": 34
        }
      ],
      "source": [
        "from sklearn.preprocessing import LabelEncoder\n",
        "\n",
        "lb_make = LabelEncoder()\n",
        "data[\"CodeSexo\"] = lb_make.fit_transform(data[\"Sexo\"])\n",
        "data[[\"Sexo\", \"CodeSexo\"]].head(10)"
      ]
    },
    {
      "cell_type": "code",
      "execution_count": 35,
      "metadata": {
        "colab": {
          "base_uri": "https://localhost:8080/"
        },
        "id": "lJ9p8Jryb37o",
        "outputId": "0b42b2c5-1309-4943-d1ec-2d5e4dd1b02f"
      },
      "outputs": [
        {
          "output_type": "execute_result",
          "data": {
            "text/plain": [
              "0    11791\n",
              "1    11069\n",
              "2      174\n",
              "Name: CodeSexo, dtype: int64"
            ]
          },
          "metadata": {},
          "execution_count": 35
        }
      ],
      "source": [
        "data[\"CodeSexo\"].value_counts()"
      ]
    },
    {
      "cell_type": "markdown",
      "metadata": {
        "id": "QmsrVX8Mb37p"
      },
      "source": [
        "### One-hot encoding\n",
        "\n",
        "We can go one step further - instead of replacing each possible value of a categorical variable with a number, we can create *separate* columns for each possible value and assign a 1 or 0 (True or False) value to that column. A 1 indicates that that particular row's value for that categorical variable matches the value corresponding to that particular column, and 0 otherwise:"
      ]
    },
    {
      "cell_type": "code",
      "execution_count": 36,
      "metadata": {
        "colab": {
          "base_uri": "https://localhost:8080/",
          "height": 298
        },
        "id": "SxC_rdUwb37p",
        "outputId": "f1b10817-f23c-4565-ec9f-f3a6ebca5528"
      },
      "outputs": [
        {
          "output_type": "execute_result",
          "data": {
            "text/html": [
              "\n",
              "  <div id=\"df-01b659ec-47a1-4f12-9031-2dea5de05e4b\">\n",
              "    <div class=\"colab-df-container\">\n",
              "      <div>\n",
              "<style scoped>\n",
              "    .dataframe tbody tr th:only-of-type {\n",
              "        vertical-align: middle;\n",
              "    }\n",
              "\n",
              "    .dataframe tbody tr th {\n",
              "        vertical-align: top;\n",
              "    }\n",
              "\n",
              "    .dataframe thead th {\n",
              "        text-align: right;\n",
              "    }\n",
              "</style>\n",
              "<table border=\"1\" class=\"dataframe\">\n",
              "  <thead>\n",
              "    <tr style=\"text-align: right;\">\n",
              "      <th></th>\n",
              "      <th>ID</th>\n",
              "      <th>FechaMuestra</th>\n",
              "      <th>ZonaGeografica</th>\n",
              "      <th>TipoDocumento</th>\n",
              "      <th>Documento</th>\n",
              "      <th>Evento</th>\n",
              "      <th>Nombres</th>\n",
              "      <th>Apellidos</th>\n",
              "      <th>Condicion_Final</th>\n",
              "      <th>EAPB</th>\n",
              "      <th>Pais_Residencia</th>\n",
              "      <th>Departamento_Residencia</th>\n",
              "      <th>Municipio_Residencia</th>\n",
              "      <th>Trabajador_Salud</th>\n",
              "      <th>Contacto_Caso_Confirmado</th>\n",
              "      <th>EstadoCaso</th>\n",
              "      <th>GenerarResultado</th>\n",
              "      <th>FiltroUsuario</th>\n",
              "      <th>Tipo_Prueba</th>\n",
              "      <th>Fecha_Resultado</th>\n",
              "      <th>Departamento</th>\n",
              "      <th>Ciudad</th>\n",
              "      <th>PrimerNombre</th>\n",
              "      <th>SegundoNombre</th>\n",
              "      <th>PrimerApellido</th>\n",
              "      <th>SegundoApellido</th>\n",
              "      <th>WeekDay</th>\n",
              "      <th>SexoCat</th>\n",
              "      <th>CodeSexo</th>\n",
              "      <th>Sexo_Femenino</th>\n",
              "      <th>Sexo_Masculino</th>\n",
              "      <th>Sexo_Sin Información</th>\n",
              "    </tr>\n",
              "  </thead>\n",
              "  <tbody>\n",
              "    <tr>\n",
              "      <th>0</th>\n",
              "      <td>1</td>\n",
              "      <td>2020-03-26</td>\n",
              "      <td>BOGOTA DC-BOGOTA DC</td>\n",
              "      <td>Cédula de ciudadania</td>\n",
              "      <td>1234567891</td>\n",
              "      <td>INFLUENZA HUMANA POR VIRUS NUEVO              ...</td>\n",
              "      <td>DIANA MARIA</td>\n",
              "      <td>MEJIA FONSECA</td>\n",
              "      <td></td>\n",
              "      <td>ALIANSALUD</td>\n",
              "      <td>COLOMBIA</td>\n",
              "      <td>BOGOTA DC</td>\n",
              "      <td>BOGOTA DC</td>\n",
              "      <td>NO</td>\n",
              "      <td>NO</td>\n",
              "      <td>RESULTADO_GENERADO                            ...</td>\n",
              "      <td>1</td>\n",
              "      <td>29628</td>\n",
              "      <td>RT-PCR</td>\n",
              "      <td>3/26/20</td>\n",
              "      <td>BOGOTA DC</td>\n",
              "      <td>BOGOTA DC</td>\n",
              "      <td>DIANA</td>\n",
              "      <td>MARIA</td>\n",
              "      <td>MEJIA</td>\n",
              "      <td>FONSECA</td>\n",
              "      <td>Thursday</td>\n",
              "      <td>0</td>\n",
              "      <td>0</td>\n",
              "      <td>1</td>\n",
              "      <td>0</td>\n",
              "      <td>0</td>\n",
              "    </tr>\n",
              "    <tr>\n",
              "      <th>1</th>\n",
              "      <td>2</td>\n",
              "      <td>2020-03-29</td>\n",
              "      <td>BOGOTA DC-BOGOTA DC</td>\n",
              "      <td>Cédula de ciudadania</td>\n",
              "      <td>1234567892</td>\n",
              "      <td>INFLUENZA HUMANA POR VIRUS NUEVO              ...</td>\n",
              "      <td>JUAN SEBASTIAN</td>\n",
              "      <td>MEJIA FONSECA</td>\n",
              "      <td></td>\n",
              "      <td>SURA EPS</td>\n",
              "      <td>COLOMBIA</td>\n",
              "      <td>BOGOTA DC</td>\n",
              "      <td>BOGOTA DC</td>\n",
              "      <td>NO</td>\n",
              "      <td>NO</td>\n",
              "      <td>RESULTADO_GENERADO                            ...</td>\n",
              "      <td>1</td>\n",
              "      <td>29628</td>\n",
              "      <td>RT-PCR</td>\n",
              "      <td>3/29/20</td>\n",
              "      <td>BOGOTA DC</td>\n",
              "      <td>BOGOTA DC</td>\n",
              "      <td>JUAN</td>\n",
              "      <td>SEBASTIAN</td>\n",
              "      <td>MEJIA</td>\n",
              "      <td>FONSECA</td>\n",
              "      <td>Sunday</td>\n",
              "      <td>1</td>\n",
              "      <td>1</td>\n",
              "      <td>0</td>\n",
              "      <td>1</td>\n",
              "      <td>0</td>\n",
              "    </tr>\n",
              "  </tbody>\n",
              "</table>\n",
              "</div>\n",
              "      <button class=\"colab-df-convert\" onclick=\"convertToInteractive('df-01b659ec-47a1-4f12-9031-2dea5de05e4b')\"\n",
              "              title=\"Convert this dataframe to an interactive table.\"\n",
              "              style=\"display:none;\">\n",
              "        \n",
              "  <svg xmlns=\"http://www.w3.org/2000/svg\" height=\"24px\"viewBox=\"0 0 24 24\"\n",
              "       width=\"24px\">\n",
              "    <path d=\"M0 0h24v24H0V0z\" fill=\"none\"/>\n",
              "    <path d=\"M18.56 5.44l.94 2.06.94-2.06 2.06-.94-2.06-.94-.94-2.06-.94 2.06-2.06.94zm-11 1L8.5 8.5l.94-2.06 2.06-.94-2.06-.94L8.5 2.5l-.94 2.06-2.06.94zm10 10l.94 2.06.94-2.06 2.06-.94-2.06-.94-.94-2.06-.94 2.06-2.06.94z\"/><path d=\"M17.41 7.96l-1.37-1.37c-.4-.4-.92-.59-1.43-.59-.52 0-1.04.2-1.43.59L10.3 9.45l-7.72 7.72c-.78.78-.78 2.05 0 2.83L4 21.41c.39.39.9.59 1.41.59.51 0 1.02-.2 1.41-.59l7.78-7.78 2.81-2.81c.8-.78.8-2.07 0-2.86zM5.41 20L4 18.59l7.72-7.72 1.47 1.35L5.41 20z\"/>\n",
              "  </svg>\n",
              "      </button>\n",
              "      \n",
              "  <style>\n",
              "    .colab-df-container {\n",
              "      display:flex;\n",
              "      flex-wrap:wrap;\n",
              "      gap: 12px;\n",
              "    }\n",
              "\n",
              "    .colab-df-convert {\n",
              "      background-color: #E8F0FE;\n",
              "      border: none;\n",
              "      border-radius: 50%;\n",
              "      cursor: pointer;\n",
              "      display: none;\n",
              "      fill: #1967D2;\n",
              "      height: 32px;\n",
              "      padding: 0 0 0 0;\n",
              "      width: 32px;\n",
              "    }\n",
              "\n",
              "    .colab-df-convert:hover {\n",
              "      background-color: #E2EBFA;\n",
              "      box-shadow: 0px 1px 2px rgba(60, 64, 67, 0.3), 0px 1px 3px 1px rgba(60, 64, 67, 0.15);\n",
              "      fill: #174EA6;\n",
              "    }\n",
              "\n",
              "    [theme=dark] .colab-df-convert {\n",
              "      background-color: #3B4455;\n",
              "      fill: #D2E3FC;\n",
              "    }\n",
              "\n",
              "    [theme=dark] .colab-df-convert:hover {\n",
              "      background-color: #434B5C;\n",
              "      box-shadow: 0px 1px 3px 1px rgba(0, 0, 0, 0.15);\n",
              "      filter: drop-shadow(0px 1px 2px rgba(0, 0, 0, 0.3));\n",
              "      fill: #FFFFFF;\n",
              "    }\n",
              "  </style>\n",
              "\n",
              "      <script>\n",
              "        const buttonEl =\n",
              "          document.querySelector('#df-01b659ec-47a1-4f12-9031-2dea5de05e4b button.colab-df-convert');\n",
              "        buttonEl.style.display =\n",
              "          google.colab.kernel.accessAllowed ? 'block' : 'none';\n",
              "\n",
              "        async function convertToInteractive(key) {\n",
              "          const element = document.querySelector('#df-01b659ec-47a1-4f12-9031-2dea5de05e4b');\n",
              "          const dataTable =\n",
              "            await google.colab.kernel.invokeFunction('convertToInteractive',\n",
              "                                                     [key], {});\n",
              "          if (!dataTable) return;\n",
              "\n",
              "          const docLinkHtml = 'Like what you see? Visit the ' +\n",
              "            '<a target=\"_blank\" href=https://colab.research.google.com/notebooks/data_table.ipynb>data table notebook</a>'\n",
              "            + ' to learn more about interactive tables.';\n",
              "          element.innerHTML = '';\n",
              "          dataTable['output_type'] = 'display_data';\n",
              "          await google.colab.output.renderOutput(dataTable, element);\n",
              "          const docLink = document.createElement('div');\n",
              "          docLink.innerHTML = docLinkHtml;\n",
              "          element.appendChild(docLink);\n",
              "        }\n",
              "      </script>\n",
              "    </div>\n",
              "  </div>\n",
              "  "
            ],
            "text/plain": [
              "   ID FechaMuestra       ZonaGeografica         TipoDocumento   Documento  \\\n",
              "0   1   2020-03-26  BOGOTA DC-BOGOTA DC  Cédula de ciudadania  1234567891   \n",
              "1   2   2020-03-29  BOGOTA DC-BOGOTA DC  Cédula de ciudadania  1234567892   \n",
              "\n",
              "                                              Evento         Nombres  \\\n",
              "0  INFLUENZA HUMANA POR VIRUS NUEVO              ...     DIANA MARIA   \n",
              "1  INFLUENZA HUMANA POR VIRUS NUEVO              ...  JUAN SEBASTIAN   \n",
              "\n",
              "       Apellidos       Condicion_Final        EAPB Pais_Residencia  \\\n",
              "0  MEJIA FONSECA                        ALIANSALUD        COLOMBIA   \n",
              "1  MEJIA FONSECA                          SURA EPS        COLOMBIA   \n",
              "\n",
              "  Departamento_Residencia Municipio_Residencia Trabajador_Salud  \\\n",
              "0               BOGOTA DC            BOGOTA DC               NO   \n",
              "1               BOGOTA DC            BOGOTA DC               NO   \n",
              "\n",
              "  Contacto_Caso_Confirmado                                         EstadoCaso  \\\n",
              "0                       NO  RESULTADO_GENERADO                            ...   \n",
              "1                       NO  RESULTADO_GENERADO                            ...   \n",
              "\n",
              "   GenerarResultado  FiltroUsuario Tipo_Prueba Fecha_Resultado Departamento  \\\n",
              "0                 1          29628      RT-PCR         3/26/20    BOGOTA DC   \n",
              "1                 1          29628      RT-PCR         3/29/20    BOGOTA DC   \n",
              "\n",
              "      Ciudad PrimerNombre SegundoNombre PrimerApellido SegundoApellido  \\\n",
              "0  BOGOTA DC        DIANA         MARIA          MEJIA         FONSECA   \n",
              "1  BOGOTA DC         JUAN     SEBASTIAN          MEJIA         FONSECA   \n",
              "\n",
              "    WeekDay  SexoCat  CodeSexo  Sexo_Femenino  Sexo_Masculino  \\\n",
              "0  Thursday        0         0              1               0   \n",
              "1    Sunday        1         1              0               1   \n",
              "\n",
              "   Sexo_Sin Información  \n",
              "0                     0  \n",
              "1                     0  "
            ]
          },
          "metadata": {},
          "execution_count": 36
        }
      ],
      "source": [
        "pd.get_dummies(data, columns=[\"Sexo\"]).head(2)"
      ]
    },
    {
      "cell_type": "code",
      "execution_count": 37,
      "metadata": {
        "colab": {
          "base_uri": "https://localhost:8080/"
        },
        "id": "pVF15kgQb37q",
        "outputId": "a191f081-304a-4fce-a84d-f8b59f51e551"
      },
      "outputs": [
        {
          "output_type": "execute_result",
          "data": {
            "text/plain": [
              "['Femenino', 'Masculino', 'Femenino', 'Masculino', 'Femenino', ..., 'Femenino', 'Masculino', 'Femenino', 'Masculino', 'Femenino']\n",
              "Length: 23034\n",
              "Categories (3, object): ['Femenino', 'Masculino', 'Sin Información']"
            ]
          },
          "metadata": {},
          "execution_count": 37
        }
      ],
      "source": [
        "data[\"Sexo\"].values"
      ]
    },
    {
      "cell_type": "code",
      "execution_count": 38,
      "metadata": {
        "colab": {
          "base_uri": "https://localhost:8080/",
          "height": 206
        },
        "id": "ukkARBFkb37q",
        "outputId": "7e3a0863-83a2-412e-d214-f76a3db16632"
      },
      "outputs": [
        {
          "output_type": "execute_result",
          "data": {
            "text/html": [
              "\n",
              "  <div id=\"df-8472865d-7696-4e7c-b1d6-3409362e3680\">\n",
              "    <div class=\"colab-df-container\">\n",
              "      <div>\n",
              "<style scoped>\n",
              "    .dataframe tbody tr th:only-of-type {\n",
              "        vertical-align: middle;\n",
              "    }\n",
              "\n",
              "    .dataframe tbody tr th {\n",
              "        vertical-align: top;\n",
              "    }\n",
              "\n",
              "    .dataframe thead th {\n",
              "        text-align: right;\n",
              "    }\n",
              "</style>\n",
              "<table border=\"1\" class=\"dataframe\">\n",
              "  <thead>\n",
              "    <tr style=\"text-align: right;\">\n",
              "      <th></th>\n",
              "      <th>0</th>\n",
              "      <th>1</th>\n",
              "      <th>2</th>\n",
              "    </tr>\n",
              "  </thead>\n",
              "  <tbody>\n",
              "    <tr>\n",
              "      <th>0</th>\n",
              "      <td>1</td>\n",
              "      <td>0</td>\n",
              "      <td>0</td>\n",
              "    </tr>\n",
              "    <tr>\n",
              "      <th>1</th>\n",
              "      <td>0</td>\n",
              "      <td>1</td>\n",
              "      <td>0</td>\n",
              "    </tr>\n",
              "    <tr>\n",
              "      <th>2</th>\n",
              "      <td>1</td>\n",
              "      <td>0</td>\n",
              "      <td>0</td>\n",
              "    </tr>\n",
              "    <tr>\n",
              "      <th>3</th>\n",
              "      <td>0</td>\n",
              "      <td>1</td>\n",
              "      <td>0</td>\n",
              "    </tr>\n",
              "    <tr>\n",
              "      <th>4</th>\n",
              "      <td>1</td>\n",
              "      <td>0</td>\n",
              "      <td>0</td>\n",
              "    </tr>\n",
              "  </tbody>\n",
              "</table>\n",
              "</div>\n",
              "      <button class=\"colab-df-convert\" onclick=\"convertToInteractive('df-8472865d-7696-4e7c-b1d6-3409362e3680')\"\n",
              "              title=\"Convert this dataframe to an interactive table.\"\n",
              "              style=\"display:none;\">\n",
              "        \n",
              "  <svg xmlns=\"http://www.w3.org/2000/svg\" height=\"24px\"viewBox=\"0 0 24 24\"\n",
              "       width=\"24px\">\n",
              "    <path d=\"M0 0h24v24H0V0z\" fill=\"none\"/>\n",
              "    <path d=\"M18.56 5.44l.94 2.06.94-2.06 2.06-.94-2.06-.94-.94-2.06-.94 2.06-2.06.94zm-11 1L8.5 8.5l.94-2.06 2.06-.94-2.06-.94L8.5 2.5l-.94 2.06-2.06.94zm10 10l.94 2.06.94-2.06 2.06-.94-2.06-.94-.94-2.06-.94 2.06-2.06.94z\"/><path d=\"M17.41 7.96l-1.37-1.37c-.4-.4-.92-.59-1.43-.59-.52 0-1.04.2-1.43.59L10.3 9.45l-7.72 7.72c-.78.78-.78 2.05 0 2.83L4 21.41c.39.39.9.59 1.41.59.51 0 1.02-.2 1.41-.59l7.78-7.78 2.81-2.81c.8-.78.8-2.07 0-2.86zM5.41 20L4 18.59l7.72-7.72 1.47 1.35L5.41 20z\"/>\n",
              "  </svg>\n",
              "      </button>\n",
              "      \n",
              "  <style>\n",
              "    .colab-df-container {\n",
              "      display:flex;\n",
              "      flex-wrap:wrap;\n",
              "      gap: 12px;\n",
              "    }\n",
              "\n",
              "    .colab-df-convert {\n",
              "      background-color: #E8F0FE;\n",
              "      border: none;\n",
              "      border-radius: 50%;\n",
              "      cursor: pointer;\n",
              "      display: none;\n",
              "      fill: #1967D2;\n",
              "      height: 32px;\n",
              "      padding: 0 0 0 0;\n",
              "      width: 32px;\n",
              "    }\n",
              "\n",
              "    .colab-df-convert:hover {\n",
              "      background-color: #E2EBFA;\n",
              "      box-shadow: 0px 1px 2px rgba(60, 64, 67, 0.3), 0px 1px 3px 1px rgba(60, 64, 67, 0.15);\n",
              "      fill: #174EA6;\n",
              "    }\n",
              "\n",
              "    [theme=dark] .colab-df-convert {\n",
              "      background-color: #3B4455;\n",
              "      fill: #D2E3FC;\n",
              "    }\n",
              "\n",
              "    [theme=dark] .colab-df-convert:hover {\n",
              "      background-color: #434B5C;\n",
              "      box-shadow: 0px 1px 3px 1px rgba(0, 0, 0, 0.15);\n",
              "      filter: drop-shadow(0px 1px 2px rgba(0, 0, 0, 0.3));\n",
              "      fill: #FFFFFF;\n",
              "    }\n",
              "  </style>\n",
              "\n",
              "      <script>\n",
              "        const buttonEl =\n",
              "          document.querySelector('#df-8472865d-7696-4e7c-b1d6-3409362e3680 button.colab-df-convert');\n",
              "        buttonEl.style.display =\n",
              "          google.colab.kernel.accessAllowed ? 'block' : 'none';\n",
              "\n",
              "        async function convertToInteractive(key) {\n",
              "          const element = document.querySelector('#df-8472865d-7696-4e7c-b1d6-3409362e3680');\n",
              "          const dataTable =\n",
              "            await google.colab.kernel.invokeFunction('convertToInteractive',\n",
              "                                                     [key], {});\n",
              "          if (!dataTable) return;\n",
              "\n",
              "          const docLinkHtml = 'Like what you see? Visit the ' +\n",
              "            '<a target=\"_blank\" href=https://colab.research.google.com/notebooks/data_table.ipynb>data table notebook</a>'\n",
              "            + ' to learn more about interactive tables.';\n",
              "          element.innerHTML = '';\n",
              "          dataTable['output_type'] = 'display_data';\n",
              "          await google.colab.output.renderOutput(dataTable, element);\n",
              "          const docLink = document.createElement('div');\n",
              "          docLink.innerHTML = docLinkHtml;\n",
              "          element.appendChild(docLink);\n",
              "        }\n",
              "      </script>\n",
              "    </div>\n",
              "  </div>\n",
              "  "
            ],
            "text/plain": [
              "   0  1  2\n",
              "0  1  0  0\n",
              "1  0  1  0\n",
              "2  1  0  0\n",
              "3  0  1  0\n",
              "4  1  0  0"
            ]
          },
          "metadata": {},
          "execution_count": 38
        }
      ],
      "source": [
        "from sklearn.preprocessing import LabelBinarizer\n",
        "\n",
        "jobs_encoder = LabelBinarizer()\n",
        "jobs_encoder.fit(data['Sexo'])\n",
        "transformed = jobs_encoder.transform(data['Sexo'])\n",
        "ohe_df = pd.DataFrame(transformed)\n",
        "ohe_df.head()"
      ]
    },
    {
      "cell_type": "code",
      "execution_count": 39,
      "metadata": {
        "id": "n0mhInPtb37r"
      },
      "outputs": [],
      "source": [
        "from sklearn.preprocessing import LabelBinarizer\n",
        "\n",
        "jobs_encoder = LabelBinarizer()\n",
        "jobs_encoder.fit(data['Sexo'])\n",
        "transformed = jobs_encoder.transform(data['Sexo'])\n",
        "ohe_df = pd.DataFrame(transformed)\n",
        "data = pd.concat([data, ohe_df], axis=1)"
      ]
    },
    {
      "cell_type": "code",
      "execution_count": 40,
      "metadata": {
        "colab": {
          "base_uri": "https://localhost:8080/",
          "height": 280
        },
        "id": "A2Hdzeyzb37r",
        "outputId": "204bffe4-ef18-41cf-f8bf-5aaf2100abec"
      },
      "outputs": [
        {
          "output_type": "execute_result",
          "data": {
            "text/html": [
              "\n",
              "  <div id=\"df-63e04452-4745-46ea-8bf0-2857b9f919ed\">\n",
              "    <div class=\"colab-df-container\">\n",
              "      <div>\n",
              "<style scoped>\n",
              "    .dataframe tbody tr th:only-of-type {\n",
              "        vertical-align: middle;\n",
              "    }\n",
              "\n",
              "    .dataframe tbody tr th {\n",
              "        vertical-align: top;\n",
              "    }\n",
              "\n",
              "    .dataframe thead th {\n",
              "        text-align: right;\n",
              "    }\n",
              "</style>\n",
              "<table border=\"1\" class=\"dataframe\">\n",
              "  <thead>\n",
              "    <tr style=\"text-align: right;\">\n",
              "      <th></th>\n",
              "      <th>ID</th>\n",
              "      <th>FechaMuestra</th>\n",
              "      <th>ZonaGeografica</th>\n",
              "      <th>TipoDocumento</th>\n",
              "      <th>Documento</th>\n",
              "      <th>Evento</th>\n",
              "      <th>Nombres</th>\n",
              "      <th>Apellidos</th>\n",
              "      <th>Sexo</th>\n",
              "      <th>Condicion_Final</th>\n",
              "      <th>EAPB</th>\n",
              "      <th>Pais_Residencia</th>\n",
              "      <th>Departamento_Residencia</th>\n",
              "      <th>Municipio_Residencia</th>\n",
              "      <th>Trabajador_Salud</th>\n",
              "      <th>Contacto_Caso_Confirmado</th>\n",
              "      <th>EstadoCaso</th>\n",
              "      <th>GenerarResultado</th>\n",
              "      <th>FiltroUsuario</th>\n",
              "      <th>Tipo_Prueba</th>\n",
              "      <th>Fecha_Resultado</th>\n",
              "      <th>Departamento</th>\n",
              "      <th>Ciudad</th>\n",
              "      <th>PrimerNombre</th>\n",
              "      <th>SegundoNombre</th>\n",
              "      <th>PrimerApellido</th>\n",
              "      <th>SegundoApellido</th>\n",
              "      <th>WeekDay</th>\n",
              "      <th>SexoCat</th>\n",
              "      <th>CodeSexo</th>\n",
              "      <th>0</th>\n",
              "      <th>1</th>\n",
              "      <th>2</th>\n",
              "    </tr>\n",
              "  </thead>\n",
              "  <tbody>\n",
              "    <tr>\n",
              "      <th>0</th>\n",
              "      <td>1</td>\n",
              "      <td>2020-03-26</td>\n",
              "      <td>BOGOTA DC-BOGOTA DC</td>\n",
              "      <td>Cédula de ciudadania</td>\n",
              "      <td>1234567891</td>\n",
              "      <td>INFLUENZA HUMANA POR VIRUS NUEVO              ...</td>\n",
              "      <td>DIANA MARIA</td>\n",
              "      <td>MEJIA FONSECA</td>\n",
              "      <td>Femenino</td>\n",
              "      <td></td>\n",
              "      <td>ALIANSALUD</td>\n",
              "      <td>COLOMBIA</td>\n",
              "      <td>BOGOTA DC</td>\n",
              "      <td>BOGOTA DC</td>\n",
              "      <td>NO</td>\n",
              "      <td>NO</td>\n",
              "      <td>RESULTADO_GENERADO                            ...</td>\n",
              "      <td>1</td>\n",
              "      <td>29628</td>\n",
              "      <td>RT-PCR</td>\n",
              "      <td>3/26/20</td>\n",
              "      <td>BOGOTA DC</td>\n",
              "      <td>BOGOTA DC</td>\n",
              "      <td>DIANA</td>\n",
              "      <td>MARIA</td>\n",
              "      <td>MEJIA</td>\n",
              "      <td>FONSECA</td>\n",
              "      <td>Thursday</td>\n",
              "      <td>0</td>\n",
              "      <td>0</td>\n",
              "      <td>1</td>\n",
              "      <td>0</td>\n",
              "      <td>0</td>\n",
              "    </tr>\n",
              "    <tr>\n",
              "      <th>1</th>\n",
              "      <td>2</td>\n",
              "      <td>2020-03-29</td>\n",
              "      <td>BOGOTA DC-BOGOTA DC</td>\n",
              "      <td>Cédula de ciudadania</td>\n",
              "      <td>1234567892</td>\n",
              "      <td>INFLUENZA HUMANA POR VIRUS NUEVO              ...</td>\n",
              "      <td>JUAN SEBASTIAN</td>\n",
              "      <td>MEJIA FONSECA</td>\n",
              "      <td>Masculino</td>\n",
              "      <td></td>\n",
              "      <td>SURA EPS</td>\n",
              "      <td>COLOMBIA</td>\n",
              "      <td>BOGOTA DC</td>\n",
              "      <td>BOGOTA DC</td>\n",
              "      <td>NO</td>\n",
              "      <td>NO</td>\n",
              "      <td>RESULTADO_GENERADO                            ...</td>\n",
              "      <td>1</td>\n",
              "      <td>29628</td>\n",
              "      <td>RT-PCR</td>\n",
              "      <td>3/29/20</td>\n",
              "      <td>BOGOTA DC</td>\n",
              "      <td>BOGOTA DC</td>\n",
              "      <td>JUAN</td>\n",
              "      <td>SEBASTIAN</td>\n",
              "      <td>MEJIA</td>\n",
              "      <td>FONSECA</td>\n",
              "      <td>Sunday</td>\n",
              "      <td>1</td>\n",
              "      <td>1</td>\n",
              "      <td>0</td>\n",
              "      <td>1</td>\n",
              "      <td>0</td>\n",
              "    </tr>\n",
              "  </tbody>\n",
              "</table>\n",
              "</div>\n",
              "      <button class=\"colab-df-convert\" onclick=\"convertToInteractive('df-63e04452-4745-46ea-8bf0-2857b9f919ed')\"\n",
              "              title=\"Convert this dataframe to an interactive table.\"\n",
              "              style=\"display:none;\">\n",
              "        \n",
              "  <svg xmlns=\"http://www.w3.org/2000/svg\" height=\"24px\"viewBox=\"0 0 24 24\"\n",
              "       width=\"24px\">\n",
              "    <path d=\"M0 0h24v24H0V0z\" fill=\"none\"/>\n",
              "    <path d=\"M18.56 5.44l.94 2.06.94-2.06 2.06-.94-2.06-.94-.94-2.06-.94 2.06-2.06.94zm-11 1L8.5 8.5l.94-2.06 2.06-.94-2.06-.94L8.5 2.5l-.94 2.06-2.06.94zm10 10l.94 2.06.94-2.06 2.06-.94-2.06-.94-.94-2.06-.94 2.06-2.06.94z\"/><path d=\"M17.41 7.96l-1.37-1.37c-.4-.4-.92-.59-1.43-.59-.52 0-1.04.2-1.43.59L10.3 9.45l-7.72 7.72c-.78.78-.78 2.05 0 2.83L4 21.41c.39.39.9.59 1.41.59.51 0 1.02-.2 1.41-.59l7.78-7.78 2.81-2.81c.8-.78.8-2.07 0-2.86zM5.41 20L4 18.59l7.72-7.72 1.47 1.35L5.41 20z\"/>\n",
              "  </svg>\n",
              "      </button>\n",
              "      \n",
              "  <style>\n",
              "    .colab-df-container {\n",
              "      display:flex;\n",
              "      flex-wrap:wrap;\n",
              "      gap: 12px;\n",
              "    }\n",
              "\n",
              "    .colab-df-convert {\n",
              "      background-color: #E8F0FE;\n",
              "      border: none;\n",
              "      border-radius: 50%;\n",
              "      cursor: pointer;\n",
              "      display: none;\n",
              "      fill: #1967D2;\n",
              "      height: 32px;\n",
              "      padding: 0 0 0 0;\n",
              "      width: 32px;\n",
              "    }\n",
              "\n",
              "    .colab-df-convert:hover {\n",
              "      background-color: #E2EBFA;\n",
              "      box-shadow: 0px 1px 2px rgba(60, 64, 67, 0.3), 0px 1px 3px 1px rgba(60, 64, 67, 0.15);\n",
              "      fill: #174EA6;\n",
              "    }\n",
              "\n",
              "    [theme=dark] .colab-df-convert {\n",
              "      background-color: #3B4455;\n",
              "      fill: #D2E3FC;\n",
              "    }\n",
              "\n",
              "    [theme=dark] .colab-df-convert:hover {\n",
              "      background-color: #434B5C;\n",
              "      box-shadow: 0px 1px 3px 1px rgba(0, 0, 0, 0.15);\n",
              "      filter: drop-shadow(0px 1px 2px rgba(0, 0, 0, 0.3));\n",
              "      fill: #FFFFFF;\n",
              "    }\n",
              "  </style>\n",
              "\n",
              "      <script>\n",
              "        const buttonEl =\n",
              "          document.querySelector('#df-63e04452-4745-46ea-8bf0-2857b9f919ed button.colab-df-convert');\n",
              "        buttonEl.style.display =\n",
              "          google.colab.kernel.accessAllowed ? 'block' : 'none';\n",
              "\n",
              "        async function convertToInteractive(key) {\n",
              "          const element = document.querySelector('#df-63e04452-4745-46ea-8bf0-2857b9f919ed');\n",
              "          const dataTable =\n",
              "            await google.colab.kernel.invokeFunction('convertToInteractive',\n",
              "                                                     [key], {});\n",
              "          if (!dataTable) return;\n",
              "\n",
              "          const docLinkHtml = 'Like what you see? Visit the ' +\n",
              "            '<a target=\"_blank\" href=https://colab.research.google.com/notebooks/data_table.ipynb>data table notebook</a>'\n",
              "            + ' to learn more about interactive tables.';\n",
              "          element.innerHTML = '';\n",
              "          dataTable['output_type'] = 'display_data';\n",
              "          await google.colab.output.renderOutput(dataTable, element);\n",
              "          const docLink = document.createElement('div');\n",
              "          docLink.innerHTML = docLinkHtml;\n",
              "          element.appendChild(docLink);\n",
              "        }\n",
              "      </script>\n",
              "    </div>\n",
              "  </div>\n",
              "  "
            ],
            "text/plain": [
              "   ID FechaMuestra       ZonaGeografica         TipoDocumento   Documento  \\\n",
              "0   1   2020-03-26  BOGOTA DC-BOGOTA DC  Cédula de ciudadania  1234567891   \n",
              "1   2   2020-03-29  BOGOTA DC-BOGOTA DC  Cédula de ciudadania  1234567892   \n",
              "\n",
              "                                              Evento         Nombres  \\\n",
              "0  INFLUENZA HUMANA POR VIRUS NUEVO              ...     DIANA MARIA   \n",
              "1  INFLUENZA HUMANA POR VIRUS NUEVO              ...  JUAN SEBASTIAN   \n",
              "\n",
              "       Apellidos       Sexo       Condicion_Final        EAPB Pais_Residencia  \\\n",
              "0  MEJIA FONSECA   Femenino                        ALIANSALUD        COLOMBIA   \n",
              "1  MEJIA FONSECA  Masculino                          SURA EPS        COLOMBIA   \n",
              "\n",
              "  Departamento_Residencia Municipio_Residencia Trabajador_Salud  \\\n",
              "0               BOGOTA DC            BOGOTA DC               NO   \n",
              "1               BOGOTA DC            BOGOTA DC               NO   \n",
              "\n",
              "  Contacto_Caso_Confirmado                                         EstadoCaso  \\\n",
              "0                       NO  RESULTADO_GENERADO                            ...   \n",
              "1                       NO  RESULTADO_GENERADO                            ...   \n",
              "\n",
              "   GenerarResultado  FiltroUsuario Tipo_Prueba Fecha_Resultado Departamento  \\\n",
              "0                 1          29628      RT-PCR         3/26/20    BOGOTA DC   \n",
              "1                 1          29628      RT-PCR         3/29/20    BOGOTA DC   \n",
              "\n",
              "      Ciudad PrimerNombre SegundoNombre PrimerApellido SegundoApellido  \\\n",
              "0  BOGOTA DC        DIANA         MARIA          MEJIA         FONSECA   \n",
              "1  BOGOTA DC         JUAN     SEBASTIAN          MEJIA         FONSECA   \n",
              "\n",
              "    WeekDay  SexoCat  CodeSexo  0  1  2  \n",
              "0  Thursday        0         0  1  0  0  \n",
              "1    Sunday        1         1  0  1  0  "
            ]
          },
          "metadata": {},
          "execution_count": 40
        }
      ],
      "source": [
        "data.head(2)"
      ]
    },
    {
      "cell_type": "code",
      "execution_count": 41,
      "metadata": {
        "id": "bekdZK4vb37r"
      },
      "outputs": [],
      "source": [
        "from sklearn.preprocessing import OneHotEncoder\n",
        "\n",
        "enc = OneHotEncoder()"
      ]
    },
    {
      "cell_type": "code",
      "execution_count": 42,
      "metadata": {
        "colab": {
          "base_uri": "https://localhost:8080/",
          "height": 35
        },
        "id": "yma15Zy_b37s",
        "outputId": "d405e101-cbe4-4520-b9c6-95b957492762"
      },
      "outputs": [
        {
          "output_type": "execute_result",
          "data": {
            "application/vnd.google.colaboratory.intrinsic+json": {
              "type": "string"
            },
            "text/plain": [
              "'1.1.5'"
            ]
          },
          "metadata": {},
          "execution_count": 42
        }
      ],
      "source": [
        "pd.__version__"
      ]
    },
    {
      "cell_type": "code",
      "execution_count": 43,
      "metadata": {
        "colab": {
          "base_uri": "https://localhost:8080/"
        },
        "id": "eouEL7cgb37s",
        "outputId": "0bdef83d-d111-4b1f-d898-173592fa75df"
      },
      "outputs": [
        {
          "output_type": "execute_result",
          "data": {
            "text/plain": [
              "array([['Femenino'],\n",
              "       ['Masculino'],\n",
              "       ['Femenino'],\n",
              "       ...,\n",
              "       ['Femenino'],\n",
              "       ['Masculino'],\n",
              "       ['Femenino']], dtype=object)"
            ]
          },
          "metadata": {},
          "execution_count": 43
        }
      ],
      "source": [
        "X = data['Sexo'].to_numpy().reshape(-1, 1)\n",
        "X"
      ]
    },
    {
      "cell_type": "code",
      "execution_count": 44,
      "metadata": {
        "colab": {
          "base_uri": "https://localhost:8080/"
        },
        "id": "zxbNjW7Pb37t",
        "outputId": "876480ad-b108-47ed-fead-13fb059fe8ba"
      },
      "outputs": [
        {
          "output_type": "execute_result",
          "data": {
            "text/plain": [
              "OneHotEncoder()"
            ]
          },
          "metadata": {},
          "execution_count": 44
        }
      ],
      "source": [
        "X = data['Sexo'].to_numpy().reshape(-1, 1)\n",
        "enc.fit(X)"
      ]
    },
    {
      "cell_type": "code",
      "execution_count": 45,
      "metadata": {
        "colab": {
          "base_uri": "https://localhost:8080/"
        },
        "id": "SeW0omdsb37u",
        "outputId": "9787ded0-6766-4b26-cdb6-2597355d6b14"
      },
      "outputs": [
        {
          "output_type": "execute_result",
          "data": {
            "text/plain": [
              "[array(['Femenino', 'Masculino', 'Sin Información'], dtype=object)]"
            ]
          },
          "metadata": {},
          "execution_count": 45
        }
      ],
      "source": [
        "enc.categories_"
      ]
    },
    {
      "cell_type": "code",
      "execution_count": 46,
      "metadata": {
        "colab": {
          "base_uri": "https://localhost:8080/"
        },
        "id": "DlueNw2xb37v",
        "outputId": "75854f90-dc83-4220-c521-95e3178f58ca"
      },
      "outputs": [
        {
          "output_type": "execute_result",
          "data": {
            "text/plain": [
              "array([[1., 0., 0.],\n",
              "       [0., 1., 0.],\n",
              "       [1., 0., 0.],\n",
              "       ...,\n",
              "       [1., 0., 0.],\n",
              "       [0., 1., 0.],\n",
              "       [1., 0., 0.]])"
            ]
          },
          "metadata": {},
          "execution_count": 46
        }
      ],
      "source": [
        "enc.transform(X).toarray()"
      ]
    },
    {
      "cell_type": "code",
      "execution_count": 47,
      "metadata": {
        "colab": {
          "base_uri": "https://localhost:8080/"
        },
        "id": "q2xuRQ3Ob37w",
        "outputId": "0035ce9d-ebdd-45f5-b441-60e19d6eca78"
      },
      "outputs": [
        {
          "output_type": "execute_result",
          "data": {
            "text/plain": [
              "array([['Femenino'],\n",
              "       ['Masculino'],\n",
              "       ['Sin Información']], dtype=object)"
            ]
          },
          "metadata": {},
          "execution_count": 47
        }
      ],
      "source": [
        "enc.inverse_transform([[1., 0., 0.],[0., 1., 0.],[0., 0., 1.]])"
      ]
    },
    {
      "cell_type": "code",
      "execution_count": 48,
      "metadata": {
        "colab": {
          "base_uri": "https://localhost:8080/"
        },
        "id": "xBivoq-Cb37x",
        "outputId": "8cb9d721-a94e-40e4-b831-b3e0b16fa342"
      },
      "outputs": [
        {
          "output_type": "stream",
          "name": "stderr",
          "text": [
            "/usr/local/lib/python3.7/dist-packages/sklearn/utils/deprecation.py:87: FutureWarning: Function get_feature_names is deprecated; get_feature_names is deprecated in 1.0 and will be removed in 1.2. Please use get_feature_names_out instead.\n",
            "  warnings.warn(msg, category=FutureWarning)\n"
          ]
        },
        {
          "output_type": "execute_result",
          "data": {
            "text/plain": [
              "array(['Gender_Femenino', 'Gender_Masculino', 'Gender_Sin Información'],\n",
              "      dtype=object)"
            ]
          },
          "metadata": {},
          "execution_count": 48
        }
      ],
      "source": [
        "enc.get_feature_names(['Gender'])"
      ]
    },
    {
      "cell_type": "code",
      "execution_count": 49,
      "metadata": {
        "colab": {
          "base_uri": "https://localhost:8080/",
          "height": 280
        },
        "id": "TGzvZ_hkb37x",
        "outputId": "73593a78-9f36-4d5d-9fc0-aeb261c876ab"
      },
      "outputs": [
        {
          "output_type": "execute_result",
          "data": {
            "text/html": [
              "\n",
              "  <div id=\"df-eaf2b675-a13a-4dd6-9763-eb021ba314a3\">\n",
              "    <div class=\"colab-df-container\">\n",
              "      <div>\n",
              "<style scoped>\n",
              "    .dataframe tbody tr th:only-of-type {\n",
              "        vertical-align: middle;\n",
              "    }\n",
              "\n",
              "    .dataframe tbody tr th {\n",
              "        vertical-align: top;\n",
              "    }\n",
              "\n",
              "    .dataframe thead th {\n",
              "        text-align: right;\n",
              "    }\n",
              "</style>\n",
              "<table border=\"1\" class=\"dataframe\">\n",
              "  <thead>\n",
              "    <tr style=\"text-align: right;\">\n",
              "      <th></th>\n",
              "      <th>ID</th>\n",
              "      <th>FechaMuestra</th>\n",
              "      <th>ZonaGeografica</th>\n",
              "      <th>TipoDocumento</th>\n",
              "      <th>Documento</th>\n",
              "      <th>Evento</th>\n",
              "      <th>Nombres</th>\n",
              "      <th>Apellidos</th>\n",
              "      <th>Sexo</th>\n",
              "      <th>Condicion_Final</th>\n",
              "      <th>EAPB</th>\n",
              "      <th>Pais_Residencia</th>\n",
              "      <th>Departamento_Residencia</th>\n",
              "      <th>Municipio_Residencia</th>\n",
              "      <th>Trabajador_Salud</th>\n",
              "      <th>Contacto_Caso_Confirmado</th>\n",
              "      <th>EstadoCaso</th>\n",
              "      <th>GenerarResultado</th>\n",
              "      <th>FiltroUsuario</th>\n",
              "      <th>Tipo_Prueba</th>\n",
              "      <th>Fecha_Resultado</th>\n",
              "      <th>Departamento</th>\n",
              "      <th>Ciudad</th>\n",
              "      <th>PrimerNombre</th>\n",
              "      <th>SegundoNombre</th>\n",
              "      <th>PrimerApellido</th>\n",
              "      <th>SegundoApellido</th>\n",
              "      <th>WeekDay</th>\n",
              "      <th>SexoCat</th>\n",
              "      <th>CodeSexo</th>\n",
              "      <th>0</th>\n",
              "      <th>1</th>\n",
              "      <th>2</th>\n",
              "    </tr>\n",
              "  </thead>\n",
              "  <tbody>\n",
              "    <tr>\n",
              "      <th>0</th>\n",
              "      <td>1</td>\n",
              "      <td>2020-03-26</td>\n",
              "      <td>BOGOTA DC-BOGOTA DC</td>\n",
              "      <td>Cédula de ciudadania</td>\n",
              "      <td>1234567891</td>\n",
              "      <td>INFLUENZA HUMANA POR VIRUS NUEVO              ...</td>\n",
              "      <td>DIANA MARIA</td>\n",
              "      <td>MEJIA FONSECA</td>\n",
              "      <td>Femenino</td>\n",
              "      <td></td>\n",
              "      <td>ALIANSALUD</td>\n",
              "      <td>COLOMBIA</td>\n",
              "      <td>BOGOTA DC</td>\n",
              "      <td>BOGOTA DC</td>\n",
              "      <td>NO</td>\n",
              "      <td>NO</td>\n",
              "      <td>RESULTADO_GENERADO                            ...</td>\n",
              "      <td>1</td>\n",
              "      <td>29628</td>\n",
              "      <td>RT-PCR</td>\n",
              "      <td>3/26/20</td>\n",
              "      <td>BOGOTA DC</td>\n",
              "      <td>BOGOTA DC</td>\n",
              "      <td>DIANA</td>\n",
              "      <td>MARIA</td>\n",
              "      <td>MEJIA</td>\n",
              "      <td>FONSECA</td>\n",
              "      <td>Thursday</td>\n",
              "      <td>0</td>\n",
              "      <td>0</td>\n",
              "      <td>1</td>\n",
              "      <td>0</td>\n",
              "      <td>0</td>\n",
              "    </tr>\n",
              "    <tr>\n",
              "      <th>1</th>\n",
              "      <td>2</td>\n",
              "      <td>2020-03-29</td>\n",
              "      <td>BOGOTA DC-BOGOTA DC</td>\n",
              "      <td>Cédula de ciudadania</td>\n",
              "      <td>1234567892</td>\n",
              "      <td>INFLUENZA HUMANA POR VIRUS NUEVO              ...</td>\n",
              "      <td>JUAN SEBASTIAN</td>\n",
              "      <td>MEJIA FONSECA</td>\n",
              "      <td>Masculino</td>\n",
              "      <td></td>\n",
              "      <td>SURA EPS</td>\n",
              "      <td>COLOMBIA</td>\n",
              "      <td>BOGOTA DC</td>\n",
              "      <td>BOGOTA DC</td>\n",
              "      <td>NO</td>\n",
              "      <td>NO</td>\n",
              "      <td>RESULTADO_GENERADO                            ...</td>\n",
              "      <td>1</td>\n",
              "      <td>29628</td>\n",
              "      <td>RT-PCR</td>\n",
              "      <td>3/29/20</td>\n",
              "      <td>BOGOTA DC</td>\n",
              "      <td>BOGOTA DC</td>\n",
              "      <td>JUAN</td>\n",
              "      <td>SEBASTIAN</td>\n",
              "      <td>MEJIA</td>\n",
              "      <td>FONSECA</td>\n",
              "      <td>Sunday</td>\n",
              "      <td>1</td>\n",
              "      <td>1</td>\n",
              "      <td>0</td>\n",
              "      <td>1</td>\n",
              "      <td>0</td>\n",
              "    </tr>\n",
              "  </tbody>\n",
              "</table>\n",
              "</div>\n",
              "      <button class=\"colab-df-convert\" onclick=\"convertToInteractive('df-eaf2b675-a13a-4dd6-9763-eb021ba314a3')\"\n",
              "              title=\"Convert this dataframe to an interactive table.\"\n",
              "              style=\"display:none;\">\n",
              "        \n",
              "  <svg xmlns=\"http://www.w3.org/2000/svg\" height=\"24px\"viewBox=\"0 0 24 24\"\n",
              "       width=\"24px\">\n",
              "    <path d=\"M0 0h24v24H0V0z\" fill=\"none\"/>\n",
              "    <path d=\"M18.56 5.44l.94 2.06.94-2.06 2.06-.94-2.06-.94-.94-2.06-.94 2.06-2.06.94zm-11 1L8.5 8.5l.94-2.06 2.06-.94-2.06-.94L8.5 2.5l-.94 2.06-2.06.94zm10 10l.94 2.06.94-2.06 2.06-.94-2.06-.94-.94-2.06-.94 2.06-2.06.94z\"/><path d=\"M17.41 7.96l-1.37-1.37c-.4-.4-.92-.59-1.43-.59-.52 0-1.04.2-1.43.59L10.3 9.45l-7.72 7.72c-.78.78-.78 2.05 0 2.83L4 21.41c.39.39.9.59 1.41.59.51 0 1.02-.2 1.41-.59l7.78-7.78 2.81-2.81c.8-.78.8-2.07 0-2.86zM5.41 20L4 18.59l7.72-7.72 1.47 1.35L5.41 20z\"/>\n",
              "  </svg>\n",
              "      </button>\n",
              "      \n",
              "  <style>\n",
              "    .colab-df-container {\n",
              "      display:flex;\n",
              "      flex-wrap:wrap;\n",
              "      gap: 12px;\n",
              "    }\n",
              "\n",
              "    .colab-df-convert {\n",
              "      background-color: #E8F0FE;\n",
              "      border: none;\n",
              "      border-radius: 50%;\n",
              "      cursor: pointer;\n",
              "      display: none;\n",
              "      fill: #1967D2;\n",
              "      height: 32px;\n",
              "      padding: 0 0 0 0;\n",
              "      width: 32px;\n",
              "    }\n",
              "\n",
              "    .colab-df-convert:hover {\n",
              "      background-color: #E2EBFA;\n",
              "      box-shadow: 0px 1px 2px rgba(60, 64, 67, 0.3), 0px 1px 3px 1px rgba(60, 64, 67, 0.15);\n",
              "      fill: #174EA6;\n",
              "    }\n",
              "\n",
              "    [theme=dark] .colab-df-convert {\n",
              "      background-color: #3B4455;\n",
              "      fill: #D2E3FC;\n",
              "    }\n",
              "\n",
              "    [theme=dark] .colab-df-convert:hover {\n",
              "      background-color: #434B5C;\n",
              "      box-shadow: 0px 1px 3px 1px rgba(0, 0, 0, 0.15);\n",
              "      filter: drop-shadow(0px 1px 2px rgba(0, 0, 0, 0.3));\n",
              "      fill: #FFFFFF;\n",
              "    }\n",
              "  </style>\n",
              "\n",
              "      <script>\n",
              "        const buttonEl =\n",
              "          document.querySelector('#df-eaf2b675-a13a-4dd6-9763-eb021ba314a3 button.colab-df-convert');\n",
              "        buttonEl.style.display =\n",
              "          google.colab.kernel.accessAllowed ? 'block' : 'none';\n",
              "\n",
              "        async function convertToInteractive(key) {\n",
              "          const element = document.querySelector('#df-eaf2b675-a13a-4dd6-9763-eb021ba314a3');\n",
              "          const dataTable =\n",
              "            await google.colab.kernel.invokeFunction('convertToInteractive',\n",
              "                                                     [key], {});\n",
              "          if (!dataTable) return;\n",
              "\n",
              "          const docLinkHtml = 'Like what you see? Visit the ' +\n",
              "            '<a target=\"_blank\" href=https://colab.research.google.com/notebooks/data_table.ipynb>data table notebook</a>'\n",
              "            + ' to learn more about interactive tables.';\n",
              "          element.innerHTML = '';\n",
              "          dataTable['output_type'] = 'display_data';\n",
              "          await google.colab.output.renderOutput(dataTable, element);\n",
              "          const docLink = document.createElement('div');\n",
              "          docLink.innerHTML = docLinkHtml;\n",
              "          element.appendChild(docLink);\n",
              "        }\n",
              "      </script>\n",
              "    </div>\n",
              "  </div>\n",
              "  "
            ],
            "text/plain": [
              "   ID FechaMuestra       ZonaGeografica         TipoDocumento   Documento  \\\n",
              "0   1   2020-03-26  BOGOTA DC-BOGOTA DC  Cédula de ciudadania  1234567891   \n",
              "1   2   2020-03-29  BOGOTA DC-BOGOTA DC  Cédula de ciudadania  1234567892   \n",
              "\n",
              "                                              Evento         Nombres  \\\n",
              "0  INFLUENZA HUMANA POR VIRUS NUEVO              ...     DIANA MARIA   \n",
              "1  INFLUENZA HUMANA POR VIRUS NUEVO              ...  JUAN SEBASTIAN   \n",
              "\n",
              "       Apellidos       Sexo       Condicion_Final        EAPB Pais_Residencia  \\\n",
              "0  MEJIA FONSECA   Femenino                        ALIANSALUD        COLOMBIA   \n",
              "1  MEJIA FONSECA  Masculino                          SURA EPS        COLOMBIA   \n",
              "\n",
              "  Departamento_Residencia Municipio_Residencia Trabajador_Salud  \\\n",
              "0               BOGOTA DC            BOGOTA DC               NO   \n",
              "1               BOGOTA DC            BOGOTA DC               NO   \n",
              "\n",
              "  Contacto_Caso_Confirmado                                         EstadoCaso  \\\n",
              "0                       NO  RESULTADO_GENERADO                            ...   \n",
              "1                       NO  RESULTADO_GENERADO                            ...   \n",
              "\n",
              "   GenerarResultado  FiltroUsuario Tipo_Prueba Fecha_Resultado Departamento  \\\n",
              "0                 1          29628      RT-PCR         3/26/20    BOGOTA DC   \n",
              "1                 1          29628      RT-PCR         3/29/20    BOGOTA DC   \n",
              "\n",
              "      Ciudad PrimerNombre SegundoNombre PrimerApellido SegundoApellido  \\\n",
              "0  BOGOTA DC        DIANA         MARIA          MEJIA         FONSECA   \n",
              "1  BOGOTA DC         JUAN     SEBASTIAN          MEJIA         FONSECA   \n",
              "\n",
              "    WeekDay  SexoCat  CodeSexo  0  1  2  \n",
              "0  Thursday        0         0  1  0  0  \n",
              "1    Sunday        1         1  0  1  0  "
            ]
          },
          "metadata": {},
          "execution_count": 49
        }
      ],
      "source": [
        "pd.set_option('max_columns', None)\n",
        "data.head(2)"
      ]
    },
    {
      "cell_type": "markdown",
      "metadata": {
        "id": "Tq9l7EVhb37y"
      },
      "source": [
        "### Selecting columns by type\n",
        "\n",
        "If you want to only work with categorical variables, it is possible via the `select_dtypes()` method:"
      ]
    },
    {
      "cell_type": "code",
      "execution_count": 50,
      "metadata": {
        "colab": {
          "base_uri": "https://localhost:8080/"
        },
        "id": "tEVrNlqgb37y",
        "outputId": "01bb1cb8-e90b-4ba8-9aa8-040421ed9b46"
      },
      "outputs": [
        {
          "output_type": "stream",
          "name": "stdout",
          "text": [
            "<class 'pandas.core.frame.DataFrame'>\n",
            "RangeIndex: 23034 entries, 0 to 23033\n",
            "Data columns (total 21 columns):\n",
            " #   Column                    Non-Null Count  Dtype \n",
            "---  ------                    --------------  ----- \n",
            " 0   ZonaGeografica            23034 non-null  object\n",
            " 1   TipoDocumento             23034 non-null  object\n",
            " 2   Evento                    23034 non-null  object\n",
            " 3   Nombres                   23034 non-null  object\n",
            " 4   Apellidos                 23034 non-null  object\n",
            " 5   Condicion_Final           23034 non-null  object\n",
            " 6   EAPB                      19706 non-null  object\n",
            " 7   Pais_Residencia           8799 non-null   object\n",
            " 8   Departamento_Residencia   8504 non-null   object\n",
            " 9   Municipio_Residencia      8529 non-null   object\n",
            " 10  Trabajador_Salud          23034 non-null  object\n",
            " 11  Contacto_Caso_Confirmado  23034 non-null  object\n",
            " 12  EstadoCaso                23034 non-null  object\n",
            " 13  Tipo_Prueba               23034 non-null  object\n",
            " 14  Fecha_Resultado           23034 non-null  object\n",
            " 15  Departamento              23034 non-null  object\n",
            " 16  Ciudad                    23034 non-null  object\n",
            " 17  PrimerNombre              23034 non-null  object\n",
            " 18  SegundoNombre             17540 non-null  object\n",
            " 19  PrimerApellido            23034 non-null  object\n",
            " 20  SegundoApellido           23034 non-null  object\n",
            "dtypes: object(21)\n",
            "memory usage: 3.7+ MB\n"
          ]
        }
      ],
      "source": [
        "cat_data = data.select_dtypes(include=['object']).copy()\n",
        "cat_data.info()"
      ]
    },
    {
      "cell_type": "markdown",
      "metadata": {
        "id": "-tym-or6b37y"
      },
      "source": [
        "### Creating an unique identifier\n",
        "\n",
        "In some situations, you will not have a unique identifier readily available for your data. However, you can create one based on a combination of the available data, such that no two rows could possibly ever exhibit the same combination. Here, for examples, the columns `Nombres` and `Apellidos` can be combined and converted into a unique ID:"
      ]
    },
    {
      "cell_type": "code",
      "execution_count": 51,
      "metadata": {
        "colab": {
          "base_uri": "https://localhost:8080/"
        },
        "id": "IqL0edxvb37z",
        "outputId": "c7184a40-7c87-49b7-f661-12cdb204daa4"
      },
      "outputs": [
        {
          "output_type": "execute_result",
          "data": {
            "text/plain": [
              "0            DIANA MARIA:MEJIA FONSECA\n",
              "1         JUAN SEBASTIAN:MEJIA FONSECA\n",
              "2         MARIA BETZAIDA:MEJIA FONSECA\n",
              "3             JUAN PABLO:MEJIA FONSECA\n",
              "4    LUIS EDUARDO JUNIOR:MEJIA FONSECA\n",
              "Name: id_unique, dtype: object"
            ]
          },
          "metadata": {},
          "execution_count": 51
        }
      ],
      "source": [
        "data['id_unique'] = data.apply(lambda x: ':'.join([str(x['Nombres']), str(x['Apellidos'])]), axis=1)\n",
        "data['id_unique'].head()"
      ]
    },
    {
      "cell_type": "code",
      "execution_count": 52,
      "metadata": {
        "colab": {
          "base_uri": "https://localhost:8080/"
        },
        "id": "IOjUxXgIb37z",
        "outputId": "c2379836-aab6-4ad0-cd17-ab3c556313f9"
      },
      "outputs": [
        {
          "output_type": "execute_result",
          "data": {
            "text/plain": [
              "array(['RElBTkEgTUFSSUE6TUVKSUEgRk9OU0VDQQ==',\n",
              "       'SlVBTiBTRUJBU1RJQU46TUVKSUEgRk9OU0VDQQ==',\n",
              "       'TUFSSUEgQkVUWkFJREE6TUVKSUEgRk9OU0VDQQ==', ...,\n",
              "       'TElCSUEgRVNURUxBOk1FSklBIEZPTlNFQ0E=',\n",
              "       'TUVSTElTIFZJVklBTkE6TUVKSUEgRk9OU0VDQQ==',\n",
              "       'RU5NQVJZIEpPU0VGSU5BOk1FSklBIEZPTlNFQ0E='], dtype=object)"
            ]
          },
          "metadata": {},
          "execution_count": 52
        }
      ],
      "source": [
        "data['id_unique'] = data.apply(lambda x: ':'.join([str(x['Nombres']), str(x['Apellidos'])]), axis=1)\n",
        "data['id_unique'] = data['id_unique'].apply(lambda x: base64.b64encode(x.encode()).decode())\n",
        "data['id_unique'].unique()"
      ]
    },
    {
      "cell_type": "markdown",
      "metadata": {
        "id": "V4ATEDxMb370"
      },
      "source": [
        "### Working with null values\n",
        "\n",
        "There are a few ways to go about handling null values in `pandas` DataFrames. Earlier, we simply replaced missing values with text that indicated that no information was available.\n",
        "\n",
        "Here, we will use a new method - **imputation**. Let's first check which of our columns actually contain null values:"
      ]
    },
    {
      "cell_type": "code",
      "execution_count": 53,
      "metadata": {
        "colab": {
          "base_uri": "https://localhost:8080/",
          "height": 112
        },
        "id": "p7Jo8n6Ab370",
        "outputId": "6d1bd082-a4e1-4d2d-e772-b14176a63fe0"
      },
      "outputs": [
        {
          "output_type": "execute_result",
          "data": {
            "text/html": [
              "\n",
              "  <div id=\"df-943d5ecb-cd05-48da-a5e1-036a5d94f2fc\">\n",
              "    <div class=\"colab-df-container\">\n",
              "      <div>\n",
              "<style scoped>\n",
              "    .dataframe tbody tr th:only-of-type {\n",
              "        vertical-align: middle;\n",
              "    }\n",
              "\n",
              "    .dataframe tbody tr th {\n",
              "        vertical-align: top;\n",
              "    }\n",
              "\n",
              "    .dataframe thead th {\n",
              "        text-align: right;\n",
              "    }\n",
              "</style>\n",
              "<table border=\"1\" class=\"dataframe\">\n",
              "  <thead>\n",
              "    <tr style=\"text-align: right;\">\n",
              "      <th></th>\n",
              "      <th>slug</th>\n",
              "      <th>asset</th>\n",
              "      <th>name</th>\n",
              "      <th>date</th>\n",
              "      <th>ranknow</th>\n",
              "      <th>open</th>\n",
              "      <th>high</th>\n",
              "      <th>low</th>\n",
              "      <th>close</th>\n",
              "      <th>volume</th>\n",
              "      <th>market</th>\n",
              "      <th>close_ratio</th>\n",
              "      <th>spread</th>\n",
              "    </tr>\n",
              "  </thead>\n",
              "  <tbody>\n",
              "    <tr>\n",
              "      <th>0</th>\n",
              "      <td>target-coin</td>\n",
              "      <td>TGT</td>\n",
              "      <td>Target Coin</td>\n",
              "      <td>29-09-2017</td>\n",
              "      <td>607</td>\n",
              "      <td>0.028961</td>\n",
              "      <td>0.054766</td>\n",
              "      <td>0.028961</td>\n",
              "      <td>0.041777</td>\n",
              "      <td>69996</td>\n",
              "      <td>0.0</td>\n",
              "      <td>0.4966</td>\n",
              "      <td>0.03</td>\n",
              "    </tr>\n",
              "    <tr>\n",
              "      <th>1</th>\n",
              "      <td>target-coin</td>\n",
              "      <td>TGT</td>\n",
              "      <td>Target Coin</td>\n",
              "      <td>30-09-2017</td>\n",
              "      <td>607</td>\n",
              "      <td>0.041783</td>\n",
              "      <td>0.046196</td>\n",
              "      <td>0.031435</td>\n",
              "      <td>0.031744</td>\n",
              "      <td>5725</td>\n",
              "      <td>0.0</td>\n",
              "      <td>0.0209</td>\n",
              "      <td>0.01</td>\n",
              "    </tr>\n",
              "  </tbody>\n",
              "</table>\n",
              "</div>\n",
              "      <button class=\"colab-df-convert\" onclick=\"convertToInteractive('df-943d5ecb-cd05-48da-a5e1-036a5d94f2fc')\"\n",
              "              title=\"Convert this dataframe to an interactive table.\"\n",
              "              style=\"display:none;\">\n",
              "        \n",
              "  <svg xmlns=\"http://www.w3.org/2000/svg\" height=\"24px\"viewBox=\"0 0 24 24\"\n",
              "       width=\"24px\">\n",
              "    <path d=\"M0 0h24v24H0V0z\" fill=\"none\"/>\n",
              "    <path d=\"M18.56 5.44l.94 2.06.94-2.06 2.06-.94-2.06-.94-.94-2.06-.94 2.06-2.06.94zm-11 1L8.5 8.5l.94-2.06 2.06-.94-2.06-.94L8.5 2.5l-.94 2.06-2.06.94zm10 10l.94 2.06.94-2.06 2.06-.94-2.06-.94-.94-2.06-.94 2.06-2.06.94z\"/><path d=\"M17.41 7.96l-1.37-1.37c-.4-.4-.92-.59-1.43-.59-.52 0-1.04.2-1.43.59L10.3 9.45l-7.72 7.72c-.78.78-.78 2.05 0 2.83L4 21.41c.39.39.9.59 1.41.59.51 0 1.02-.2 1.41-.59l7.78-7.78 2.81-2.81c.8-.78.8-2.07 0-2.86zM5.41 20L4 18.59l7.72-7.72 1.47 1.35L5.41 20z\"/>\n",
              "  </svg>\n",
              "      </button>\n",
              "      \n",
              "  <style>\n",
              "    .colab-df-container {\n",
              "      display:flex;\n",
              "      flex-wrap:wrap;\n",
              "      gap: 12px;\n",
              "    }\n",
              "\n",
              "    .colab-df-convert {\n",
              "      background-color: #E8F0FE;\n",
              "      border: none;\n",
              "      border-radius: 50%;\n",
              "      cursor: pointer;\n",
              "      display: none;\n",
              "      fill: #1967D2;\n",
              "      height: 32px;\n",
              "      padding: 0 0 0 0;\n",
              "      width: 32px;\n",
              "    }\n",
              "\n",
              "    .colab-df-convert:hover {\n",
              "      background-color: #E2EBFA;\n",
              "      box-shadow: 0px 1px 2px rgba(60, 64, 67, 0.3), 0px 1px 3px 1px rgba(60, 64, 67, 0.15);\n",
              "      fill: #174EA6;\n",
              "    }\n",
              "\n",
              "    [theme=dark] .colab-df-convert {\n",
              "      background-color: #3B4455;\n",
              "      fill: #D2E3FC;\n",
              "    }\n",
              "\n",
              "    [theme=dark] .colab-df-convert:hover {\n",
              "      background-color: #434B5C;\n",
              "      box-shadow: 0px 1px 3px 1px rgba(0, 0, 0, 0.15);\n",
              "      filter: drop-shadow(0px 1px 2px rgba(0, 0, 0, 0.3));\n",
              "      fill: #FFFFFF;\n",
              "    }\n",
              "  </style>\n",
              "\n",
              "      <script>\n",
              "        const buttonEl =\n",
              "          document.querySelector('#df-943d5ecb-cd05-48da-a5e1-036a5d94f2fc button.colab-df-convert');\n",
              "        buttonEl.style.display =\n",
              "          google.colab.kernel.accessAllowed ? 'block' : 'none';\n",
              "\n",
              "        async function convertToInteractive(key) {\n",
              "          const element = document.querySelector('#df-943d5ecb-cd05-48da-a5e1-036a5d94f2fc');\n",
              "          const dataTable =\n",
              "            await google.colab.kernel.invokeFunction('convertToInteractive',\n",
              "                                                     [key], {});\n",
              "          if (!dataTable) return;\n",
              "\n",
              "          const docLinkHtml = 'Like what you see? Visit the ' +\n",
              "            '<a target=\"_blank\" href=https://colab.research.google.com/notebooks/data_table.ipynb>data table notebook</a>'\n",
              "            + ' to learn more about interactive tables.';\n",
              "          element.innerHTML = '';\n",
              "          dataTable['output_type'] = 'display_data';\n",
              "          await google.colab.output.renderOutput(dataTable, element);\n",
              "          const docLink = document.createElement('div');\n",
              "          docLink.innerHTML = docLinkHtml;\n",
              "          element.appendChild(docLink);\n",
              "        }\n",
              "      </script>\n",
              "    </div>\n",
              "  </div>\n",
              "  "
            ],
            "text/plain": [
              "          slug asset         name        date  ranknow      open      high  \\\n",
              "0  target-coin   TGT  Target Coin  29-09-2017      607  0.028961  0.054766   \n",
              "1  target-coin   TGT  Target Coin  30-09-2017      607  0.041783  0.046196   \n",
              "\n",
              "        low     close  volume  market  close_ratio  spread  \n",
              "0  0.028961  0.041777   69996     0.0       0.4966    0.03  \n",
              "1  0.031435  0.031744    5725     0.0       0.0209    0.01  "
            ]
          },
          "metadata": {},
          "execution_count": 53
        }
      ],
      "source": [
        "data = pd.read_csv('drive/MyDrive/DS4A/W3_bootcamp_data_transformation/crypto-markets.txt')\n",
        "data.head(2)"
      ]
    },
    {
      "cell_type": "code",
      "execution_count": 54,
      "metadata": {
        "colab": {
          "base_uri": "https://localhost:8080/"
        },
        "id": "9LtQSuSIb370",
        "outputId": "747cabdb-9718-4354-aae7-2eed7b624383"
      },
      "outputs": [
        {
          "output_type": "execute_result",
          "data": {
            "text/plain": [
              "slug           False\n",
              "asset          False\n",
              "name           False\n",
              "date           False\n",
              "ranknow        False\n",
              "open            True\n",
              "high           False\n",
              "low             True\n",
              "close          False\n",
              "volume         False\n",
              "market         False\n",
              "close_ratio    False\n",
              "spread         False\n",
              "dtype: bool"
            ]
          },
          "metadata": {},
          "execution_count": 54
        }
      ],
      "source": [
        "data.isnull().any()"
      ]
    },
    {
      "cell_type": "markdown",
      "metadata": {
        "id": "RScA_9iwb371"
      },
      "source": [
        "We'll go ahead and **impute** the missing values; that is, find suitable replacement values based on **interpolating** from the rest of the data: "
      ]
    },
    {
      "cell_type": "code",
      "execution_count": 55,
      "metadata": {
        "colab": {
          "base_uri": "https://localhost:8080/"
        },
        "id": "YOWsVif6b371",
        "outputId": "b817d8b4-71c3-4df8-bc1e-7c3aa60d3f7b"
      },
      "outputs": [
        {
          "output_type": "stream",
          "name": "stdout",
          "text": [
            "          0         1\n",
            "0  0.028961  0.028961\n",
            "1  0.041783  0.031435\n"
          ]
        },
        {
          "output_type": "execute_result",
          "data": {
            "text/plain": [
              "slug           False\n",
              "asset          False\n",
              "name           False\n",
              "date           False\n",
              "ranknow        False\n",
              "open           False\n",
              "high           False\n",
              "low            False\n",
              "close          False\n",
              "volume         False\n",
              "market         False\n",
              "close_ratio    False\n",
              "spread         False\n",
              "dtype: bool"
            ]
          },
          "metadata": {},
          "execution_count": 55
        }
      ],
      "source": [
        "imputer = IterativeImputer()\n",
        "\n",
        "cols_to_impute = ['open', 'low']\n",
        "\n",
        "imputed_df = pd.DataFrame(imputer.fit_transform(data[cols_to_impute]))\n",
        "\n",
        "print(imputed_df.head(2))\n",
        "imputed_df.columns = cols_to_impute\n",
        "\n",
        "data[cols_to_impute] = imputed_df[cols_to_impute]\n",
        "\n",
        "data.isnull().any()"
      ]
    },
    {
      "cell_type": "markdown",
      "metadata": {
        "id": "Ojx2QPECb371"
      },
      "source": [
        "## Strings\n",
        "\n",
        "String is a library very usefull to tranform data."
      ]
    },
    {
      "cell_type": "code",
      "execution_count": 56,
      "metadata": {
        "colab": {
          "base_uri": "https://localhost:8080/",
          "height": 35
        },
        "id": "bYdMKsVib371",
        "outputId": "ae18dcbf-49e2-4864-96de-de2fd0de9fd6"
      },
      "outputs": [
        {
          "output_type": "execute_result",
          "data": {
            "application/vnd.google.colaboratory.intrinsic+json": {
              "type": "string"
            },
            "text/plain": [
              "'Hola \\n\\tMundo'"
            ]
          },
          "metadata": {},
          "execution_count": 56
        }
      ],
      "source": [
        "texto = \"Hola \\n\\tMundo\"\n",
        "texto"
      ]
    },
    {
      "cell_type": "code",
      "execution_count": 57,
      "metadata": {
        "colab": {
          "base_uri": "https://localhost:8080/"
        },
        "id": "Dyu84rBJb372",
        "outputId": "c56794c9-76fd-424f-9c95-148c5a70b65c"
      },
      "outputs": [
        {
          "output_type": "stream",
          "name": "stdout",
          "text": [
            "Hola \n",
            "\tMundo\n"
          ]
        }
      ],
      "source": [
        "print(texto)"
      ]
    },
    {
      "cell_type": "code",
      "execution_count": 58,
      "metadata": {
        "colab": {
          "base_uri": "https://localhost:8080/"
        },
        "id": "u-Zu5fpsb372",
        "outputId": "79bbd7c3-0a50-4efb-9589-60159dae8259"
      },
      "outputs": [
        {
          "output_type": "stream",
          "name": "stdout",
          "text": [
            "ascii_letters:  abcdefghijklmnopqrstuvwxyzABCDEFGHIJKLMNOPQRSTUVWXYZ\n",
            "ascii_lowercase:  abcdefghijklmnopqrstuvwxyz\n",
            "ascii_uppercase:  ABCDEFGHIJKLMNOPQRSTUVWXYZ\n",
            "digits:  0123456789\n",
            "hexdigits:  0123456789abcdefABCDEF\n",
            "whitespace:   \t\n",
            "\r\u000b\f\n",
            "punctuation:  !\"#$%&'()*+,-./:;<=>?@[\\]^_`{|}~\n",
            "printable:  0123456789abcdefghijklmnopqrstuvwxyzABCDEFGHIJKLMNOPQRSTUVWXYZ!\"#$%&'()*+,-./:;<=>?@[\\]^_`{|}~ \t\n",
            "\r\u000b\f\n"
          ]
        }
      ],
      "source": [
        "import string\n",
        "from string import Formatter\n",
        "from string import Template\n",
        "\n",
        "# String constants\n",
        "print('ascii_letters: ',string.ascii_letters)\n",
        "print('ascii_lowercase: ',string.ascii_lowercase)\n",
        "print('ascii_uppercase: ',string.ascii_uppercase)\n",
        "print('digits: ',string.digits)\n",
        "print('hexdigits: ',string.hexdigits)\n",
        "print('whitespace: ',string.whitespace)  # ' \\t\\n\\r\\x0b\\x0c'\n",
        "print('punctuation: ',string.punctuation)\n",
        "print('printable: ',string.printable)"
      ]
    },
    {
      "cell_type": "code",
      "execution_count": 59,
      "metadata": {
        "colab": {
          "base_uri": "https://localhost:8080/"
        },
        "id": "oFTxReodb372",
        "outputId": "b197d721-b8e5-4887-de7f-0145338b7947"
      },
      "outputs": [
        {
          "output_type": "stream",
          "name": "stdout",
          "text": [
            "Hello world ds4a\n",
            "HELLO WORLD DS4A\n",
            "hello world ds4a\n",
            "123456  \n",
            "  123456\n",
            "123456\n"
          ]
        }
      ],
      "source": [
        "# Changing text\n",
        "print('hello world ds4a'.capitalize())\n",
        "print('hello world ds4a'.upper())\n",
        "print('HELLO WORLD DS4A'.lower())\n",
        "print('  123456  '.lstrip())\n",
        "print('  123456  '.rstrip())\n",
        "print('  123456  '.strip())"
      ]
    },
    {
      "cell_type": "code",
      "execution_count": 60,
      "metadata": {
        "colab": {
          "base_uri": "https://localhost:8080/"
        },
        "id": "4ROXej1Ob372",
        "outputId": "96a3a25f-df24-4f9c-f48a-f6af3ac5e394"
      },
      "outputs": [
        {
          "output_type": "stream",
          "name": "stdout",
          "text": [
            "2\n",
            "True\n",
            "False\n",
            "4\n",
            "-1\n",
            "4\n",
            "True\n",
            "True\n",
            "True\n"
          ]
        }
      ],
      "source": [
        "# Looking in text\n",
        "print('hello world ds4a'.count('o'))\n",
        "print('hello world ds4a'.endswith('a'))\n",
        "print('hello world ds4a'.startswith('a'))\n",
        "print('hello world ds4a'.find('o'))\n",
        "print('hello world ds4a'.find('z'))\n",
        "print('hello world ds4a'.index('o'))\n",
        "print('hello123'.isalnum()) # Return true if all characters in the string are alphanumeric and there is at least one character, false otherwise.\n",
        "print('123456'.isdigit()) # Return true if all characters in the string are digits and there is at least one character, false otherwise. \n",
        "print('hello'.isalpha()) # Return true if all characters in the string are alphabetic and there is at least one character, false otherwise."
      ]
    },
    {
      "cell_type": "code",
      "execution_count": 61,
      "metadata": {
        "colab": {
          "base_uri": "https://localhost:8080/"
        },
        "id": "dNteC0eyb373",
        "outputId": "1e3ee45f-4b75-4995-f39a-ac87a6f01fc8"
      },
      "outputs": [
        {
          "output_type": "stream",
          "name": "stdout",
          "text": [
            "**********************hello***********************\n",
            "0000123456\n"
          ]
        }
      ],
      "source": [
        "# Other functions\n",
        "print('hello'.center(50,'*'))\n",
        "print('123456'.zfill(10))"
      ]
    }
  ],
  "metadata": {
    "anaconda-cloud": {},
    "kernelspec": {
      "display_name": "Python 3",
      "language": "python",
      "name": "python3"
    },
    "language_info": {
      "codemirror_mode": {
        "name": "ipython",
        "version": 3
      },
      "file_extension": ".py",
      "mimetype": "text/x-python",
      "name": "python",
      "nbconvert_exporter": "python",
      "pygments_lexer": "ipython3",
      "version": "3.7.6"
    },
    "colab": {
      "name": "Data Transformation.ipynb",
      "provenance": [],
      "include_colab_link": true
    }
  },
  "nbformat": 4,
  "nbformat_minor": 0
}